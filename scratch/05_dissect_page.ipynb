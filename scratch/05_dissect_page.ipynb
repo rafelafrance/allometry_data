{
 "cells": [
  {
   "cell_type": "code",
   "execution_count": 1,
   "id": "noted-joining",
   "metadata": {},
   "outputs": [],
   "source": [
    "import sys\n",
    "sys.path.append('..')"
   ]
  },
  {
   "cell_type": "code",
   "execution_count": 2,
   "id": "alpha-person",
   "metadata": {},
   "outputs": [],
   "source": [
    "import math\n",
    "import re\n",
    "from collections import namedtuple\n",
    "from pathlib import Path\n",
    "\n",
    "import numpy as np\n",
    "from PIL import Image, ImageDraw, ImageOps\n",
    "from scipy import signal\n",
    "import pytesseract\n",
    "from pytesseract import Output\n",
    "import pandas as pd\n",
    "\n",
    "from allometry.const import DATA_DIR"
   ]
  },
  {
   "cell_type": "code",
   "execution_count": 3,
   "id": "specialized-beverage",
   "metadata": {},
   "outputs": [],
   "source": [
    "SHEET = DATA_DIR / 'allometry_sheets'\n",
    "SHEET = SHEET / 'Biomass_Fish_Families_FamilyProgram'\n",
    "# SHEET = SHEET / 'Biomass_Mollusks'\n",
    "SHEET = SHEET / '00001.tif'"
   ]
  },
  {
   "cell_type": "code",
   "execution_count": 4,
   "id": "transparent-capability",
   "metadata": {},
   "outputs": [],
   "source": [
    "MIN_PIXELS = 20\n",
    "PAD = 2\n",
    "THETA = 90.0\n",
    "PIXEL_THRESHOLD = 230\n",
    "ROW_THRESHOLD = 40\n",
    "COL_THRESHOLD = 40\n",
    "DIV = 2\n",
    "VERT_DIST = 35\n",
    "HORI_DIST = 30\n",
    "ON = 255\n",
    "OFF = 0\n",
    "MIN_PIXELS = 40"
   ]
  },
  {
   "cell_type": "code",
   "execution_count": 5,
   "id": "mechanical-community",
   "metadata": {},
   "outputs": [],
   "source": [
    "Pair = namedtuple('Row', 'low high')\n",
    "BBox = namedtuple('BBox', 'left top right bottom')"
   ]
  },
  {
   "cell_type": "markdown",
   "id": "oriented-newark",
   "metadata": {},
   "source": [
    "### Get the image"
   ]
  },
  {
   "cell_type": "code",
   "execution_count": 6,
   "id": "interpreted-wilson",
   "metadata": {},
   "outputs": [],
   "source": [
    "image = Image.open(SHEET).convert('L')\n",
    "image = image.rotate(THETA, expand=True, fillcolor='white')\n",
    "# image = image.resize((image.size[0] // DIV, image.size[1] // DIV))\n",
    "# image = image.crop((2770, 584, 2770+570, 584+365))\n",
    "\n",
    "# display(image)\n",
    "path = DATA_DIR / 'image.jpg'\n",
    "image.save(path, 'JPEG')"
   ]
  },
  {
   "cell_type": "markdown",
   "id": "composite-strand",
   "metadata": {},
   "source": [
    "### Binarize the image"
   ]
  },
  {
   "cell_type": "code",
   "execution_count": 7,
   "id": "alleged-celebration",
   "metadata": {},
   "outputs": [
    {
     "name": "stdout",
     "output_type": "stream",
     "text": [
      "(5968, 4436)\n"
     ]
    }
   ],
   "source": [
    "binary = image.point(lambda x: ON if x < PIXEL_THRESHOLD else OFF)\n",
    "print(binary.size)\n",
    "\n",
    "# display(image)\n",
    "path = DATA_DIR / 'binary.jpg'\n",
    "binary.save(path, 'JPEG')"
   ]
  },
  {
   "cell_type": "markdown",
   "id": "accepted-attribute",
   "metadata": {},
   "source": [
    "### Find rows"
   ]
  },
  {
   "cell_type": "code",
   "execution_count": 8,
   "id": "architectural-lexington",
   "metadata": {},
   "outputs": [],
   "source": [
    "data = np.array(binary) // ON\n",
    "\n",
    "proj = data.sum(axis=1)\n",
    "proj = proj < (binary.size[0] // ROW_THRESHOLD)\n",
    "proj = proj.astype(int) * ON\n",
    "\n",
    "# print(proj.size)\n",
    "# print(proj)"
   ]
  },
  {
   "cell_type": "code",
   "execution_count": 9,
   "id": "challenging-conversion",
   "metadata": {},
   "outputs": [],
   "source": [
    "proj[0] = 0\n",
    "proj[-1] = 0"
   ]
  },
  {
   "cell_type": "code",
   "execution_count": 10,
   "id": "suburban-discrimination",
   "metadata": {},
   "outputs": [],
   "source": [
    "peaks = signal.find_peaks(proj, distance=VERT_DIST, plateau_size=1)\n",
    "# print(peaks[0].shape)\n",
    "# peaks"
   ]
  },
  {
   "cell_type": "code",
   "execution_count": 18,
   "id": "homeless-wayne",
   "metadata": {},
   "outputs": [
    {
     "data": {
      "text/plain": [
       "[Row(low=4119, high=4126),\n",
       " Row(low=4198, high=4204),\n",
       " Row(low=4398, high=4404),\n",
       " Row(low=4439, high=4446),\n",
       " Row(low=4479, high=4485)]"
      ]
     },
     "execution_count": 18,
     "metadata": {},
     "output_type": "execute_result"
    }
   ],
   "source": [
    "tops = peaks[1]['right_edges']\n",
    "bots = peaks[1]['left_edges'][1:]\n",
    "pairs = [Pair(t-PAD, b+PAD) for t, b in zip(tops, bots)]\n",
    "pairs[-5:]"
   ]
  },
  {
   "cell_type": "code",
   "execution_count": 12,
   "id": "angry-arcade",
   "metadata": {},
   "outputs": [],
   "source": [
    "rows = binary.convert('RGB')\n",
    "draw = ImageDraw.Draw(rows)"
   ]
  },
  {
   "cell_type": "code",
   "execution_count": 13,
   "id": "legitimate-frequency",
   "metadata": {},
   "outputs": [],
   "source": [
    "for pair in pairs:\n",
    "    draw.line((0, pair.low, rows.size[0], pair.low), fill='cyan')\n",
    "    draw.line((0, pair.high, rows.size[0], pair.high), fill='yellow')\n",
    "\n",
    "# display(marked)\n",
    "path = DATA_DIR / 'rows.jpg'\n",
    "rows.save(path, 'JPEG')"
   ]
  },
  {
   "cell_type": "markdown",
   "id": "photographic-burner",
   "metadata": {},
   "source": [
    "### Find characters"
   ]
  },
  {
   "cell_type": "code",
   "execution_count": 14,
   "id": "governing-browser",
   "metadata": {},
   "outputs": [],
   "source": [
    "boxes = []\n",
    "\n",
    "width = binary.size[0]\n",
    "\n",
    "for row in pairs:\n",
    "    line = binary.crop((0, row.low, width, row.high))\n",
    "\n",
    "    data = np.array(line) // ON\n",
    "\n",
    "    proj = data.sum(axis=0)\n",
    "    proj = proj == 0\n",
    "    proj = proj.astype(int) * ON\n",
    "\n",
    "    proj[0] = 0\n",
    "    proj[-1] = 0\n",
    "\n",
    "    peaks = signal.find_peaks(proj, distance=HORI_DIST, plateau_size=1)\n",
    "\n",
    "    lefts = peaks[1]['right_edges']\n",
    "    rights = peaks[1]['left_edges'][1:]\n",
    "    cols = [Pair(ll-PAD, rr+PAD) for ll, rr in zip(lefts, rights)]\n",
    "\n",
    "    for col in cols:\n",
    "        box = BBox(col.low, row.low, col.high, row.high)\n",
    "        char = binary.crop(box)\n",
    "        data = np.array(char) // ON\n",
    "        pixels = np.sum(data)\n",
    "        if pixels > MIN_PIXELS:\n",
    "            boxes.append(box)"
   ]
  },
  {
   "cell_type": "markdown",
   "id": "digital-sister",
   "metadata": {},
   "source": [
    "### Show the dissection"
   ]
  },
  {
   "cell_type": "code",
   "execution_count": 15,
   "id": "concerned-cannon",
   "metadata": {},
   "outputs": [],
   "source": [
    "marked = binary.convert('RGB')\n",
    "draw = ImageDraw.Draw(marked)"
   ]
  },
  {
   "cell_type": "code",
   "execution_count": 16,
   "id": "analyzed-responsibility",
   "metadata": {},
   "outputs": [],
   "source": [
    "for box in boxes:\n",
    "    draw.rectangle((box.left, box.top, box.right, box.bottom), outline='cyan')\n",
    "\n",
    "# display(marked)\n",
    "path = DATA_DIR / 'marked.jpg'\n",
    "marked.save(path, 'JPEG')"
   ]
  },
  {
   "cell_type": "code",
   "execution_count": null,
   "id": "native-dimension",
   "metadata": {},
   "outputs": [],
   "source": []
  }
 ],
 "metadata": {
  "kernelspec": {
   "display_name": "Python 3",
   "language": "python",
   "name": "python3"
  },
  "language_info": {
   "codemirror_mode": {
    "name": "ipython",
    "version": 3
   },
   "file_extension": ".py",
   "mimetype": "text/x-python",
   "name": "python",
   "nbconvert_exporter": "python",
   "pygments_lexer": "ipython3",
   "version": "3.9.0+"
  },
  "varInspector": {
   "cols": {
    "lenName": 16,
    "lenType": 16,
    "lenVar": 40
   },
   "kernels_config": {
    "python": {
     "delete_cmd_postfix": "",
     "delete_cmd_prefix": "del ",
     "library": "var_list.py",
     "varRefreshCmd": "print(var_dic_list())"
    },
    "r": {
     "delete_cmd_postfix": ") ",
     "delete_cmd_prefix": "rm(",
     "library": "var_list.r",
     "varRefreshCmd": "cat(var_dic_list()) "
    }
   },
   "types_to_exclude": [
    "module",
    "function",
    "builtin_function_or_method",
    "instance",
    "_Feature"
   ],
   "window_display": false
  }
 },
 "nbformat": 4,
 "nbformat_minor": 5
}
