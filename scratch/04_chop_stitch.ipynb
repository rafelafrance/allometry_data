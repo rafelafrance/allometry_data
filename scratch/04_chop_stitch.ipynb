{
 "cells": [
  {
   "cell_type": "code",
   "execution_count": 1,
   "id": "absolute-flash",
   "metadata": {},
   "outputs": [],
   "source": [
    "import sys\n",
    "sys.path.append('..')\n",
    "\n",
    "from pathlib import Path\n",
    "import math\n",
    "\n",
    "import pytesseract\n",
    "from PIL import Image, ImageDraw, ImageFilter, ImageFont, ImageOps\n",
    "import tifffile\n",
    "import matplotlib.pyplot as plt\n",
    "from skimage import io\n",
    "\n",
    "from allometry.const import DATA_DIR"
   ]
  },
  {
   "cell_type": "code",
   "execution_count": 2,
   "id": "animated-squad",
   "metadata": {},
   "outputs": [],
   "source": [
    "SHEETS_DIR = DATA_DIR / 'allometry_sheets'"
   ]
  },
  {
   "cell_type": "code",
   "execution_count": 3,
   "id": "disciplinary-march",
   "metadata": {},
   "outputs": [],
   "source": [
    "dirs = sorted(SHEETS_DIR.glob('*'))"
   ]
  },
  {
   "cell_type": "code",
   "execution_count": 4,
   "id": "characteristic-removal",
   "metadata": {},
   "outputs": [],
   "source": [
    "paths = sorted(dirs[1].glob('*.tif'))"
   ]
  },
  {
   "cell_type": "code",
   "execution_count": 5,
   "id": "banner-trade",
   "metadata": {
    "scrolled": false
   },
   "outputs": [],
   "source": [
    "image = Image.open(paths[3])\n",
    "image = image.rotate(90, fillcolor='white')\n",
    "# image"
   ]
  },
  {
   "cell_type": "code",
   "execution_count": 6,
   "id": "liked-royal",
   "metadata": {},
   "outputs": [
    {
     "data": {
      "text/plain": [
       "(4428, 5952)"
      ]
     },
     "execution_count": 6,
     "metadata": {},
     "output_type": "execute_result"
    }
   ],
   "source": [
    "image.size"
   ]
  },
  {
   "cell_type": "code",
   "execution_count": 7,
   "id": "alive-tumor",
   "metadata": {},
   "outputs": [
    {
     "data": {
      "text/plain": [
       "(4608, 6144)"
      ]
     },
     "execution_count": 7,
     "metadata": {},
     "output_type": "execute_result"
    }
   ],
   "source": [
    "x, y = image.size\n",
    "x_pad = math.ceil(x / 512) * 512\n",
    "y_pad = math.ceil(y / 512) * 512\n",
    "cleaned = Image.new('L', (x_pad, y_pad), color='white')\n",
    "padded = Image.new('L', (x_pad, y_pad), color='white')\n",
    "padded.paste(image, image.getbbox())\n",
    "padded.size"
   ]
  },
  {
   "cell_type": "code",
   "execution_count": 8,
   "id": "placed-dallas",
   "metadata": {
    "scrolled": false
   },
   "outputs": [],
   "source": [
    "for x in range(0, padded.size[0], 512):\n",
    "    for y in range(0, padded.size[1], 512):\n",
    "#         print(x, y)\n",
    "        box = (x, y, x + 512, y + 512)\n",
    "        part = padded.crop(box)\n",
    "        # send to model\n",
    "        cleaned.paste(part, box)"
   ]
  },
  {
   "cell_type": "code",
   "execution_count": null,
   "id": "statistical-instrumentation",
   "metadata": {},
   "outputs": [],
   "source": []
  }
 ],
 "metadata": {
  "kernelspec": {
   "display_name": "Python 3",
   "language": "python",
   "name": "python3"
  },
  "language_info": {
   "codemirror_mode": {
    "name": "ipython",
    "version": 3
   },
   "file_extension": ".py",
   "mimetype": "text/x-python",
   "name": "python",
   "nbconvert_exporter": "python",
   "pygments_lexer": "ipython3",
   "version": "3.9.0+"
  },
  "varInspector": {
   "cols": {
    "lenName": 16,
    "lenType": 16,
    "lenVar": 40
   },
   "kernels_config": {
    "python": {
     "delete_cmd_postfix": "",
     "delete_cmd_prefix": "del ",
     "library": "var_list.py",
     "varRefreshCmd": "print(var_dic_list())"
    },
    "r": {
     "delete_cmd_postfix": ") ",
     "delete_cmd_prefix": "rm(",
     "library": "var_list.r",
     "varRefreshCmd": "cat(var_dic_list()) "
    }
   },
   "types_to_exclude": [
    "module",
    "function",
    "builtin_function_or_method",
    "instance",
    "_Feature"
   ],
   "window_display": false
  }
 },
 "nbformat": 4,
 "nbformat_minor": 5
}
