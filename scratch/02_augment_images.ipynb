{
 "cells": [
  {
   "cell_type": "markdown",
   "id": "centered-leadership",
   "metadata": {},
   "source": [
    "# Test eroding text at the edges"
   ]
  },
  {
   "cell_type": "code",
   "execution_count": 1,
   "id": "loose-integrity",
   "metadata": {},
   "outputs": [],
   "source": [
    "import sys\n",
    "sys.path.append('..')"
   ]
  },
  {
   "cell_type": "code",
   "execution_count": 2,
   "id": "positive-munich",
   "metadata": {},
   "outputs": [],
   "source": [
    "from pathlib import Path\n",
    "from random import seed\n",
    "\n",
    "import numpy as np\n",
    "from PIL import Image, ImageDraw, ImageFilter, ImageFont, ImageOps\n",
    "from tqdm import tqdm\n",
    "\n",
    "from allometry.font_util import choose_augment, BOLD, REGULAR\n",
    "from allometry.page_image import x_image, y_image"
   ]
  },
  {
   "cell_type": "code",
   "execution_count": 3,
   "id": "robust-plymouth",
   "metadata": {},
   "outputs": [],
   "source": [
    "WIDTH = 4500\n",
    "HEIGHT = 3440\n",
    "\n",
    "DATA_DIR = Path('..') / 'data'\n",
    "\n",
    "X_DIR = DATA_DIR / 'result' / 'X'\n",
    "Y_DIR = DATA_DIR / 'result' / 'Y'\n",
    "\n",
    "TEXT_DIR = DATA_DIR / 'page' / 'pool_valid'\n",
    "\n",
    "FONTS_DIR = Path('..') / 'fonts'\n",
    "\n",
    "COUNT = 10"
   ]
  },
  {
   "cell_type": "code",
   "execution_count": 4,
   "id": "grand-aquarium",
   "metadata": {},
   "outputs": [],
   "source": [
    "seed(42768)"
   ]
  },
  {
   "cell_type": "code",
   "execution_count": 5,
   "id": "therapeutic-parade",
   "metadata": {},
   "outputs": [],
   "source": [
    "def get_images():\n",
    "    xs = list(X_DIR.glob('*.jpg'))\n",
    "    ys = list(Y_DIR.glob('*.jpg'))\n",
    "    xs = xs[:COUNT]\n",
    "    ys = ys[:COUNT]\n",
    "    xs = [Image.open(x).convert('L') for x in xs]\n",
    "    ys = [Image.open(y).convert('L') for y in ys]\n",
    "    return [(x, y) for x, y in zip(xs, ys)]"
   ]
  },
  {
   "cell_type": "code",
   "execution_count": 6,
   "id": "changing-african",
   "metadata": {},
   "outputs": [],
   "source": [
    "def scan_sums(image, axis):\n",
    "    image = ImageOps.invert(image)\n",
    "\n",
    "    data = np.asarray(image).copy()\n",
    "    data[data < 128] = 0\n",
    "\n",
    "    sums = data.sum(axis=axis)\n",
    "\n",
    "    lines = []\n",
    "\n",
    "    for i, (a, b, c) in enumerate(zip(sums[:-2], sums[1:-1], sums[2:])):\n",
    "\n",
    "        if a == 0 and a < b <= c:\n",
    "            lines.extend([i+1, i+2])\n",
    "\n",
    "        if c == 0 and a >= b > c:\n",
    "            lines.extend([i, i+1])\n",
    "\n",
    "    return lines"
   ]
  },
  {
   "cell_type": "code",
   "execution_count": 7,
   "id": "numerical-fisher",
   "metadata": {},
   "outputs": [],
   "source": [
    "def erode_text(y):\n",
    "    x = np.array(y)\n",
    "\n",
    "    vert = scan_sums(y, 0)\n",
    "    horiz = scan_sums(y, 1)\n",
    "\n",
    "    for v in vert:\n",
    "        x[:, v] = 255\n",
    "\n",
    "#     for h in horiz:\n",
    "#         x[h, :] = 255\n",
    "\n",
    "    x = Image.fromarray(x)\n",
    "    return x"
   ]
  },
  {
   "cell_type": "code",
   "execution_count": 8,
   "id": "aquatic-approach",
   "metadata": {},
   "outputs": [],
   "source": [
    "def custom_filter(image):\n",
    "    \"\"\"This filter seems to degrade the image in realistic way.\"\"\"\n",
    "    image = image.filter(ImageFilter.Kernel(\n",
    "        size=(3, 3),\n",
    "        kernel=(1, 0, 1, \n",
    "                0, 0, 0, \n",
    "                1, 0, 1)\n",
    "    ))\n",
    "    return image"
   ]
  },
  {
   "cell_type": "code",
   "execution_count": 9,
   "id": "swiss-commodity",
   "metadata": {},
   "outputs": [],
   "source": [
    "images = get_images()"
   ]
  },
  {
   "cell_type": "code",
   "execution_count": 10,
   "id": "million-strike",
   "metadata": {},
   "outputs": [],
   "source": [
    "x, y = images[1]\n",
    "x = erode_text(y)\n",
    "x = custom_filter(x)\n",
    "x = x.filter(ImageFilter.MedianFilter())\n",
    "\n",
    "# display(x)"
   ]
  },
  {
   "cell_type": "code",
   "execution_count": 11,
   "id": "enclosed-validation",
   "metadata": {},
   "outputs": [],
   "source": [
    "# display(y)"
   ]
  },
  {
   "cell_type": "code",
   "execution_count": 12,
   "id": "skilled-credits",
   "metadata": {
    "scrolled": true
   },
   "outputs": [],
   "source": [
    "# for i, (x, y) in enumerate(images):\n",
    "#     print(i)\n",
    "#     display(y)"
   ]
  },
  {
   "cell_type": "code",
   "execution_count": null,
   "id": "delayed-cassette",
   "metadata": {},
   "outputs": [],
   "source": []
  }
 ],
 "metadata": {
  "kernelspec": {
   "display_name": "Python 3",
   "language": "python",
   "name": "python3"
  },
  "language_info": {
   "codemirror_mode": {
    "name": "ipython",
    "version": 3
   },
   "file_extension": ".py",
   "mimetype": "text/x-python",
   "name": "python",
   "nbconvert_exporter": "python",
   "pygments_lexer": "ipython3",
   "version": "3.9.0+"
  },
  "varInspector": {
   "cols": {
    "lenName": 16,
    "lenType": 16,
    "lenVar": 40
   },
   "kernels_config": {
    "python": {
     "delete_cmd_postfix": "",
     "delete_cmd_prefix": "del ",
     "library": "var_list.py",
     "varRefreshCmd": "print(var_dic_list())"
    },
    "r": {
     "delete_cmd_postfix": ") ",
     "delete_cmd_prefix": "rm(",
     "library": "var_list.r",
     "varRefreshCmd": "cat(var_dic_list()) "
    }
   },
   "types_to_exclude": [
    "module",
    "function",
    "builtin_function_or_method",
    "instance",
    "_Feature"
   ],
   "window_display": false
  }
 },
 "nbformat": 4,
 "nbformat_minor": 5
}
