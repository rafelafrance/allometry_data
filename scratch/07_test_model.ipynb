{
 "cells": [
  {
   "cell_type": "code",
   "execution_count": 1,
   "id": "orange-national",
   "metadata": {},
   "outputs": [],
   "source": [
    "import sys\n",
    "\n",
    "sys.path.append('..')"
   ]
  },
  {
   "cell_type": "code",
   "execution_count": 2,
   "id": "falling-ontario",
   "metadata": {},
   "outputs": [],
   "source": [
    "from collections import defaultdict, namedtuple\n",
    "\n",
    "import torch\n",
    "\n",
    "from allometry.util import finished, started\n",
    "from allometry.model_util import load_model_state, get_model\n",
    "from allometry.allometry_sheet import AllometrySheet\n",
    "from allometry.const import DATA_DIR, BBox\n",
    "from allometry.characters import IDX_TO_CHAR\n",
    "from torch.utils.data import DataLoader"
   ]
  },
  {
   "cell_type": "code",
   "execution_count": 3,
   "id": "psychological-frame",
   "metadata": {},
   "outputs": [],
   "source": [
    "MODEL_DIR = DATA_DIR / 'model'\n",
    "MODEL_STATE = 'resnext101_2021-04-08_context_c.pth'\n",
    "DEVICE = 'cuda:0'\n",
    "BATCH_SIZE = 20\n",
    "MODEL_ARCH = 'resnext101'\n",
    "WORKERS = 4\n",
    "\n",
    "SHEET = DATA_DIR / 'allometry_sheets'\n",
    "SHEET = SHEET / 'Biomass_Fish_Families_FamilyProgram'\n",
    "SHEET = SHEET / '00001.tif'\n",
    "\n",
    "Char = namedtuple('Char', 'char bbox')\n",
    "\n",
    "ROTATE = 90"
   ]
  },
  {
   "cell_type": "code",
   "execution_count": 4,
   "id": "military-ownership",
   "metadata": {},
   "outputs": [],
   "source": [
    "def get_loader():\n",
    "    \"\"\"Get the data loader.\"\"\"\n",
    "    dataset = AllometrySheet(SHEET, rotate=ROTATE)\n",
    "    return DataLoader(dataset, batch_size=BATCH_SIZE, num_workers=WORKERS)"
   ]
  },
  {
   "cell_type": "code",
   "execution_count": 5,
   "id": "characteristic-antarctica",
   "metadata": {},
   "outputs": [],
   "source": [
    "def batches(model, device, loader, page):\n",
    "    \"\"\"Test the model.\"\"\"\n",
    "    model.eval()\n",
    "    with torch.no_grad():\n",
    "        for x, box in loader:\n",
    "            x = x.to(device)\n",
    "            pred = model(x)\n",
    "            save_predictions(pred, box, page)"
   ]
  },
  {
   "cell_type": "code",
   "execution_count": 6,
   "id": "scheduled-edmonton",
   "metadata": {},
   "outputs": [],
   "source": [
    "def save_predictions(preds, boxes, page):\n",
    "    \"\"\"Save predictions for analysis.\"\"\"\n",
    "    preds = preds.cpu().numpy().copy()\n",
    "    boxes = boxes.cpu().numpy().copy()\n",
    "\n",
    "    for pred, box in zip(preds, boxes):\n",
    "        char = IDX_TO_CHAR[pred.argmax(0)]\n",
    "        bbox = BBox(*box)\n",
    "        page[bbox.top].append(Char(char, bbox))"
   ]
  },
  {
   "cell_type": "code",
   "execution_count": 7,
   "id": "genetic-hierarchy",
   "metadata": {},
   "outputs": [],
   "source": [
    "def test():\n",
    "    \"\"\"Test the neural net.\"\"\"\n",
    "    model = get_model(MODEL_ARCH)\n",
    "    load_model_state(MODEL_DIR / MODEL_STATE, model)\n",
    "\n",
    "    device = torch.device(DEVICE)\n",
    "    model.to(DEVICE)\n",
    "\n",
    "    loader = get_loader()\n",
    "\n",
    "    page = defaultdict(list)\n",
    "    batches(model, device, loader, page)\n",
    "\n",
    "    return page"
   ]
  },
  {
   "cell_type": "code",
   "execution_count": 8,
   "id": "stuck-junction",
   "metadata": {
    "scrolled": true
   },
   "outputs": [],
   "source": [
    "sheet = test()"
   ]
  },
  {
   "cell_type": "code",
   "execution_count": 9,
   "id": "pleased-filling",
   "metadata": {
    "scrolled": false
   },
   "outputs": [],
   "source": [
    "# for chars in sheet.values():\n",
    "#     line = []\n",
    "#     prev = None\n",
    "#     for curr in chars:\n",
    "#         if prev and curr.bbox.left - prev.bbox.right > 40:\n",
    "#             line.append('\\t')\n",
    "#         line.append(curr.char)\n",
    "#         prev = curr\n",
    "#     print(''.join(line))"
   ]
  },
  {
   "cell_type": "code",
   "execution_count": null,
   "id": "tropical-university",
   "metadata": {},
   "outputs": [],
   "source": []
  }
 ],
 "metadata": {
  "kernelspec": {
   "display_name": "Python 3",
   "language": "python",
   "name": "python3"
  },
  "language_info": {
   "codemirror_mode": {
    "name": "ipython",
    "version": 3
   },
   "file_extension": ".py",
   "mimetype": "text/x-python",
   "name": "python",
   "nbconvert_exporter": "python",
   "pygments_lexer": "ipython3",
   "version": "3.9.0+"
  },
  "varInspector": {
   "cols": {
    "lenName": 16,
    "lenType": 16,
    "lenVar": 40
   },
   "kernels_config": {
    "python": {
     "delete_cmd_postfix": "",
     "delete_cmd_prefix": "del ",
     "library": "var_list.py",
     "varRefreshCmd": "print(var_dic_list())"
    },
    "r": {
     "delete_cmd_postfix": ") ",
     "delete_cmd_prefix": "rm(",
     "library": "var_list.r",
     "varRefreshCmd": "cat(var_dic_list()) "
    }
   },
   "types_to_exclude": [
    "module",
    "function",
    "builtin_function_or_method",
    "instance",
    "_Feature"
   ],
   "window_display": false
  }
 },
 "nbformat": 4,
 "nbformat_minor": 5
}
