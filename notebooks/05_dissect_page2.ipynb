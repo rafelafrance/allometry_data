{
 "cells": [
  {
   "cell_type": "code",
   "execution_count": 1,
   "id": "noted-joining",
   "metadata": {},
   "outputs": [],
   "source": [
    "import sys\n",
    "sys.path.append('..')"
   ]
  },
  {
   "cell_type": "code",
   "execution_count": 2,
   "id": "alpha-person",
   "metadata": {},
   "outputs": [],
   "source": [
    "import math\n",
    "import re\n",
    "from collections import namedtuple\n",
    "from pathlib import Path\n",
    "from random import choices, choice\n",
    "\n",
    "import numpy as np\n",
    "from PIL import Image, ImageDraw, ImageOps\n",
    "import torchvision.transforms.functional as TF\n",
    "\n",
    "from allometry.const import DATA_DIR, CHARS, FONTS\n",
    "from allometry.allometry_sheet import AllometrySheet\n",
    "from allometry.training_data import TrainingData"
   ]
  },
  {
   "cell_type": "code",
   "execution_count": 3,
   "id": "specialized-beverage",
   "metadata": {},
   "outputs": [],
   "source": [
    "SHEET = DATA_DIR / 'allometry_sheets'\n",
    "SHEET = SHEET / 'Biomass_Fish_Families_FamilyProgram'\n",
    "SHEET = SHEET / '00004.tif'"
   ]
  },
  {
   "cell_type": "code",
   "execution_count": 4,
   "id": "transparent-capability",
   "metadata": {},
   "outputs": [],
   "source": [
    "THETA = 90.0"
   ]
  },
  {
   "cell_type": "markdown",
   "id": "collected-green",
   "metadata": {},
   "source": [
    "### Examine dissection boxes"
   ]
  },
  {
   "cell_type": "code",
   "execution_count": 5,
   "id": "charged-expression",
   "metadata": {},
   "outputs": [],
   "source": [
    "sheet = AllometrySheet(SHEET, rotate=THETA)"
   ]
  },
  {
   "cell_type": "code",
   "execution_count": 6,
   "id": "informed-council",
   "metadata": {},
   "outputs": [],
   "source": [
    "dissect = sheet.binary.convert('RGB')\n",
    "\n",
    "draw = ImageDraw.Draw(dissect)"
   ]
  },
  {
   "cell_type": "code",
   "execution_count": 7,
   "id": "reverse-summit",
   "metadata": {},
   "outputs": [],
   "source": [
    "for i in range(len(sheet)):\n",
    "    _, box = sheet[i]\n",
    "    draw.rectangle(box, outline=(0, 255, 255))"
   ]
  },
  {
   "cell_type": "code",
   "execution_count": 8,
   "id": "inclusive-modeling",
   "metadata": {},
   "outputs": [],
   "source": [
    "path = DATA_DIR / 'dissect.jpg'\n",
    "dissect.save(path, 'JPEG')\n",
    "# display(dissect)"
   ]
  },
  {
   "cell_type": "markdown",
   "id": "paperback-powell",
   "metadata": {},
   "source": [
    "### Examine the crop boxes"
   ]
  },
  {
   "cell_type": "code",
   "execution_count": 9,
   "id": "military-franchise",
   "metadata": {},
   "outputs": [],
   "source": [
    "rebuilt = Image.new('L', sheet.binary.size, color='black')"
   ]
  },
  {
   "cell_type": "code",
   "execution_count": 10,
   "id": "blind-mouse",
   "metadata": {},
   "outputs": [],
   "source": [
    "for i in range(len(sheet)):\n",
    "    image, box = sheet.char_image(i)\n",
    "    rebuilt.paste(image, (box.left, box.top))"
   ]
  },
  {
   "cell_type": "code",
   "execution_count": 11,
   "id": "threaded-stream",
   "metadata": {},
   "outputs": [],
   "source": [
    "path = DATA_DIR / 'rebuilt.jpg'\n",
    "rebuilt.save(path, 'JPEG')\n",
    "# display(rebuilt)"
   ]
  },
  {
   "cell_type": "markdown",
   "id": "hollow-technique",
   "metadata": {},
   "source": [
    "### Ransom note\n",
    "\n",
    "Get a rough idea of what the training data looks like to the model"
   ]
  },
  {
   "cell_type": "code",
   "execution_count": 12,
   "id": "facial-pregnancy",
   "metadata": {},
   "outputs": [],
   "source": [
    "trainer = TrainingData(0)\n",
    "ransom = Image.new('L', sheet.binary.size, color='black')"
   ]
  },
  {
   "cell_type": "code",
   "execution_count": 13,
   "id": "initial-tunnel",
   "metadata": {},
   "outputs": [],
   "source": [
    "for i in range(len(sheet)):\n",
    "    _, box = sheet.char_image(i)\n",
    "    char = choices(CHARS, TrainingData.weights)[0]\n",
    "    font_path = choice(FONTS)\n",
    "    image = trainer.char_image(char, font_path)\n",
    "    ransom.paste(image, (box.left, box.top))"
   ]
  },
  {
   "cell_type": "code",
   "execution_count": 14,
   "id": "removable-entertainment",
   "metadata": {},
   "outputs": [],
   "source": [
    "path = DATA_DIR / 'ransom.jpg'\n",
    "ransom.save(path, 'JPEG')\n",
    "# display(ransom)"
   ]
  }
 ],
 "metadata": {
  "kernelspec": {
   "display_name": "Python 3",
   "language": "python",
   "name": "python3"
  },
  "language_info": {
   "codemirror_mode": {
    "name": "ipython",
    "version": 3
   },
   "file_extension": ".py",
   "mimetype": "text/x-python",
   "name": "python",
   "nbconvert_exporter": "python",
   "pygments_lexer": "ipython3",
   "version": "3.9.0+"
  },
  "varInspector": {
   "cols": {
    "lenName": 16,
    "lenType": 16,
    "lenVar": 40
   },
   "kernels_config": {
    "python": {
     "delete_cmd_postfix": "",
     "delete_cmd_prefix": "del ",
     "library": "var_list.py",
     "varRefreshCmd": "print(var_dic_list())"
    },
    "r": {
     "delete_cmd_postfix": ") ",
     "delete_cmd_prefix": "rm(",
     "library": "var_list.r",
     "varRefreshCmd": "cat(var_dic_list()) "
    }
   },
   "types_to_exclude": [
    "module",
    "function",
    "builtin_function_or_method",
    "instance",
    "_Feature"
   ],
   "window_display": false
  }
 },
 "nbformat": 4,
 "nbformat_minor": 5
}
