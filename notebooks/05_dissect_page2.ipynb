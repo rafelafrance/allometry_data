{
 "cells": [
  {
   "cell_type": "code",
   "execution_count": 1,
   "id": "noted-joining",
   "metadata": {},
   "outputs": [],
   "source": [
    "import sys\n",
    "sys.path.append('..')\n",
    "\n",
    "from PIL import Image, ImageDraw\n",
    "import torchvision.transforms.functional as TF\n",
    "\n",
    "from allometry.const import DATA_DIR\n",
    "from allometry.allometry_sheet import AllometrySheet\n",
    "from allometry.characters import CHARS"
   ]
  },
  {
   "cell_type": "code",
   "execution_count": 2,
   "id": "transparent-capability",
   "metadata": {},
   "outputs": [],
   "source": [
    "SHEET_DIR = DATA_DIR / 'allometry_sheets'\n",
    "\n",
    "# SHEET = SHEET_DIR / 'Fish_Linear_Allometry'\n",
    "# SHEET = SHEET / '00006.tif'\n",
    "# THETA = 270.0\n",
    "\n",
    "SHEET = SHEET_DIR / 'Biomass_Fish_Families_FamilyProgram'\n",
    "SHEET = SHEET / '00014.tif'\n",
    "THETA = 90.0"
   ]
  },
  {
   "cell_type": "markdown",
   "id": "collected-green",
   "metadata": {},
   "source": [
    "### Examine dissection boxes"
   ]
  },
  {
   "cell_type": "code",
   "execution_count": 3,
   "id": "charged-expression",
   "metadata": {
    "scrolled": true
   },
   "outputs": [],
   "source": [
    "sheet = AllometrySheet(SHEET, rotate=THETA)"
   ]
  },
  {
   "cell_type": "code",
   "execution_count": 4,
   "id": "informed-council",
   "metadata": {},
   "outputs": [],
   "source": [
    "dissect = sheet.binary.convert('RGB')\n",
    "\n",
    "draw = ImageDraw.Draw(dissect)"
   ]
  },
  {
   "cell_type": "code",
   "execution_count": 5,
   "id": "reverse-summit",
   "metadata": {},
   "outputs": [],
   "source": [
    "for i in range(len(sheet)):\n",
    "    _, box = sheet[i]\n",
    "    box = box.tolist()\n",
    "    draw.rectangle(box, outline=(0, 255, 255))"
   ]
  },
  {
   "cell_type": "code",
   "execution_count": 6,
   "id": "inclusive-modeling",
   "metadata": {},
   "outputs": [],
   "source": [
    "path = DATA_DIR / 'dissect.jpg'\n",
    "dissect.save(path, 'JPEG')\n",
    "# display(dissect)"
   ]
  },
  {
   "cell_type": "markdown",
   "id": "paperback-powell",
   "metadata": {},
   "source": [
    "### Examine the crop boxes"
   ]
  },
  {
   "cell_type": "code",
   "execution_count": 7,
   "id": "military-franchise",
   "metadata": {},
   "outputs": [
    {
     "name": "stdout",
     "output_type": "stream",
     "text": [
      "3824\n"
     ]
    },
    {
     "data": {
      "image/png": "[encoded data removed]",
      "text/plain": [
       "<PIL.Image.Image image mode=L size=128x48 at 0x7FBCB4541220>"
      ]
     },
     "metadata": {},
     "output_type": "display_data"
    },
    {
     "data": {
      "image/png": "[encoded data removed]",
      "text/plain": [
       "<PIL.Image.Image image mode=L size=128x48 at 0x7FBCB4414790>"
      ]
     },
     "metadata": {},
     "output_type": "display_data"
    },
    {
     "data": {
      "image/png": "[encoded data removed]",
      "text/plain": [
       "<PIL.Image.Image image mode=L size=128x48 at 0x7FBCB44A75E0>"
      ]
     },
     "metadata": {},
     "output_type": "display_data"
    },
    {
     "data": {
      "image/png": "[encoded data removed]",
      "text/plain": [
       "<PIL.Image.Image image mode=L size=128x48 at 0x7FBB8C743C40>"
      ]
     },
     "metadata": {},
     "output_type": "display_data"
    },
    {
     "data": {
      "image/png": "[encoded data removed]",
      "text/plain": [
       "<PIL.Image.Image image mode=L size=128x48 at 0x7FBCB44A75E0>"
      ]
     },
     "metadata": {},
     "output_type": "display_data"
    },
    {
     "data": {
      "image/png": "[encoded data removed]",
      "text/plain": [
       "<PIL.Image.Image image mode=L size=128x48 at 0x7FBCB44146A0>"
      ]
     },
     "metadata": {},
     "output_type": "display_data"
    },
    {
     "data": {
      "image/png": "[encoded data removed]",
      "text/plain": [
       "<PIL.Image.Image image mode=L size=128x48 at 0x7FBCB44A7CA0>"
      ]
     },
     "metadata": {},
     "output_type": "display_data"
    },
    {
     "data": {
      "image/png": "[encoded data removed]",
      "text/plain": [
       "<PIL.Image.Image image mode=L size=128x48 at 0x7FBCB4414790>"
      ]
     },
     "metadata": {},
     "output_type": "display_data"
    },
    {
     "data": {
      "image/png": "[encoded data removed]",
      "text/plain": [
       "<PIL.Image.Image image mode=L size=128x48 at 0x7FBCB44A75E0>"
      ]
     },
     "metadata": {},
     "output_type": "display_data"
    },
    {
     "data": {
      "image/png": "[encoded data removed]",
      "text/plain": [
       "<PIL.Image.Image image mode=L size=128x48 at 0x7FBCB44146A0>"
      ]
     },
     "metadata": {},
     "output_type": "display_data"
    },
    {
     "data": {
      "image/png": "[encoded data removed]",
      "text/plain": [
       "<PIL.Image.Image image mode=L size=128x48 at 0x7FBCB44A7CA0>"
      ]
     },
     "metadata": {},
     "output_type": "display_data"
    },
    {
     "data": {
      "image/png": "[encoded data removed]",
      "text/plain": [
       "<PIL.Image.Image image mode=L size=128x48 at 0x7FBCB4414790>"
      ]
     },
     "metadata": {},
     "output_type": "display_data"
    },
    {
     "data": {
      "image/png": "[encoded data removed]",
      "text/plain": [
       "<PIL.Image.Image image mode=L size=128x48 at 0x7FBCB44A75E0>"
      ]
     },
     "metadata": {},
     "output_type": "display_data"
    },
    {
     "data": {
      "image/png": "[encoded data removed]",
      "text/plain": [
       "<PIL.Image.Image image mode=L size=128x48 at 0x7FBCB44146A0>"
      ]
     },
     "metadata": {},
     "output_type": "display_data"
    },
    {
     "data": {
      "image/png": "[encoded data removed]",
      "text/plain": [
       "<PIL.Image.Image image mode=L size=128x48 at 0x7FBCB44A7CA0>"
      ]
     },
     "metadata": {},
     "output_type": "display_data"
    },
    {
     "data": {
      "image/png": "[encoded data removed]",
      "text/plain": [
       "<PIL.Image.Image image mode=L size=128x48 at 0x7FBB8AF469D0>"
      ]
     },
     "metadata": {},
     "output_type": "display_data"
    },
    {
     "data": {
      "image/png": "[encoded data removed]",
      "text/plain": [
       "<PIL.Image.Image image mode=L size=128x48 at 0x7FBCB4541220>"
      ]
     },
     "metadata": {},
     "output_type": "display_data"
    },
    {
     "data": {
      "image/png": "[encoded data removed]",
      "text/plain": [
       "<PIL.Image.Image image mode=L size=128x48 at 0x7FBB8C743C40>"
      ]
     },
     "metadata": {},
     "output_type": "display_data"
    },
    {
     "data": {
      "image/png": "[encoded data removed]",
      "text/plain": [
       "<PIL.Image.Image image mode=L size=128x48 at 0x7FBCB44A7CA0>"
      ]
     },
     "metadata": {},
     "output_type": "display_data"
    },
    {
     "data": {
      "image/png": "[encoded data removed]",
      "text/plain": [
       "<PIL.Image.Image image mode=L size=128x48 at 0x7FBCB4414790>"
      ]
     },
     "metadata": {},
     "output_type": "display_data"
    }
   ],
   "source": [
    "print(len(sheet.chars))\n",
    "\n",
    "start = 250\n",
    "end = start + 20\n",
    "\n",
    "for i in range(start, end):\n",
    "    data, box = sheet[i]\n",
    "    image = TF.to_pil_image(data)\n",
    "    display(image)"
   ]
  },
  {
   "cell_type": "code",
   "execution_count": 8,
   "id": "blind-mouse",
   "metadata": {},
   "outputs": [],
   "source": [
    "# for i in range(len(sheet)):\n",
    "#     image, box = sheet.char_image(i)\n",
    "#     rebuilt.paste(image, (box.left, box.top))"
   ]
  },
  {
   "cell_type": "code",
   "execution_count": 9,
   "id": "threaded-stream",
   "metadata": {},
   "outputs": [],
   "source": [
    "# path = DATA_DIR / 'rebuilt.jpg'\n",
    "# rebuilt.save(path, 'JPEG')\n",
    "# display(rebuilt)"
   ]
  },
  {
   "cell_type": "code",
   "execution_count": 10,
   "id": "removable-entertainment",
   "metadata": {},
   "outputs": [],
   "source": [
    "# path = DATA_DIR / 'ransom.jpg'\n",
    "# ransom.save(path, 'JPEG')\n",
    "# # display(ransom)"
   ]
  }
 ],
 "metadata": {
  "kernelspec": {
   "display_name": "Python 3",
   "language": "python",
   "name": "python3"
  },
  "language_info": {
   "codemirror_mode": {
    "name": "ipython",
    "version": 3
   },
   "file_extension": ".py",
   "mimetype": "text/x-python",
   "name": "python",
   "nbconvert_exporter": "python",
   "pygments_lexer": "ipython3",
   "version": "3.9.0+"
  },
  "varInspector": {
   "cols": {
    "lenName": 16,
    "lenType": 16,
    "lenVar": 40
   },
   "kernels_config": {
    "python": {
     "delete_cmd_postfix": "",
     "delete_cmd_prefix": "del ",
     "library": "var_list.py",
     "varRefreshCmd": "print(var_dic_list())"
    },
    "r": {
     "delete_cmd_postfix": ") ",
     "delete_cmd_prefix": "rm(",
     "library": "var_list.r",
     "varRefreshCmd": "cat(var_dic_list()) "
    }
   },
   "types_to_exclude": [
    "module",
    "function",
    "builtin_function_or_method",
    "instance",
    "_Feature"
   ],
   "window_display": false
  }
 },
 "nbformat": 4,
 "nbformat_minor": 5
}
