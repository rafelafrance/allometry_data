{
 "cells": [
  {
   "cell_type": "code",
   "execution_count": 1,
   "id": "noted-joining",
   "metadata": {},
   "outputs": [],
   "source": [
    "import sys\n",
    "sys.path.append('..')"
   ]
  },
  {
   "cell_type": "code",
   "execution_count": 2,
   "id": "alpha-person",
   "metadata": {},
   "outputs": [],
   "source": [
    "import math\n",
    "import re\n",
    "from collections import namedtuple\n",
    "from pathlib import Path\n",
    "from random import choices\n",
    "\n",
    "import numpy as np\n",
    "from PIL import Image, ImageDraw, ImageOps\n",
    "import torchvision.transforms.functional as TF\n",
    "\n",
    "from allometry.const import DATA_DIR, CHARS\n",
    "from allometry.allometry_sheet import AllometrySheet\n",
    "from allometry.training_data import TrainingData"
   ]
  },
  {
   "cell_type": "code",
   "execution_count": 3,
   "id": "specialized-beverage",
   "metadata": {},
   "outputs": [],
   "source": [
    "SHEET = DATA_DIR / 'allometry_sheets'\n",
    "SHEET = SHEET / 'Biomass_Fish_Families_FamilyProgram'\n",
    "SHEET = SHEET / '00004.tif'"
   ]
  },
  {
   "cell_type": "code",
   "execution_count": 4,
   "id": "transparent-capability",
   "metadata": {},
   "outputs": [],
   "source": [
    "THETA = 90.0"
   ]
  },
  {
   "cell_type": "markdown",
   "id": "recent-catch",
   "metadata": {},
   "source": [
    "### Examine dissection boxes"
   ]
  },
  {
   "cell_type": "code",
   "execution_count": 5,
   "id": "dominant-agenda",
   "metadata": {},
   "outputs": [],
   "source": [
    "sheet = AllometrySheet(SHEET, rotate=THETA)"
   ]
  },
  {
   "cell_type": "code",
   "execution_count": 6,
   "id": "informed-council",
   "metadata": {},
   "outputs": [],
   "source": [
    "marked = sheet.binary.convert('RGB')\n",
    "\n",
    "draw = ImageDraw.Draw(marked)"
   ]
  },
  {
   "cell_type": "code",
   "execution_count": 7,
   "id": "realistic-netscape",
   "metadata": {},
   "outputs": [],
   "source": [
    "for i in range(len(sheet)):\n",
    "    _, box = sheet[i]\n",
    "    draw.rectangle(box, outline=(0, 255, 255))"
   ]
  },
  {
   "cell_type": "code",
   "execution_count": 8,
   "id": "likely-argument",
   "metadata": {},
   "outputs": [],
   "source": [
    "path = DATA_DIR / 'marked.jpg'\n",
    "marked.save(path, 'JPEG')\n",
    "# display(marked)"
   ]
  },
  {
   "cell_type": "markdown",
   "id": "hazardous-exhibition",
   "metadata": {},
   "source": [
    "### Examine the crop boxes"
   ]
  },
  {
   "cell_type": "code",
   "execution_count": 9,
   "id": "mighty-column",
   "metadata": {},
   "outputs": [],
   "source": [
    "rebuilt = Image.new('L', sheet.binary.size, color='black')"
   ]
  },
  {
   "cell_type": "code",
   "execution_count": 10,
   "id": "blessed-beauty",
   "metadata": {},
   "outputs": [],
   "source": [
    "for i in range(len(sheet)):\n",
    "    image, box = sheet.char_image(i)\n",
    "    rebuilt.paste(image, (box.left, box.top))"
   ]
  },
  {
   "cell_type": "code",
   "execution_count": 11,
   "id": "adaptive-underwear",
   "metadata": {},
   "outputs": [],
   "source": [
    "path = DATA_DIR / 'rebuilt.jpg'\n",
    "rebuilt.save(path, 'JPEG')\n",
    "# display(rebuilt)"
   ]
  },
  {
   "cell_type": "markdown",
   "id": "identified-collins",
   "metadata": {},
   "source": [
    "### Ransom note\n",
    "\n",
    "Get a rough idea of what the training data looks like to the model"
   ]
  },
  {
   "cell_type": "code",
   "execution_count": 12,
   "id": "excessive-junior",
   "metadata": {},
   "outputs": [],
   "source": [
    "trainer = TrainingData(0)\n",
    "ransom = Image.new('L', sheet.binary.size, color='black')"
   ]
  },
  {
   "cell_type": "code",
   "execution_count": 13,
   "id": "optional-input",
   "metadata": {},
   "outputs": [],
   "source": [
    "for i in range(len(sheet)):\n",
    "    _, box = sheet.char_image(i)\n",
    "    char = choices(CHARS, TrainingData.weights)[0]\n",
    "    image = trainer.char_image(char)\n",
    "    ransom.paste(image, (box.left, box.top))"
   ]
  },
  {
   "cell_type": "code",
   "execution_count": 14,
   "id": "governing-barbados",
   "metadata": {},
   "outputs": [],
   "source": [
    "path = DATA_DIR / 'ransom.jpg'\n",
    "ransom.save(path, 'JPEG')\n",
    "# display(ransom)"
   ]
  }
 ],
 "metadata": {
  "kernelspec": {
   "display_name": "Python 3",
   "language": "python",
   "name": "python3"
  },
  "language_info": {
   "codemirror_mode": {
    "name": "ipython",
    "version": 3
   },
   "file_extension": ".py",
   "mimetype": "text/x-python",
   "name": "python",
   "nbconvert_exporter": "python",
   "pygments_lexer": "ipython3",
   "version": "3.9.0+"
  },
  "varInspector": {
   "cols": {
    "lenName": 16,
    "lenType": 16,
    "lenVar": 40
   },
   "kernels_config": {
    "python": {
     "delete_cmd_postfix": "",
     "delete_cmd_prefix": "del ",
     "library": "var_list.py",
     "varRefreshCmd": "print(var_dic_list())"
    },
    "r": {
     "delete_cmd_postfix": ") ",
     "delete_cmd_prefix": "rm(",
     "library": "var_list.r",
     "varRefreshCmd": "cat(var_dic_list()) "
    }
   },
   "types_to_exclude": [
    "module",
    "function",
    "builtin_function_or_method",
    "instance",
    "_Feature"
   ],
   "window_display": false
  }
 },
 "nbformat": 4,
 "nbformat_minor": 5
}
