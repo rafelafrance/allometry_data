{
 "cells": [
  {
   "cell_type": "code",
   "execution_count": 1,
   "id": "falling-ontario",
   "metadata": {},
   "outputs": [],
   "source": [
    "import sys\n",
    "sys.path.append('..')"
   ]
  },
  {
   "cell_type": "code",
   "execution_count": 2,
   "id": "powered-leader",
   "metadata": {},
   "outputs": [],
   "source": [
    "import argparse\n",
    "import logging\n",
    "import textwrap\n",
    "from collections import defaultdict, namedtuple\n",
    "from datetime import date\n",
    "from os import makedirs\n",
    "from pathlib import Path\n",
    "from random import seed\n",
    "\n",
    "import numpy as np\n",
    "import torch\n",
    "import torch.optim as optim\n",
    "from torch import nn\n",
    "from torch.utils.data import DataLoader\n",
    "from torch.utils.tensorboard import SummaryWriter\n",
    "from torchvision import models\n",
    "from tqdm import tqdm\n",
    "\n",
    "from allometry.const import CHARS, DATA_DIR, CLASS_TO_CHAR\n",
    "from allometry.allometry_sheet import AllometrySheet\n",
    "from allometry.model_util import load_state, get_model\n",
    "from allometry.util import finished, started"
   ]
  },
  {
   "cell_type": "code",
   "execution_count": 3,
   "id": "psychological-frame",
   "metadata": {},
   "outputs": [],
   "source": [
    "STATE_DIR = DATA_DIR / 'state'\n",
    "STATE = 'best_resnext101_2021-04-05_c.pth'\n",
    "DEVICE = 'cuda:0'\n",
    "BATCH_SIZE = 32\n",
    "WORKERS = 4\n",
    "MODEL = 'resnext101'\n",
    "\n",
    "SHEET = DATA_DIR / 'allometry_sheets'\n",
    "SHEET = SHEET / 'Biomass_Fish_Families_FamilyProgram'\n",
    "SHEET = SHEET / '00004.tif'\n",
    "\n",
    "ROTATE = 90"
   ]
  },
  {
   "cell_type": "code",
   "execution_count": 4,
   "id": "global-birthday",
   "metadata": {},
   "outputs": [],
   "source": [
    "BBox = namedtuple('BBox', 'left top right bottom')\n",
    "Char = namedtuple('Char', 'char bbox')"
   ]
  },
  {
   "cell_type": "code",
   "execution_count": 5,
   "id": "military-ownership",
   "metadata": {},
   "outputs": [],
   "source": [
    "def get_loader():\n",
    "    \"\"\"Get the data loader.\"\"\"\n",
    "    dataset = AllometrySheet(SHEET, rotate=ROTATE)\n",
    "    return DataLoader(dataset, batch_size=BATCH_SIZE, num_workers=WORKERS)"
   ]
  },
  {
   "cell_type": "code",
   "execution_count": 6,
   "id": "characteristic-antarctica",
   "metadata": {},
   "outputs": [],
   "source": [
    "def batches(model, device, loader, page):\n",
    "    \"\"\"Test the model.\"\"\"\n",
    "    model.eval()\n",
    "    with torch.no_grad():\n",
    "        for x, box in loader:\n",
    "            x = x.to(device)\n",
    "            pred = model(x)\n",
    "            save_predictions(x, pred, box, page)"
   ]
  },
  {
   "cell_type": "code",
   "execution_count": 7,
   "id": "scheduled-edmonton",
   "metadata": {},
   "outputs": [],
   "source": [
    "def save_predictions(x_s, preds, boxes, page):\n",
    "    \"\"\"Save predictions for analysis.\"\"\"\n",
    "    preds = preds.cpu().numpy().copy()\n",
    "    lefts = boxes.left.cpu().numpy().copy()\n",
    "    tops = boxes.top.cpu().numpy().copy()\n",
    "    rights = boxes.right.cpu().numpy().copy()\n",
    "    bottoms = boxes.bottom.cpu().numpy().copy()\n",
    "\n",
    "    for pred, left, top, right, bottom in zip(preds, lefts, tops, rights, bottoms):\n",
    "        char = CLASS_TO_CHAR[pred.argmax(0)]\n",
    "        bbox = BBox(left, top, right, bottom)\n",
    "        page[top].append(Char(char, bbox))"
   ]
  },
  {
   "cell_type": "code",
   "execution_count": 8,
   "id": "genetic-hierarchy",
   "metadata": {},
   "outputs": [],
   "source": [
    "def test():\n",
    "    \"\"\"Test the neural net.\"\"\"\n",
    "    model = get_model(MODEL)\n",
    "    load_state(STATE_DIR, STATE, model)\n",
    "\n",
    "    device = torch.device(DEVICE)\n",
    "    model.to(DEVICE)\n",
    "\n",
    "    loader = get_loader()\n",
    "\n",
    "    page = defaultdict(list)\n",
    "    batches(model, device, loader, page)\n",
    "\n",
    "    return page"
   ]
  },
  {
   "cell_type": "code",
   "execution_count": 9,
   "id": "stuck-junction",
   "metadata": {},
   "outputs": [],
   "source": [
    "page = test()"
   ]
  },
  {
   "cell_type": "code",
   "execution_count": 10,
   "id": "pleased-filling",
   "metadata": {
    "scrolled": false
   },
   "outputs": [
    {
     "name": "stdout",
     "output_type": "stream",
     "text": [
      "--------------------------------------------------------\n",
      "S\tT\tA\tT\tI\tS\tT\tI\tC\tA\tL\tA\tN\tA\tL\tY\tS\tI\tS\tS\tY\tS\tT\tE\tM\t5\n",
      "14$52\tWEDNESDAY.\tDECEMBER\t19.\t1979\n",
      "GENERAL\tLINEAR\tMODELS\tPROCEDURE\n",
      "DEPENDENT\tVARIA9LE$\tBIOLOG\n",
      "O9SERVATION\tOHSERVED\tPREDICTED\tRES(DUAL\tLOWER\t95%\tCL\tUPPER\t95%\tCL\n",
      "VALUF\tVALUE\tIND1VIDUAL\tINDIVIDUAL\n",
      "48\t-0.41797664\t-0.24469947\t-0.17724717\t-0.69556891\t0.20618997\n",
      "49\t-1.05407930\t-0.97691026\t-0.07712904\t-1.42659930\t-0.52722122\n",
      "50\t-1.2471O357\t-1.10989618\t-0.13728739\t-1.55993934\t-0.65985303\n",
      "51\t-1.67264408\t-1.568215Q1\t-0.06442907\t-2.02081407\t-1.11561594\n",
      "52\t-0.55595520\t-0.49205337\t-0.06J90I83\t-C.94193674\t-0.0421700Q\n",
      "53\t0.12483015\t0.43249837\t-0.3O766822\t-0.02416529\t0.88916203\n",
      "54\t-0.$1745288\t-0.11294318\t-Q.00Q50970\t-0.56459698\t0.37871262\n",
      "55\t-Q.68824614\t-0.66932736\t-0.01891878\t-1.118O6921\t-0.2197O551\n",
      "56\t-.6O205999\t-0.60340994\t0.Q0134995\t-1.05304239\t-0.15377748\n",
      "57\t-0.60205999\t-0.65277259\t0.05071260\t-1.10233315\t-0.20321204\n",
      "58\t-0.63827216\t-0.61456107\t-0.023711Q9\t-1.06417517\t-0.16494697\n",
      "59\t-1.76195390\t-2.08685795\t0*32490406\t-2.54480678\t-1.62890913\n",
      "60\t-0.55501889\t-0.67697634\t0.Q8195745\t-1.08655727\t-0*18739541\n",
      "61\t-0.51541547\t-0.54492672\t0.02951125\t-0.99467563\t-0.09517781\n",
      "62\t-1.4907974O\t-1.46901514\t-0.02178234\t-1.92088640\t-1.01714388\n",
      "63\t-0.795377$9\t-0.80214706\t0.00680957\t-1.25163770\t-0.35265682\n",
      "64\t-1.65560773\t-1.60862950\t-Q.04677827\t-2.06175417\t-1.15590483\n",
      "65\t-1.75448773\t-1.65487441\t-C.09961292\t-2.10818758\t-1.2C156125\n",
      "66\t-Q.05799195\t-0.27015139\t0.17215944\t-0.68110814\t0.22080536\n",
      "67\t-0.76955$08\t-0.8I0557O7\t0.041O0676\t-1.26005070\t-0.36106497\n",
      "68\t-C.75696195\t-0.75558322\t-0.00137873\t-1.20507163\t-O.30609482\n",
      "69\t-O.47664779\t-0.6169OC90\t0.$4033711\t-1.06659118\t-0.16737O62\n",
      "70\t-0.34688401\t-0.53140245\tC*18451844\t-0.98118312\t-0.08162178\n",
      "71\t-Q.29679463\t-0.50938489\tO.21259O26\t-0.95922$17\t-0.05954865\n",
      "72\t-1.26921772\t-1.2300Q091\t-0.Q3921681\t-1.68051418\t-0.77948765\n",
      "77\t-0.7798919$\t-0.O7599C56\t0.C9609865\t-1.725527O4\t-0.42645329\n",
      "74\t-1.42250820\t-Q.91987680\t-0.50267140\t-1.36942760\t-Q.470246Q0\n",
      "75\t-1.21183163\t-$.21592448\t0.00409286\t-1.66677529\t-O.76547768\n",
      "76\t-1.24412514\t-1.27604583\t0.03192058\t-1.72677705\t-0.8253146Q\n",
      "77\t-1.51144928\t-1.41586019\t-0.09558910\t-1.86738099\t-0.96433979\n",
      "78\t-1.85387196\t-1.77089833\t-Q.08297367\t-2.2252812O\t-A.3165153O\n",
      "79\t-2.236572Q1\t-2*32597218\tQ.0893O017\t-2.78714205\t-1.06460231\n",
      "80\t0.05499586\t-0*15894788\t0.21394375\t-0.61031324\t0.29241748\n",
      "81\t-1.56543110\t-1.49901881\t-0.06641229\t-1.951100O7\t-1.04693754\n",
      "82\t-$.434$5218\t-1.31055707\t-0.12359511\t-1.76146534\t-0.8596488O\n",
      "83\t-1.72124640\t-1.65487441\t-0.06637198\t-2.10818758\t-1.20156125\n",
      "84\t-1.84771166\t-1.77089833\t-0.07681332\t-2.22528128\t-1.31651538\n",
      "85\t-1.78781240\t-1.77089833\t-06C1691406\t-2.22528128\t-1.3165153O\n",
      "86\t.\t.\t-0.34337982\t.\t-0.79374963\t0.10707Q00\n",
      "87\t-0.49485Q02\t-0.46174612\t-0.03350390\t-0.91172028\t-Q.01137196\n",
      "88\t-0.08079898\t-0.16027695\t0.079O3797\t-0.61159447\t0.29112057\n",
      "89\t-0.77105639\t-0.12293880\t-C.6489176O\t-0.57452973\tO.32O65213\n",
      "90\t-0.7675$213\t-0.8063268O\t0.07881467\t-1.25581826\t-0.35683535\n",
      "91\t-0.68O99394\t-0.82357163\t0.14267769\t-1.27306994\t-0.37407332\n",
      "92\t0.00000000\t-0.14507738\t0.14507739\t-0.59652813\t0.30637336\n",
      "93\t-C.56793735\t-0*61096287\t0*04712551\t-1.06Q58276\t-0.16134298\n",
      "94\t-Q.84163751\t-0.84O78599\t0.00714848\t-1.29O29964\t-O.39927274\n",
      "95\t-1.05C60999\t-1.07154284\t0.02093285\t-1.52146591\t-0.6216197O\n",
      "96\t-1.05700041\t-0.67757802\t-O.17946278\t-1.32707666\t-0.42799918\n",
      "97\t-1.11492162\t-1.10989618\t-0.00502543\t-1.55993934\t-0.65985303\n",
      "98\t-1.81958737\t-1.49901881\t-0.32056056\t-1.95110007\t-1.04693754\n",
      "99\t-0.C9826971\t-0.30888087\t0.21061156\t-0.75944784\t0.14160209\n",
      "100\t-0.09826931\t-0.30888087\tQ.21061156\t-Q.759443O4\t0.1416O209\n",
      "101\t-C.00722564\t-Q.15339585\t0.14617022\t-0.60479517\t0.29800346\n",
      "102\t-0.32148$62\t-0.40841214\tQ.00693052\t-0.85856471\t0.04174042\n",
      "103\t-0.32149162\t-0.48205775\t0.16057613\t-0.93196965\t-0.07214596\n",
      "104\t-0.49C7974O\t-0.516569Q0\t0.02577152\t-0.9663965O\t-0.06675141\n",
      "105\t-0.06398920\t-0.525764O7\t0.46177566\t-0.97555931\t-0.07597042\n",
      "1Q6\t-0.78887946\t-Q.63697634\t-0.15190312\t-1.08655727\t-0.18739541\n",
      "107\t-0.86496775\t-0.77807976\t-0.08678759\t-1.22756637\t-0.72859716\n",
      "108\t-0.97881C70\t-0.89178682\t-Q.08702388\t-1.74134118\t-0.44227246\n",
      "1C9\t-0.93930216\t-0.8Q214706\t-0*13715510\t-1.25163730\t-0.75265682\n",
      "110\t-0.99139987\t-0.88117599\t-0.11022J83\t-1.33071861\t-0.4316773O\n",
      "111\t-1.22914799\t-1.22289O88\t-0.00625711\t-1.67337235\t-0.77240940\n",
      "112\t-0.74569367\t-,.62683370\t-0.11885996\t-1.07642903\t-0.17723O36\n",
      "113\t-1.0555$773\t-0.845001O7\t-0.21051546\t-1.294512O1\t-0.79549Q92\n",
      "114\t-0.54060751\t-0.70503073\t0.16442722\t-1.15454150\t-0.25551996\n",
      "115\tQ.01502426\t-0.1519Q290\t0.16696716\t-O.60335114\t0.29946535\n"
     ]
    }
   ],
   "source": [
    "for chars in page.values():\n",
    "    line = []\n",
    "    prev = None\n",
    "    for curr in chars:\n",
    "        if prev and curr.bbox.left - prev.bbox.right > 40:\n",
    "            line.append('\\t')\n",
    "        line.append(curr.char)\n",
    "        prev = curr\n",
    "    print(''.join(line))"
   ]
  },
  {
   "cell_type": "code",
   "execution_count": null,
   "id": "tropical-university",
   "metadata": {},
   "outputs": [],
   "source": []
  }
 ],
 "metadata": {
  "kernelspec": {
   "display_name": "Python 3",
   "language": "python",
   "name": "python3"
  },
  "language_info": {
   "codemirror_mode": {
    "name": "ipython",
    "version": 3
   },
   "file_extension": ".py",
   "mimetype": "text/x-python",
   "name": "python",
   "nbconvert_exporter": "python",
   "pygments_lexer": "ipython3",
   "version": "3.9.0+"
  },
  "varInspector": {
   "cols": {
    "lenName": 16,
    "lenType": 16,
    "lenVar": 40
   },
   "kernels_config": {
    "python": {
     "delete_cmd_postfix": "",
     "delete_cmd_prefix": "del ",
     "library": "var_list.py",
     "varRefreshCmd": "print(var_dic_list())"
    },
    "r": {
     "delete_cmd_postfix": ") ",
     "delete_cmd_prefix": "rm(",
     "library": "var_list.r",
     "varRefreshCmd": "cat(var_dic_list()) "
    }
   },
   "types_to_exclude": [
    "module",
    "function",
    "builtin_function_or_method",
    "instance",
    "_Feature"
   ],
   "window_display": false
  }
 },
 "nbformat": 4,
 "nbformat_minor": 5
}
