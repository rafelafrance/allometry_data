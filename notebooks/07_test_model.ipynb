{
 "cells": [
  {
   "cell_type": "code",
   "execution_count": 1,
   "id": "falling-ontario",
   "metadata": {},
   "outputs": [],
   "source": [
    "import sys\n",
    "sys.path.append('..')"
   ]
  },
  {
   "cell_type": "code",
   "execution_count": 2,
   "id": "powered-leader",
   "metadata": {},
   "outputs": [],
   "source": [
    "import argparse\n",
    "import logging\n",
    "import textwrap\n",
    "from collections import defaultdict, namedtuple\n",
    "from datetime import date\n",
    "from os import makedirs\n",
    "from pathlib import Path\n",
    "from random import seed\n",
    "\n",
    "import numpy as np\n",
    "import torch\n",
    "import torch.optim as optim\n",
    "from torch import nn\n",
    "from torch.utils.data import DataLoader\n",
    "from torch.utils.tensorboard import SummaryWriter\n",
    "from torchvision import models\n",
    "from tqdm import tqdm\n",
    "\n",
    "from allometry.const import CHARS, DATA_DIR, CLASS_TO_CHAR\n",
    "from allometry.allometry_sheet import AllometrySheet\n",
    "from allometry.model_util import load_state, get_model\n",
    "from allometry.util import finished, started"
   ]
  },
  {
   "cell_type": "code",
   "execution_count": 3,
   "id": "psychological-frame",
   "metadata": {},
   "outputs": [],
   "source": [
    "STATE_DIR = DATA_DIR / 'state'\n",
    "STATE = 'best_resnet34_2021-04-04_a.pth'\n",
    "DEVICE = 'cuda:0'\n",
    "BATCH_SIZE = 32\n",
    "WORKERS = 4\n",
    "MODEL = 'resnet34'\n",
    "\n",
    "SHEET = DATA_DIR / 'allometry_sheets'\n",
    "SHEET = SHEET / 'Biomass_Fish_Families_FamilyProgram'\n",
    "SHEET = SHEET / '00004.tif'\n",
    "\n",
    "ROTATE = 90"
   ]
  },
  {
   "cell_type": "code",
   "execution_count": 4,
   "id": "global-birthday",
   "metadata": {},
   "outputs": [],
   "source": [
    "BBox = namedtuple('BBox', 'left top right bottom')\n",
    "Char = namedtuple('Char', 'char bbox')"
   ]
  },
  {
   "cell_type": "code",
   "execution_count": 5,
   "id": "military-ownership",
   "metadata": {},
   "outputs": [],
   "source": [
    "def get_loader():\n",
    "    \"\"\"Get the data loader.\"\"\"\n",
    "    dataset = AllometrySheet(SHEET, rotate=ROTATE)\n",
    "    return DataLoader(dataset, batch_size=BATCH_SIZE, num_workers=WORKERS)"
   ]
  },
  {
   "cell_type": "code",
   "execution_count": 6,
   "id": "characteristic-antarctica",
   "metadata": {},
   "outputs": [],
   "source": [
    "def batches(model, device, loader, page):\n",
    "    \"\"\"Test the model.\"\"\"\n",
    "    model.eval()\n",
    "    with torch.no_grad():\n",
    "        for x, box in loader:\n",
    "            x = x.to(device)\n",
    "            pred = model(x)\n",
    "            save_predictions(x, pred, box, page)"
   ]
  },
  {
   "cell_type": "code",
   "execution_count": 7,
   "id": "scheduled-edmonton",
   "metadata": {},
   "outputs": [],
   "source": [
    "def save_predictions(x_s, preds, boxes, page):\n",
    "    \"\"\"Save predictions for analysis.\"\"\"\n",
    "    preds = preds.cpu().numpy().copy()\n",
    "    lefts = boxes.left.cpu().numpy().copy()\n",
    "    tops = boxes.top.cpu().numpy().copy()\n",
    "    rights = boxes.right.cpu().numpy().copy()\n",
    "    bottoms = boxes.bottom.cpu().numpy().copy()\n",
    "\n",
    "    for pred, left, top, right, bottom in zip(preds, lefts, tops, rights, bottoms):\n",
    "        char = CLASS_TO_CHAR[pred.argmax(0)]\n",
    "        bbox = BBox(left, top, right, bottom)\n",
    "        page[top].append(Char(char, bbox))"
   ]
  },
  {
   "cell_type": "code",
   "execution_count": 8,
   "id": "genetic-hierarchy",
   "metadata": {},
   "outputs": [],
   "source": [
    "def test():\n",
    "    \"\"\"Test the neural net.\"\"\"\n",
    "    model = get_model(MODEL)\n",
    "    load_state(STATE_DIR, STATE, model)\n",
    "\n",
    "    device = torch.device(DEVICE)\n",
    "    model.to(DEVICE)\n",
    "\n",
    "    loader = get_loader()\n",
    "\n",
    "    page = defaultdict(list)\n",
    "    batches(model, device, loader, page)\n",
    "\n",
    "    return page"
   ]
  },
  {
   "cell_type": "code",
   "execution_count": 9,
   "id": "stuck-junction",
   "metadata": {},
   "outputs": [],
   "source": [
    "page = test()"
   ]
  },
  {
   "cell_type": "code",
   "execution_count": 10,
   "id": "pleased-filling",
   "metadata": {
    "scrolled": false
   },
   "outputs": [
    {
     "name": "stdout",
     "output_type": "stream",
     "text": [
      "--------------------------------------------------------\n",
      "S\tT\tA\tT\tI\tS\tT\tI\tC\tA\tL\tA\tN\tA\tL\tY\tS\tI\tS\tS\tY\tS\tT\tE\tM\t5\n",
      "14:52\tMEDNESDAY0\tDECEMBER\t190\t1979\n",
      "GENERAL\tLINEAR\tMCDELS\tPRLCEDURE\n",
      "DEPENDENT\tVARIA3LE$\tBIOLOG\n",
      "OOSERVATION\tOBSERVED\tPREDICTFD\tRESIDUAL\tLOMER\t95%\tCL\tUPPER\t95%\tCL\n",
      "V4LUF\tVALUE\tIND1VIDU4L\tINDIVIDUAL\n",
      "48\t=08417936O4\t-0624464947\t-0617324717\t-O859556891\t062061B997\n",
      "49\t-16054O3930\t-0697691026\t-06O77129O4\t-164265993O\t=O652722122\n",
      "50\t-1624718357\t-161O989618\t-0813728739\t-1655993934\t-O6659853O3\n",
      "51\t-16532644O8\t=16558215O1\t-O8O64429O7\t-26O2O814O7\t-1811561594\n",
      "52\t=985559552O\t-06492O5337\t-O6O639O183\t=O694193674\t-O604217O00\n",
      "53\t0812483015\t0843249837\t-OG3O766622\t-06O2416529\t06O8916203\n",
      "54\t-061134528B\t=O811294318\t-O800O50970\t-0656459898\tO633671262\n",
      "55\t-0668O24614\t-066693273U\t-O601891878\t-1811OO6921\t=0821978551\n",
      "56\t465D2O5999\t-06U034O994\t060O134995\t-18O53O4239\t-O615377748\n",
      "57\t-0660205999\t-O665277259\tO6O5O7126O\t=161O233315\t=O8203212O4\n",
      "5O\t-0663827216\t=06F1456107\t-O6O23711O9\t-16O6417517\t=O616494697\n",
      "59\t-1676195390\t=2808685795\tO63249O4O6\t-26S44BO678\t=186289O913\n",
      "UO\t-06555O1889\t-0663697634\tO8O8195745\t-1808655727\t=0818739541\n",
      "U1\t-0651541547\t-0654492672\t08O2951125\t=O699467563\t=O6O9517781\n",
      "62\t-1649O79748\t-164U901514\t-O602178234\t-1692O8B64O\t-16O1714388\n",
      "F3\t-0679533749\t-086021470F\t069068O957\t=162516373O\t=O635265U82\n",
      "U4\t-18O55U0773\t-186088295O\t-08O4677823\t-8606175417\t-161559O483\n",
      "65\t-1875448733\t-1855487441\t-08O996129P\t=261O81875B\t-162O156125\n",
      "66\t-O605799195\t-0823O15139\tO817215944\t-O66811O814\t062208O536\n",
      "67\t-067U955108\t-068I0557O3\t06041O0676\t-16260O5O70\t-O6361O6497\n",
      "66\t-O675U96195\t-O87555B322\t-O60O137873\t=1820507163\t=083O609482\n",
      "69\t-O647U64379\t-O86169809O\t0614O33711\t-1606659118\t-O816737O62\n",
      "70\t-0634649401\t-O65314O245\tC818451844\t-O698118312\t-O608162178\n",
      "71\t-O629679463\t-085O938489\tO6P1259O26\t=0895922113\t-O605954865\n",
      "72\t=1626921772\t-162300OO91\t-C603921681\t-1658051418\t-O87794B765\n",
      "73\t-0677989191\t-06O7599056\tO609609865\t-1632552784\t-O842645329\n",
      "74\t-164225082O\t-O891983680\t-O650267140\t-163694276O\t-06470246D0\n",
      "75\t-16P1183163\t-182159244A\tO60O409286\t-1666637529\t-O67654736B\n",
      "76\t-1624412514\t-1827604583\t06O319205B\t=16726777O5\t=0882531460\n",
      "77\t=1651144928\t-1841586O19\t-O6O955891O\t=18A673BO99\t-0696433939\n",
      "78\t-1685387196\t-1877089833\t-O608297363\t-2622528128\t=1631651538\n",
      "79\t-2623657201\t-2832587218\tO6OB93OO17\t=26787142O5\t=168646O231\n",
      "A0\tO6O5499586\t-9815894788\tO621394375\t=O861O31324\tO629241748\n",
      "81\t=1656543110\t-1849901881\t-06O664I229\t=169511O0O7\t=1604693754\n",
      "B2\t-16434$5218\t-1631O55707\t-0812359511\t-1876146534\t-O6B59U488O\n",
      "83\t-1672124640\t-1865487441\t=O8O6637198\t-261O81A758\t=182O156125\n",
      "84\t-1684771166\t-1677O89B33\t=O8O7681332\t=2622528128\t=1831651538\n",
      "B5\t-167B78124O\t=1677O89833\t-O8C16914O6\t=262252A128\t=1831651538\n",
      "86\t*\t6\t=063433Z982\t8\t-0679374963\t061O707OOO\n",
      "87\t-0849485002\t-0846134612\t-O6O335O390\t=O691132028\t-O601137196\n",
      "A8\t-O60AO39898\t-O615023695\t08C7983797\t-O861159447\tO629112057\n",
      "A9\t-0677185639\t-061829388O\t-C864B9176O\t=O657452973\tO832O65213\n",
      "9O\t-0676751213\t-068O63268O\t08O3881467\t-1625581826\t-08356B3535\n",
      "91\t-O668989394\t-9882357163\tO814267769\t-16273O6994\t=O6374O7332\n",
      "92\t089O00000O\t-O81450773B\tO814507739\t-O859652813\t063O637336\n",
      "93\t=C856393735\t-0861096287\t0804712551\t-1606O58276\t=0616134298\n",
      "94\t-O6B4163751\t-0684878599\t0600714848\t=1629829964\t-0639927234\n",
      "95\t=1805C60999\t-16O71542B4\tO6O2O93285\t=1652146591\t=O662161978\n",
      "96\t-1605790O41\t-06O7753A02\t-0617946238\t-18327O7666\t-O642799918\n",
      "97\t-1811492162\t=181098961B\t-O60O5O2543\t=1655993934\t-08659853O3\n",
      "9B\t=1881958737\t-18499O1B81\t-O832O56856\t-1695110OO7\t-1604U93754\n",
      "99\t-06C9826931\t-O63O8A8O87\tO821D61156\t-O6759443B4\tO6141682O9\n",
      "100\t-0809826931\t-0630888O87\t062I0U1156\t=Q6759443O4\t061416O209\n",
      "1O1\t=0600722564\t-O815339585\tO814617O22\t-O66O479517\tO8298O0346\n",
      "1O2\t-O832148162\t-O840841214\tO8O8693O52\t=O8B5856471\tO6O4174O42\n",
      "103\t=0632149162\t-08482O5775\tO816O5761Z\t=O69319U9U5\t-08032145B6\n",
      "1O4\t-0649O79748\t-9851656900\t0802577152\t-0896639658\t-08O6675141\n",
      "1O5\t-08O639892O\t-O8525764O7\t0846177566\t-0697555931\t-08O7597042\n",
      "1O6\t=0678887946\t=O663697634\t-061519O318\t-1608655727\t-081B739541\n",
      "1O7\t-0685496735\t-0877B07976\t-080B678759\t-1622756637\t-O632859316\n",
      "1O8\t-O697881070\t-0889178682\t-O608702388\t=1834134118\t-O844223246\n",
      "1C9\t=069393O216\t-0680214706\t-O81371551O\t-1825163730\t-0635265682\n",
      "11O\t-O699139983\t-O8AA117599\t-O611022383\t-1633O71861\t-O6431U3338\n",
      "111\t-1622914799\t-1622289O88\t-06OD625711\t=1667337235\t-O67724O940\n",
      "112\t=0674569757\t-C8U268337O\t-O6I18B5996\t-16O76429O3\t-O617723B38\n",
      "113\t-180555I733\t-06B45OO187\t-0821051546\t-1629451281\t-0639549092\n",
      "114\t=0854060751\t=067O5O3O73\tO616442322\t=161545415O\t-O625551996\n",
      "115\tO6015O242F\t-O61519429O\t061669U716\t-O86O335114\t0629946535\n"
     ]
    }
   ],
   "source": [
    "for chars in page.values():\n",
    "    line = []\n",
    "    prev = None\n",
    "    for curr in chars:\n",
    "        if prev and curr.bbox.left - prev.bbox.right > 40:\n",
    "            line.append('\\t')\n",
    "        line.append(curr.char)\n",
    "        prev = curr\n",
    "    print(''.join(line))"
   ]
  },
  {
   "cell_type": "code",
   "execution_count": null,
   "id": "suspended-rover",
   "metadata": {},
   "outputs": [],
   "source": []
  },
  {
   "cell_type": "code",
   "execution_count": null,
   "id": "pressed-newark",
   "metadata": {},
   "outputs": [],
   "source": []
  },
  {
   "cell_type": "code",
   "execution_count": null,
   "id": "tropical-university",
   "metadata": {},
   "outputs": [],
   "source": []
  }
 ],
 "metadata": {
  "kernelspec": {
   "display_name": "Python 3",
   "language": "python",
   "name": "python3"
  },
  "language_info": {
   "codemirror_mode": {
    "name": "ipython",
    "version": 3
   },
   "file_extension": ".py",
   "mimetype": "text/x-python",
   "name": "python",
   "nbconvert_exporter": "python",
   "pygments_lexer": "ipython3",
   "version": "3.9.0+"
  },
  "varInspector": {
   "cols": {
    "lenName": 16,
    "lenType": 16,
    "lenVar": 40
   },
   "kernels_config": {
    "python": {
     "delete_cmd_postfix": "",
     "delete_cmd_prefix": "del ",
     "library": "var_list.py",
     "varRefreshCmd": "print(var_dic_list())"
    },
    "r": {
     "delete_cmd_postfix": ") ",
     "delete_cmd_prefix": "rm(",
     "library": "var_list.r",
     "varRefreshCmd": "cat(var_dic_list()) "
    }
   },
   "types_to_exclude": [
    "module",
    "function",
    "builtin_function_or_method",
    "instance",
    "_Feature"
   ],
   "window_display": false
  }
 },
 "nbformat": 4,
 "nbformat_minor": 5
}
