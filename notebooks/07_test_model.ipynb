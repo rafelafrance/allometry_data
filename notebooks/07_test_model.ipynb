{
 "cells": [
  {
   "cell_type": "code",
   "execution_count": 1,
   "id": "falling-ontario",
   "metadata": {},
   "outputs": [],
   "source": [
    "import sys\n",
    "sys.path.append('..')"
   ]
  },
  {
   "cell_type": "code",
   "execution_count": 2,
   "id": "powered-leader",
   "metadata": {},
   "outputs": [],
   "source": [
    "import argparse\n",
    "import logging\n",
    "import textwrap\n",
    "from collections import defaultdict, namedtuple\n",
    "from datetime import date\n",
    "from os import makedirs\n",
    "from pathlib import Path\n",
    "from random import seed\n",
    "\n",
    "import numpy as np\n",
    "import torch\n",
    "import torch.optim as optim\n",
    "from torch import nn\n",
    "from torch.utils.data import DataLoader\n",
    "from torch.utils.tensorboard import SummaryWriter\n",
    "from torchvision import models\n",
    "from tqdm import tqdm\n",
    "\n",
    "from allometry.const import CHARS, DATA_DIR, CLASS_TO_CHAR\n",
    "from allometry.allometry_sheet import AllometrySheet\n",
    "from allometry.model_util import load_state, get_model\n",
    "from allometry.util import finished, started"
   ]
  },
  {
   "cell_type": "code",
   "execution_count": 3,
   "id": "psychological-frame",
   "metadata": {},
   "outputs": [],
   "source": [
    "STATE_DIR = DATA_DIR / 'state'\n",
    "STATE = 'best_resnext101_2021-04-05_c.pth'\n",
    "DEVICE = 'cuda:0'\n",
    "BATCH_SIZE = 32\n",
    "WORKERS = 4\n",
    "MODEL = 'resnext101'\n",
    "\n",
    "SHEET = DATA_DIR / 'allometry_sheets'\n",
    "SHEET = SHEET / 'Biomass_Fish_Families_FamilyProgram'\n",
    "SHEET = SHEET / '00004.tif'\n",
    "\n",
    "ROTATE = 90"
   ]
  },
  {
   "cell_type": "code",
   "execution_count": 4,
   "id": "global-birthday",
   "metadata": {},
   "outputs": [],
   "source": [
    "BBox = namedtuple('BBox', 'left top right bottom')\n",
    "Char = namedtuple('Char', 'char bbox')"
   ]
  },
  {
   "cell_type": "code",
   "execution_count": 5,
   "id": "military-ownership",
   "metadata": {},
   "outputs": [],
   "source": [
    "def get_loader():\n",
    "    \"\"\"Get the data loader.\"\"\"\n",
    "    dataset = AllometrySheet(SHEET, rotate=ROTATE)\n",
    "    return DataLoader(dataset, batch_size=BATCH_SIZE, num_workers=WORKERS)"
   ]
  },
  {
   "cell_type": "code",
   "execution_count": 6,
   "id": "characteristic-antarctica",
   "metadata": {},
   "outputs": [],
   "source": [
    "def batches(model, device, loader, page):\n",
    "    \"\"\"Test the model.\"\"\"\n",
    "    model.eval()\n",
    "    with torch.no_grad():\n",
    "        for x, box in loader:\n",
    "            x = x.to(device)\n",
    "            pred = model(x)\n",
    "            save_predictions(x, pred, box, page)"
   ]
  },
  {
   "cell_type": "code",
   "execution_count": 7,
   "id": "scheduled-edmonton",
   "metadata": {},
   "outputs": [],
   "source": [
    "def save_predictions(x_s, preds, boxes, page):\n",
    "    \"\"\"Save predictions for analysis.\"\"\"\n",
    "    preds = preds.cpu().numpy().copy()\n",
    "    lefts = boxes.left.cpu().numpy().copy()\n",
    "    tops = boxes.top.cpu().numpy().copy()\n",
    "    rights = boxes.right.cpu().numpy().copy()\n",
    "    bottoms = boxes.bottom.cpu().numpy().copy()\n",
    "\n",
    "    for pred, left, top, right, bottom in zip(preds, lefts, tops, rights, bottoms):\n",
    "        char = CLASS_TO_CHAR[pred.argmax(0)]\n",
    "        bbox = BBox(left, top, right, bottom)\n",
    "        page[top].append(Char(char, bbox))"
   ]
  },
  {
   "cell_type": "code",
   "execution_count": 8,
   "id": "genetic-hierarchy",
   "metadata": {},
   "outputs": [],
   "source": [
    "def test():\n",
    "    \"\"\"Test the neural net.\"\"\"\n",
    "    model = get_model(MODEL)\n",
    "    load_state(STATE_DIR, STATE, model)\n",
    "\n",
    "    device = torch.device(DEVICE)\n",
    "    model.to(DEVICE)\n",
    "\n",
    "    loader = get_loader()\n",
    "\n",
    "    page = defaultdict(list)\n",
    "    batches(model, device, loader, page)\n",
    "\n",
    "    return page"
   ]
  },
  {
   "cell_type": "code",
   "execution_count": 9,
   "id": "stuck-junction",
   "metadata": {},
   "outputs": [],
   "source": [
    "page = test()"
   ]
  },
  {
   "cell_type": "code",
   "execution_count": 10,
   "id": "pleased-filling",
   "metadata": {
    "scrolled": false
   },
   "outputs": [
    {
     "name": "stdout",
     "output_type": "stream",
     "text": [
      "-----------------------------------------------------=--\n",
      "S\tT\tA\tT\tI\tS\tT\tI\tC\tA\tL\tA\tN\tA\tL\tY\tS\tI\tS\tS\tY\tS\tT\tE\tM\t5\n",
      "14:52\tWEDNESDAY.\tDECEMBER\t19.\t1979\n",
      "GENERAL\tLINEAR\tMODELS\tPRCCEDURF\n",
      "DEPENDENT\tVARIABLE:\tBIOLOG\n",
      "OPSEHVATION\tOBSERVED\tPPEDICTED\tRES(DUAL\tLOWER\t95%\tCL\tUPPER\t95%\tCL\n",
      "VALUF\tVALUE\tIND1VIDUAL\tINDIVIDUAL\n",
      "48\t-Q.41797664\t-0.24469947\t-Q.17324717\t-0.69556891\t0.20616997\n",
      "49\t-1.054Q3930\t-0.97691026\t-0.07712904\t-1.42659930\t-O.52722122\n",
      "5Q\t-1.2471O357\t-1.10989618\t-0.13728739\t-1.55993934\t-O.65985303\n",
      "51\t-1.67264408\t-1.568215Q1\t-Q.06442907\t-2.02Q81407\t-1.11561594\n",
      "52\t-0.55595520\t-0.492Q5337\t-Q.Q6390I83\t-C.94193674\t-0.0421700Q\n",
      "53\t0.12483015\tQ*43249837\t-0.3O766822\t-Q.Q2416529\t0.88916203\n",
      "54\t-Q.$1345288\t-0.11294318\t-Q.Q0Q5097C\t-Q.56459898\t0.33871262\n",
      "55\t-Q.68824614\t-O.66932736\t-Q.C1891878\t-1.11886921\t-0.21978551\n",
      "56\t-.6C205999\t-0.60340994\tQ.Q0134995\t-1.O5304239\t-Q.15377748\n",
      "57\t-0.60205999\t-0.65277259\t0.05071260\t-1.10233315\t-O*20321204\n",
      "58\t-0.63827216\t-0.61456107\t-Q.C23711Q9\t-1.06417517\t-0.16494697\n",
      "59\t-1.76195390\t-2*08685795\tQ*3249Q406\t-2.54480678\t-1.6289Q913\n",
      "60\t-Q.555Q1889\t-Q.63697634\tQ.Q8195745\t-1.08655727\t-Q*18739541\n",
      "61\t-0.51541547\t-0.54492672\t0*02951125\t-0.99467563\t-0.09517781\n",
      "62\t-1.49079748\t-1.46901514\t-0.02178234\t-1.9208B640\t-1.01714388\n",
      "63\t-0.795337$9\t-0.80214706\tC.006B0957\t-1.25163730\t-0.35265682\n",
      "64\t-1.65560773\t-1.60862950\t-Q.Q4677827\t-2.06175417\t-1.15590483\n",
      "65\t-1.75448773\t-1.65487441\t-C.09961292\t-2.10818758\t-1.2C156125\n",
      "66\t-Q.Q5799195\t-O.23Q15139\tQ.17215944\t-Q.681$0814\t0.22080536\n",
      "67\t-0.7695%$08\t-0.8IQ557O3\t0.Q41O0676\t-1.26005070\t-0.36106497\n",
      "68\t-C.75696195\t-0.75558Z22\t-0.QQ137873\t-1.205Q7163\t-O.3O609482\n",
      "69\t-Q.47664379\t-0.6169OC9O\t0.$4Q33711\t-1.06659118\t-0.16737Q62\n",
      "70\t-0.34689401\t-0.5314Q245\tC*18451844\t-Q.98118312\t-0.08162178\n",
      "71\t-Q.29679463\t-0.5O938489\tO.21259O26\t-Q.95922$13\t-0.05954865\n",
      "72\t-1.26921772\t-1.2300Q091\t-C.Q3921681\t-1.68051418\t-0.77948765\n",
      "73\t-0.7798919$\t-0.C7599C56\tO.C9609865\t-1.325527O4\t-O.42645329\n",
      "74\t-1.42250820\t-Q.91987680\t-0.50267140\t-1.36942760\t-Q.470246Q0\n",
      "75\t-1.21183163\t-$.2159244B\t0.00409286\t-1.66637529\t-O.76547368\n",
      "76\t-1.24412514\t-1.27604583\t0.O3192058\t-1.72677705\t-C.8253146Q\n",
      "77\t-1.51144928\t-1.41586019\t-0.0955891O\t-1.86738099\t-Q.96433939\n",
      "78\t-1.85387196\t-1.77089B33\t-Q.0829736Z\t-2.22528128\t-1.3165153O\n",
      "79\t-2.236572Q1\t-2*32597218\tQ.0893Q017\t-2.78714205\t-1.06460231\n",
      "80\tQ.Q5499586\t-0*15894788\tQ.21394375\t-Q.61Q31324\t0.29241748\n",
      "81\t-1.56543110\t-1.49901881\t-0.Q6641229\t-1.9511Q0O7\t-1.04693754\n",
      "82\t-$.434$5218\t-1.31055707\t-0.$2359511\t-1.76146534\t-0.8596488Q\n",
      "83\t-1.72124640\t-1.65487441\t-0.06637198\t-2.10818758\t-1*20156125\n",
      "84\t-1.84771166\t-1.77Q89833\t-0*O7681332\t-2.22528128\t-1.31651538\n",
      "85\t-1.78781240\t-1.77O89833\t-0*C1691406\t-2*2252P128\t-1*3165153O\n",
      "86\t*\t.\t-0.34337982\t.\t-0.79374963\tQ.107Q7Q00\n",
      "87\t-Q.49485QQ2\t-0.46134612\t-Q.Q335Q39O\t-Q.91172028\t-Q.01137196\n",
      "88\t-0.08039898\t-0.16023695\tQ.C7983797\t-Q.61159447\tO.29112Q57\n",
      "89\t-0.771B5639\t-0.1229388Q\t-C.6489176O\t-Q.57452973\tO.32865213\n",
      "90\t-0.7675$213\t-0.8063268O\t0.Q3881467\t-1.25581826\t-0.35683535\n",
      "91\t-0.68O89394\t-0.82357163\t0.14267769\t-1.27306994\t-0.37407332\n",
      "92\t0.000000Q0\t-0.145Q7738\t0.14507739\t-0.59652813\t0.30637336\n",
      "93\t-C.56393735\t-0*61096287\tQ*04712551\t-1.06Q58276\t-C.16$34298\n",
      "94\t-Q.84163751\t-0.84078599\t0.00714848\t-1.29829964\t-Q.39927234\n",
      "95\t-1.05C60999\t-1.07154284\tO.Q2Q93285\t-1.52146591\t-O.62161978\n",
      "96\t-1.05700041\t-C.677538C2\t-O.17946238\t-1.327C7666\t-0.42799918\n",
      "97\t-1.11492162\t-1*1098961B\t-0.QQ502543\t-1.55993934\t-Q.65985303\n",
      "98\t-1*81958737\t-1.499Q1881\t-0.32Q56056\t-1.95110007\t-1.04693754\n",
      "99\t-0.C9826931\t-0.30888087\tO.21061156\t-O.75944784\tO.14160209\n",
      "1Q0\t-0.09826931\t-0.3Q888Q87\tC.2$Q61156\t-Q.75944364\t0.14168209\n",
      "101\t-C.00722564\t-Q.15339585\t0.$4617022\t-Q.60479517\tQ.29800346\n",
      "1Q2\t-0.32148$62\t-O*40841214\tQ.00693Q52\t-0.85856471\tO.O4174042\n",
      "1Q3\t-Q.32149162\t-0.482Q5775\t0.16O57613\t-0.93196965\t-0.03214596\n",
      "1Q4\t-0.49Q79748\t-0.516569Q0\tQ.Q2577152\t-Q.96639650\t-0.C6675141\n",
      "1C5\t-0.06398920\t-0.52576487\tQ.46177566\t-0.97555931\t-C.07597042\n",
      "1Q6\t-0.78887946\t-Q.63697634\t-0.15190312\t-1.Q8655727\t-C.18739541\n",
      "1Q7\t-0.86496775\t-0.778Q7976\t-0.08678759\t-1.22756637\t-0.72859316\n",
      "1Q8\t-0.97881C70\t-0.89178682\t-Q.087Q2388\t-1.34134118\t-O*44223246\n",
      "1C9\t-Q.93930216\t-0.8Q2147Q6\t-Q*1371551Q\t-1.25163730\t-0.35265682\n",
      "11Q\t-0.99139987\t-0.88117599\t-0.11022J83\t-1.33071861\t-0.4316733O\n",
      "111\t-1.22914799\t-1.22289Q88\t-0.OQ625711\t-1.67337235\t-0.7724094Q\n",
      "112\t-0.74569367\t-Q.6268337Q\t-0.11885996\t-1.07642903\t-0.17723838\n",
      "113\t-1*0555$773\t-0.B45Q0187\t-Q.210515$6\t-1.29451281\t-Q.39549Q92\n",
      "114\t-0.54060751\t-0.7Q5Q3Q73\t0.16442322\t-1.15454150\t-0.25551996\n",
      "115\tQ.Q1502426\t-0.1519Q290\t0.$6696716\t-O.60335114\tQ.29946535\n"
     ]
    }
   ],
   "source": [
    "for chars in page.values():\n",
    "    line = []\n",
    "    prev = None\n",
    "    for curr in chars:\n",
    "        if prev and curr.bbox.left - prev.bbox.right > 40:\n",
    "            line.append('\\t')\n",
    "        line.append(curr.char)\n",
    "        prev = curr\n",
    "    print(''.join(line))"
   ]
  },
  {
   "cell_type": "code",
   "execution_count": null,
   "id": "tropical-university",
   "metadata": {},
   "outputs": [],
   "source": []
  }
 ],
 "metadata": {
  "kernelspec": {
   "display_name": "Python 3",
   "language": "python",
   "name": "python3"
  },
  "language_info": {
   "codemirror_mode": {
    "name": "ipython",
    "version": 3
   },
   "file_extension": ".py",
   "mimetype": "text/x-python",
   "name": "python",
   "nbconvert_exporter": "python",
   "pygments_lexer": "ipython3",
   "version": "3.9.0+"
  },
  "varInspector": {
   "cols": {
    "lenName": 16,
    "lenType": 16,
    "lenVar": 40
   },
   "kernels_config": {
    "python": {
     "delete_cmd_postfix": "",
     "delete_cmd_prefix": "del ",
     "library": "var_list.py",
     "varRefreshCmd": "print(var_dic_list())"
    },
    "r": {
     "delete_cmd_postfix": ") ",
     "delete_cmd_prefix": "rm(",
     "library": "var_list.r",
     "varRefreshCmd": "cat(var_dic_list()) "
    }
   },
   "types_to_exclude": [
    "module",
    "function",
    "builtin_function_or_method",
    "instance",
    "_Feature"
   ],
   "window_display": false
  }
 },
 "nbformat": 4,
 "nbformat_minor": 5
}
