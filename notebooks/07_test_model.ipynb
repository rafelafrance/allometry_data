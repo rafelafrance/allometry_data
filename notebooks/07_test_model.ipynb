{
 "cells": [
  {
   "cell_type": "code",
   "execution_count": 1,
   "id": "perceived-football",
   "metadata": {},
   "outputs": [],
   "source": [
    "import sys\n",
    "sys.path.append('..')"
   ]
  },
  {
   "cell_type": "code",
   "execution_count": 2,
   "id": "neural-miami",
   "metadata": {},
   "outputs": [],
   "source": [
    "import argparse\n",
    "import logging\n",
    "import textwrap\n",
    "from collections import defaultdict, namedtuple\n",
    "from datetime import date\n",
    "from os import makedirs\n",
    "from pathlib import Path\n",
    "from random import seed\n",
    "\n",
    "import numpy as np\n",
    "import torch\n",
    "import torch.optim as optim\n",
    "from torch import nn\n",
    "from torch.utils.data import DataLoader\n",
    "from torch.utils.tensorboard import SummaryWriter\n",
    "from torchvision import models\n",
    "from tqdm import tqdm\n",
    "\n",
    "from allometry.const import CHARS, DATA_DIR, CLASS_TO_CHAR\n",
    "from allometry.allometry_sheet import AllometrySheet\n",
    "from allometry.util import finished, started"
   ]
  },
  {
   "cell_type": "code",
   "execution_count": 3,
   "id": "charitable-panama",
   "metadata": {},
   "outputs": [],
   "source": [
    "STATE = DATA_DIR / 'state' / 'best_resnet50_2021-04-03_a.pth'\n",
    "DEVICE = 'cuda:0'\n",
    "BATCH_SIZE = 16\n",
    "WORKERS = 4\n",
    "MODEL = 'resnet50'\n",
    "\n",
    "SHEET = DATA_DIR / 'allometry_sheets'\n",
    "SHEET = SHEET / 'Biomass_Fish_Families_FamilyProgram'\n",
    "SHEET = SHEET / '00004.tif'\n",
    "\n",
    "ROTATE = 90"
   ]
  },
  {
   "cell_type": "code",
   "execution_count": 4,
   "id": "incorrect-shape",
   "metadata": {},
   "outputs": [],
   "source": [
    "BBox = namedtuple('BBox', 'left top right bottom')\n",
    "Char = namedtuple('Char', 'char bbox')"
   ]
  },
  {
   "cell_type": "code",
   "execution_count": 5,
   "id": "structured-military",
   "metadata": {},
   "outputs": [],
   "source": [
    "def get_model(_):\n",
    "    \"\"\"Get the model to use.\"\"\"\n",
    "    model = models.resnet50()\n",
    "    model.conv1 = nn.Conv2d(\n",
    "        1, 64, kernel_size=(7, 7), stride=(2, 2), padding=(3, 3), bias=False)\n",
    "    model.fc = nn.Linear(model.fc.in_features, len(CHARS))\n",
    "    # print(model)\n",
    "    return model"
   ]
  },
  {
   "cell_type": "code",
   "execution_count": 6,
   "id": "found-crime",
   "metadata": {},
   "outputs": [],
   "source": [
    "def get_loader():\n",
    "    \"\"\"Get the data loader.\"\"\"\n",
    "    dataset = AllometrySheet(SHEET, rotate=ROTATE)\n",
    "    return DataLoader(dataset, batch_size=BATCH_SIZE, num_workers=WORKERS)"
   ]
  },
  {
   "cell_type": "code",
   "execution_count": 7,
   "id": "fuzzy-tablet",
   "metadata": {},
   "outputs": [],
   "source": [
    "def batches(model, device, loader, page):\n",
    "    \"\"\"Test the model.\"\"\"\n",
    "    model.eval()\n",
    "    with torch.no_grad():\n",
    "        for x, box in loader:\n",
    "            x = x.to(device)\n",
    "            pred = model(x)\n",
    "            save_predictions(x, pred, box, page)"
   ]
  },
  {
   "cell_type": "code",
   "execution_count": 8,
   "id": "linear-consideration",
   "metadata": {},
   "outputs": [],
   "source": [
    "def save_predictions(x_s, preds, boxes, page):\n",
    "    \"\"\"Save predictions for analysis.\"\"\"\n",
    "    preds = preds.cpu().numpy().copy()\n",
    "    lefts = boxes.left.cpu().numpy().copy()\n",
    "    tops = boxes.top.cpu().numpy().copy()\n",
    "    rights = boxes.right.cpu().numpy().copy()\n",
    "    bottoms = boxes.bottom.cpu().numpy().copy()\n",
    "\n",
    "    for pred, left, top, right, bottom in zip(preds, lefts, tops, rights, bottoms):\n",
    "        char = CLASS_TO_CHAR[pred.argmax(0)]\n",
    "        bbox = BBox(left, top, right, bottom)\n",
    "        page[top].append(Char(char, bbox))"
   ]
  },
  {
   "cell_type": "code",
   "execution_count": 9,
   "id": "auburn-chemical",
   "metadata": {},
   "outputs": [],
   "source": [
    "def test():\n",
    "    \"\"\"Test the neural net.\"\"\"\n",
    "    model = get_model(MODEL)\n",
    "    state = torch.load(STATE)\n",
    "    model.load_state_dict(state)\n",
    "\n",
    "    device = torch.device(DEVICE)\n",
    "    model.to(DEVICE)\n",
    "\n",
    "    loader = get_loader()\n",
    "\n",
    "    page = defaultdict(list)\n",
    "    batches(model, device, loader, page)\n",
    "\n",
    "    return page"
   ]
  },
  {
   "cell_type": "code",
   "execution_count": 10,
   "id": "rural-kenya",
   "metadata": {},
   "outputs": [],
   "source": [
    "page = test()"
   ]
  },
  {
   "cell_type": "code",
   "execution_count": 14,
   "id": "south-anderson",
   "metadata": {
    "scrolled": false
   },
   "outputs": [
    {
     "name": "stdout",
     "output_type": "stream",
     "text": [
      "-------------------------------------------------------------------\t-\n",
      "S\tT\tA\tT\tI\tS\tT\tI\tC\tA\tL\tA\tN\tA\tL\tY\tS\tI\tS\tS\tY\tS\tT\tE\tM\t5\n",
      "^\t14:52\tWEDNESDAY4\tDECEMBER\t190\t19^79\n",
      "GENERAL-\tLINEAR\tMODELS\tPROCEDURE\n",
      "DEPENDENT\tVARIA9LE:\tOIO1-OG\n",
      "O8SERVATION\tONSERVED\tPPEDICTED\tRESIDL)AL\tLOWER\t95%\tCL\t1JPPER\t95%\tC^L\n",
      "VALUE\tVALUE\tIN^DIVIDUAL\tINDIVIDUAL\n",
      "48\t-0441793664\t-0024469947\t-0017324717\t-0069556891\t0420618997\n",
      "49\t--1405403930\t-0497691026\t-0407^712904\t--1442659930\t-0852722122\n",
      "50\t--1424718357\t-1410989618\t-04137287^39\t-1455993934\t-0465985303\n",
      "51\t-1863264408\t--1456821501\t-0406442907\t--200208I4O7\t-I811561594.\n",
      "52\t-0455^595520\t-0449205337\t-0806390183\t-049-4193674\t-040421^7000\n",
      "53\t0412483015\t0443249837\t-0430766822\t-0402416529\t0488916203\n",
      "54\t--0411345288\t-0411294318\t-0400050970\t-0056459898\t04338^712-62\n",
      "55\t-0868824614\t-0466932736\t-0401891878\t-1411886921\t-0421978551\n",
      "56\t4060205999\t-0460340994\t0400134995\t-1405304239\t--0415377748\n",
      "57\t-0460205999\t--0065277259\t0405071260\t-1410233315\t-0=20321204\n",
      "58\t-0463827216\t-0461456107\t-0402371109\t-1406417517\t-0416494697\n",
      "59\t-147619^5390\t-2409685795\t0432490406\t-2054480678\t--1462890913\n",
      "60\t-0055501889\t-0463697634\t0408195745\t-1008655727\t--0=18739541\n",
      "61\t--0451541547\t-04544926^72\t0402951125\t-0499467563\t--0=09517781\n",
      "62\t-1449079748\t-1446901514\t-0802178234\t-1492088640\t--1401^714388\n",
      "63\t-0479533749\t-0480214706\t0400680957\t--182516373O\t-O835265682\n",
      "64\t-1465560773\t-1460882950\t-C404677823\t-2006175417\t--1415590483\n",
      "65\t-I475448733\t--1065.487441\t--0409961292\t-2410818758\t-1420156125\n",
      "66\t-0405^799195\t-0423015139\t0417215944\t-0868110814\t0822080536\n",
      "67\t-0476955108\t-048I055783\t0404100676\t-1026005070\t-04361O6497\n",
      "68\t-0075696195\t--04^75558322\t-000013^7873\t-14?0507163\t-043O609482\n",
      "69\t-004^7664379\t-0461698090\t0014033711\t-1006659118\t-0416737062\n",
      "70\t-0034649401\t--O053140245\t041B451844\t-0498118312\t-0408162178\n",
      "71\t-0029679463\t--045093848^9\t04212:59026\t-0495922113\t-04059^54865\n",
      "72\t-1426921772\t-1023000091\t-0003921681\t-1468051-418\t-0477948765\n",
      "73\t-0477989191\t-04C7599056\t0009609865\t-I432552784\t-0842645329\n",
      "74\t-1442250820\t-0491983680\t--0450267140\t-1436942^760\t-0047024600\n",
      "75\t-102118.J163\t-142159244A\t0400409286\t-1066637529\t-0876547368\n",
      "76\t-1024412514\t-1827604583\t0003192068\t-1072677705\t-0482531460\n",
      "77\t-1451144928\t-1441586019\t-O409558910\t-1886738099\t--0496433939\n",
      "78\t-1485387196\t-1477089833\t-0408297363\t--2022528128\t-1431651538\n",
      "79\t-2423657201\t--2432597218\t0408930017\t-2078714205\t-1086460231\n",
      "80\t0005499596\t-0415894788\t04213943^75\t-0461031324\t0429241748\n",
      "81\t-1456543110\t-1449901881\t-0406641229\t-1095110007\t-1004693754\n",
      "82\t-144341S218\t-1431055%707\t-0412359511\t-1476146534\t-0485964880\n",
      "83\t-1872124640\t--1465487441\t-040663^7198\t-2410818758\t--1420156125\n",
      "84\t-1484771166\t--10%77089833\t-04076813^32\t-2022528128\t-1431651538\n",
      "85\t--1078781240\t-1077089833\t-0401691406\t--202252A128\t--1431651538\n",
      "86\t$\t4\t-043433.3982\t4\t-0079374963\t0410707000\n",
      "87\t--0449-485002\t-0846134612\t--0003350390\t-0091132028\t-040113^7196\n",
      "88\t-0408039898\t-041602^3695\t04C7983%797\t-0061159447\tO429112057\t-\n",
      "89\t--0477185639\t-0412293880\t-0464891760\t-0457452973\tO432865213\n",
      "90\t-0476751213\t--0489632680\t0803881467\t--1025581826\t--0435683535\n",
      "91\t-0468O-89394\t--048235^7163\tO41426^7769\t-1027306994\t-0437407332\n",
      "92\t000O000000\t-0414507738\t0414507738\t-0059652813\t0430637336\n",
      "93\t--C456393735\t-0461096287\t0404712551\t-1406058276\t-0416134.298\n",
      "94\t-0484163751\t-0484878599\t0400714848\t-1429829964\t--0839927234\n",
      "95\t-1405C60999\t-1007154284\t0402093285\t-1452146591\t-O462161978\n",
      "96\t-1805700041\t-0487753802\t-0417946238\t-1432707686\t-0442799918\n",
      "97\t-1411492162\t-141098961B\t-0000502543\t-1455993934\t-0465985303\n",
      "98\t-1481958737\t-1449901881\t-0432056856\t-1495110007\t-1404693754\n",
      "99\t-0+09826931\t-O430888087\t0421061156\t-O475944384\t0014168209\n",
      "100\t-0409826931\t-0430888087\t0421061156\t-0075944384\t0414168209\n",
      "101\t-0000^722564\t-0415.3^39585\t0414617022\t-0460479517\t0429800346\n",
      "102\t--0432148162\t-0440841214\t0808693052\t-0485856471\t0004174042\n",
      "103\t--0432149162\t--04482057^75\t0416057613\t-0493196965\t-0403214596\n",
      "104\t--0049079748\t-0451656900\t0402577152\t-0496639658\t-0406675141\n",
      "105\t-0406398920\t--045257648^7\t0046177566\t-0097555931\t-0407597042\n",
      "106\t-0478887946\t-006369^7-634\t-0415190312\t-1408655727\t-0418739541\n",
      "107\t-04864867.35\t-0477807976\t-04086^78759\t-1422756637\t.-0432859316\n",
      "108\t-0897881070\t-048*J178682\t-0008702388\t-1434134118\t-O444223246\n",
      "109\t-0493930216\t--0080214706\t-0413715510\t-1425163730\t-0435265682\n",
      "110\t-0099139983\t-0488117599\t-0411022383\t--1033O71861\t-0043163338\n",
      "111\t-1022914799\t-1022289088\t-0000625711\t-1067337235\t-0477240940\n",
      "112\t-0474569367\t-C462683370\t%\t-0011885996\t-14O^7642903\t-0417723838\n",
      "113\t-1405551733\t--0494500187\t-0021051546\t-1429451281\t-0039549092\n",
      "114\t-0454060751\t-0470503073\t0016442322\t--1015454150\t-0025551996\n",
      "115\t0401502426\t-041519-4290\t0016696716\t-0460335114\t0029946535\n"
     ]
    }
   ],
   "source": [
    "for chars in page.values():\n",
    "    line = []\n",
    "    prev = None\n",
    "    for curr in chars:\n",
    "        if prev and curr.bbox.left - prev.bbox.right > 40:\n",
    "            line.append('\\t')\n",
    "        line.append(curr.char)\n",
    "        prev = curr\n",
    "    print(''.join(line))"
   ]
  },
  {
   "cell_type": "code",
   "execution_count": null,
   "id": "powered-cedar",
   "metadata": {},
   "outputs": [],
   "source": []
  },
  {
   "cell_type": "code",
   "execution_count": null,
   "id": "single-investigation",
   "metadata": {},
   "outputs": [],
   "source": []
  },
  {
   "cell_type": "code",
   "execution_count": null,
   "id": "returning-witch",
   "metadata": {},
   "outputs": [],
   "source": []
  }
 ],
 "metadata": {
  "kernelspec": {
   "display_name": "Python 3",
   "language": "python",
   "name": "python3"
  },
  "language_info": {
   "codemirror_mode": {
    "name": "ipython",
    "version": 3
   },
   "file_extension": ".py",
   "mimetype": "text/x-python",
   "name": "python",
   "nbconvert_exporter": "python",
   "pygments_lexer": "ipython3",
   "version": "3.9.0+"
  },
  "varInspector": {
   "cols": {
    "lenName": 16,
    "lenType": 16,
    "lenVar": 40
   },
   "kernels_config": {
    "python": {
     "delete_cmd_postfix": "",
     "delete_cmd_prefix": "del ",
     "library": "var_list.py",
     "varRefreshCmd": "print(var_dic_list())"
    },
    "r": {
     "delete_cmd_postfix": ") ",
     "delete_cmd_prefix": "rm(",
     "library": "var_list.r",
     "varRefreshCmd": "cat(var_dic_list()) "
    }
   },
   "types_to_exclude": [
    "module",
    "function",
    "builtin_function_or_method",
    "instance",
    "_Feature"
   ],
   "window_display": false
  }
 },
 "nbformat": 4,
 "nbformat_minor": 5
}
