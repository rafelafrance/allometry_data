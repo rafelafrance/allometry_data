{
 "cells": [
  {
   "cell_type": "code",
   "execution_count": 1,
   "id": "orange-national",
   "metadata": {},
   "outputs": [],
   "source": [
    "import sys\n",
    "\n",
    "sys.path.append('..')"
   ]
  },
  {
   "cell_type": "code",
   "execution_count": 2,
   "id": "falling-ontario",
   "metadata": {},
   "outputs": [],
   "source": [
    "from collections import defaultdict, namedtuple\n",
    "\n",
    "import torch\n",
    "\n",
    "from allometry.util import finished, started\n",
    "from allometry.model_util import load_model_state, get_model\n",
    "from allometry.allometry_sheet import AllometrySheet\n",
    "from allometry.const import DATA_DIR, BBox\n",
    "from allometry.characters import IDX_TO_CHAR\n",
    "from torch.utils.data import DataLoader"
   ]
  },
  {
   "cell_type": "code",
   "execution_count": 3,
   "id": "psychological-frame",
   "metadata": {},
   "outputs": [],
   "source": [
    "MODEL_DIR = DATA_DIR / 'model'\n",
    "MODEL_STATE = 'best_resnext101_2021-04-08_context_c.pth'\n",
    "DEVICE = 'cuda:0'\n",
    "BATCH_SIZE = 20\n",
    "MODEL_ARCH = 'resnext101'\n",
    "WORKERS = 4\n",
    "\n",
    "SHEET = DATA_DIR / 'allometry_sheets'\n",
    "SHEET = SHEET / 'Biomass_Fish_Families_FamilyProgram'\n",
    "SHEET = SHEET / '00001.tif'\n",
    "\n",
    "Char = namedtuple('Char', 'char bbox')\n",
    "\n",
    "ROTATE = 90"
   ]
  },
  {
   "cell_type": "code",
   "execution_count": 4,
   "id": "military-ownership",
   "metadata": {},
   "outputs": [],
   "source": [
    "def get_loader():\n",
    "    \"\"\"Get the data loader.\"\"\"\n",
    "    dataset = AllometrySheet(SHEET, rotate=ROTATE)\n",
    "    return DataLoader(dataset, batch_size=BATCH_SIZE, num_workers=WORKERS)"
   ]
  },
  {
   "cell_type": "code",
   "execution_count": 5,
   "id": "characteristic-antarctica",
   "metadata": {},
   "outputs": [],
   "source": [
    "def batches(model, device, loader, page):\n",
    "    \"\"\"Test the model.\"\"\"\n",
    "    model.eval()\n",
    "    with torch.no_grad():\n",
    "        for x, box in loader:\n",
    "            x = x.to(device)\n",
    "            pred = model(x)\n",
    "            save_predictions(x, pred, box, page)"
   ]
  },
  {
   "cell_type": "code",
   "execution_count": 6,
   "id": "scheduled-edmonton",
   "metadata": {},
   "outputs": [],
   "source": [
    "def save_predictions(x_s, preds, boxes, page):\n",
    "    \"\"\"Save predictions for analysis.\"\"\"\n",
    "    preds = preds.cpu().numpy().copy()\n",
    "    boxes = boxes.cpu().numpy().copy()\n",
    "\n",
    "    for pred, box in zip(preds, boxes):\n",
    "        char = IDX_TO_CHAR[pred.argmax(0)]\n",
    "        bbox = BBox(*box)\n",
    "        page[bbox.top].append(Char(char, bbox))"
   ]
  },
  {
   "cell_type": "code",
   "execution_count": 7,
   "id": "genetic-hierarchy",
   "metadata": {},
   "outputs": [],
   "source": [
    "def test():\n",
    "    \"\"\"Test the neural net.\"\"\"\n",
    "    model = get_model(MODEL_ARCH)\n",
    "    load_model_state(MODEL_DIR, MODEL_STATE, model)\n",
    "\n",
    "    device = torch.device(DEVICE)\n",
    "    model.to(DEVICE)\n",
    "\n",
    "    loader = get_loader()\n",
    "\n",
    "    page = defaultdict(list)\n",
    "    batches(model, device, loader, page)\n",
    "\n",
    "    return page"
   ]
  },
  {
   "cell_type": "code",
   "execution_count": 8,
   "id": "stuck-junction",
   "metadata": {
    "scrolled": true
   },
   "outputs": [],
   "source": [
    "sheet = test()"
   ]
  },
  {
   "cell_type": "code",
   "execution_count": 9,
   "id": "pleased-filling",
   "metadata": {
    "scrolled": false
   },
   "outputs": [
    {
     "name": "stdout",
     "output_type": "stream",
     "text": [
      "-\t---\t==\t===\n",
      "NN\tNN\tOOOOOOOOOOOO\tNN\tNN\tPPPPPPPPPPP\tEEEEEEEEEEEE\tRRRRRRRRRRR\tCCCCCCCCCC\n",
      "NNN\tNN\tOOOOOOOOOOOO\tNNN\tNN\tPPPPP9PPPPPP\tEEEFEEEEEFEF\tRRRRRRRRRRRR\tCCCCCCCCCCCC\n",
      "NNNN\tNN\tOO\tOO\tNNNN\tNN\tPP\tPP\tEE\tRR\tRR\tCC\tCC\n",
      "NN\tNN\tNN\tOO\tOC\tNN\tNN\tNN\tPP\tPP\tEE\tRR\tRR\tCC\n",
      "NN\tNN\tNN\tOO\tOO\tNN\tNN\tNN\tPP\tPP\tEF\tRR\tRR\tCC\n",
      "NN\tNN\tNN\tOO\tOO\tNN\tNN\tNN\tPPPPPPPPPPPP\tEEEEEEEE\tRRRRRRRRRRRR\tCC\n",
      "NN\tNN\tNN\tOO\tOO\tNN\tNN\tNN\tPPPPPPPPPPP\tEEEEEEEE\tRRRRRRRRRRR\tCC\n",
      "NN\tNN\tNN\tOO\tOO\tNN\tNN\tNN\tPP\tEE\t&\tRR\tRR\tCC\n",
      "NN\tNNNN\tOO\tOO\tNN\tNNNN\tPP\tEF\tRR\tRR\tCC\n",
      "NN\tNNN\tOO\tOO\tNN\tNNN\tPP\tE6\tPR\tRR\tCC\tCC\n",
      "NN\tNN\tCOOOO6OO0O00\tNN\tNN\tPP\tEEEEEEEEEEEE\tRR\tRR\tCCCCCCCCCCCC\n",
      "NN\tN\tOOOOOOOOOOOO\tNN\tN\tPP\tEEEEEEEEEEEE\tRR\tRR\tCCCCCCCCCC\n",
      "JJJJJJJJJJ\t6666666666\t11\t6666666666\t777777777777\tAAAAAAAAAA\n",
      "JJJJJJJJJJ\t666666666666\t111\t666666666666\t77777777777\tAAAAAAAAAAAA\n",
      "JJ\t66\t66\t1111\t66\t66\t77\t77\tAA\tAA\n",
      "JJ\t66\t11\t66\t77\tAA\tAA\n",
      "JJ\t66\t11\t66\t77\tAA\tAA\n",
      "JJ\t66666666666\t13\t66666666666\t77\tAAAAAAAAAAAA\n",
      "JJ\t666666666666\t11\t666666666666\t77\tAAAAAAAAAAAA\n",
      "JJ\t66\t66\t11\t66\t66\t77\tAA\tAA\n",
      "JJ\tJJ\t66\t66\t11\t66\t66\t77\tAA\tAA\n",
      "JJ\tJJ\t66\t66\t11\t66\t66\t77\tAA\tAA\n",
      "JJJJJJJJ\t666666666666\t1111111111\t666666666666\t77\tAA\tAA\n",
      "JJJJJJ\t6666666666\t1111111111\t6666666666\t77\tAA\t4A\n",
      "$6**A\tEND\tJOB\t6167\tNONPERC\tWING\t22097101.005\t2.55.22\tPM\t19\tDSC\t79\tPRINTER1\tNER1\tJO8\t6167\tEND\tA...$\n",
      "$*$4A\tEND\tJOB\t6167\tNONPERC\tWIN6\t22097101.055\t2.55.22\tPM\t19\tDEC\t79\tPRINTER1\tNER1\tJOB\t6167\tEND\tA**.$\n",
      ":*$*A\tEND\tJOB\t6167\tNTNPERC\tWING\t22097101.005\t2.55.22\tPM\t19\tDEC\t79\tPRINTER1\tNER1\tJOB\t6167\tEND\tA...$\n",
      "$***A\tEND\tJO8\t6167\tNONPERC\tWING\t22097101.005\t2.55.22\tPM\t19\tDEC\t79\tPRINTER1\tNFR1\tJOB\t6167\tEND\tA...$\n",
      "**$*A\tEND\tJO8\t6167\tNTNPERC\tWING\t220971014005\t2.55.22\tPM\t19\tDEC\t79\tPRINTER1\tNER1\tJOB\t6167\tEND\tA..*$\n",
      "$**$A\tEND\tJO8\t6167\tNONPERC\tWING\t22097101.005\t2.55.22\tPM\t19\tDEC\t79\tPRINTER1\tNER1\tJ9B\t6167\tEND\tA..**\n",
      "*8$*A\tEND\tJOB\t6167\tNONPERC\tWING\t22097101*005\t2.55.22\tPM\t19\tDEC\t79\tPRINTERI\tNER1\tJOB\t6167\tEND\tA...*\n",
      "*$8$A\tEND\tJO8\t6167\tNONPERC\tWING\t22097101.005\t2.55.22\tPM\t19\tDEC\t79\tPRINTER1\tNER1\tJO8\t6167\tFND\tA....\n",
      "*$$*A\tEND\tJO8\t6167\tNCNPERC\tWING\t22097101.005\t2.55.22\tPM\t19\tDFC\t79\tPRINTERI\tNER1\tJOB\t6167\tENC\tA***$\n",
      "$*$$A\tEND\tJOB\t6167\tNCNPERC\tWING\t22097101.005\t2.55.22\tPM\t19\tDFC\t79\tPRINTFR1\tNFR1\tJ0B\t6167\tEND\tA...$\n",
      "*$**A\tEND\tJOB\t6167\tNON9ERC\tWING\t22097101.005\t2.55.22\tPM\t19\tDEC\t79\tPRINTER1\tNER1\tJOB\t6167\tEND\tA*.**\n",
      "**$4A\tEND\tJOB\t6167\tNONPERC\tWING\t22097191.005\t2.55.22\tP.\t19\tDEC\t79\tPRINTER1\tNERI\tJO8\t6167\tEND\tA.4*$\n",
      "*:$*A\tEND\tJO8\t6167\tNON-ERC\tWING\t22097101.005\t2.55.22\tPM\t19\tDEC\t79\tPRINTER1\tNFR1\tJO8\t6167\tEND\tA...$\n",
      "*6.$A\tEND\tJOB\t6167\tNONPSRC\tWING\t22097101.005\t2.55.22\tPM\t19\tDEC\t79\tPRINTER1\tNER1\tJOB\t6167\tEND\tA*..*\n",
      "$$$$A\tEND\tJOB\t6167\tNONPERC\tWING\t22097101.055\t2.55.22\tPM\t19\tDEC\t79\tPRINTER1\tNER1\tJO8\t6167\tEND\tA:*$$\n",
      "*..*A\tEND\tJO3\t6167\tN0NPERC\tWING\t22097101.005\t2.55.22\tPM\t19\tDEC\t79\tPRINTER1\tNER1\tJOB\t6167\tEND\tA.*$$\n",
      "$**#A\tEND\tJCB\t6167\tNONPERC\tWING\t22097101.005\t2.55.22\tPM\t19\tDEC\t79\tPRINTSR1\tNER1\tJOB\t6167\tEND\tA:.:$\n",
      ":***A\tEND\tJOB\t6167\tNONPERC\tWING\t22097101.005\t2.55.22\tPM\t19\tDEC\t79\tPRINTSR1\tNERI\tJOB\t6167\tEND\tA...$\n",
      "*.*.A\tEND\tJOB\t6167\tNON9ERC\tWING\t22097101.005\t2.55.22\tPM\t19\tDEC\t79\tPRINTER1\tNER1\tJO8\t6167\tEND\t4.6.$\n",
      "*$*$A\tEND\tJO8\t6167\tNONPERC\tWING\t22097101.005\t2.55.22\tPM\t19\tDEC\t79\tPRINTER1\tNFR1\tJOB\t6167\tEND\tA4..$\n",
      "$*4*A\tEND\tJO8\t6167\tNONPERC\tWING\t22097101.005\t2.55.22\tPM\t19\tDEC\t79\tPRINTER1\tNER1\tJOB\t6167\tEND\tA66:$\n",
      "$$$*A\tEND\tJOB\t6167\tNON9ERC\tWING\t22097101.005\t2.55.22\tPM\t19\tDEC\t79\tPRINTER1\tNER1\tJOB\t6167\tEND\tA.$.$\n",
      "--------------------------------------------------------------------------------\n",
      "I\tDESCRIPTION\tI\tQUANTITY\tI\tCHARGE\tI\t.\n",
      "--------------------------------------------------------------------------------\n",
      "LINFS\tPRINTED\t582\t$\t0.11\n",
      "PAG6S\tPRINTE5\t12\t$\t0.13\n",
      "PRINT\tCHARGE\t$\t0.24\n",
      "---\t-\t--\t-:--\t---:-\t-:\t-\t=:\t=====\t=\t==\t=\n"
     ]
    }
   ],
   "source": [
    "for chars in sheet.values():\n",
    "    line = []\n",
    "    prev = None\n",
    "    for curr in chars:\n",
    "        if prev and curr.bbox.left - prev.bbox.right > 40:\n",
    "            line.append('\\t')\n",
    "        line.append(curr.char)\n",
    "        prev = curr\n",
    "    print(''.join(line))"
   ]
  },
  {
   "cell_type": "code",
   "execution_count": null,
   "id": "tropical-university",
   "metadata": {},
   "outputs": [],
   "source": []
  }
 ],
 "metadata": {
  "kernelspec": {
   "display_name": "Python 3",
   "language": "python",
   "name": "python3"
  },
  "language_info": {
   "codemirror_mode": {
    "name": "ipython",
    "version": 3
   },
   "file_extension": ".py",
   "mimetype": "text/x-python",
   "name": "python",
   "nbconvert_exporter": "python",
   "pygments_lexer": "ipython3",
   "version": "3.9.0+"
  },
  "varInspector": {
   "cols": {
    "lenName": 16,
    "lenType": 16,
    "lenVar": 40
   },
   "kernels_config": {
    "python": {
     "delete_cmd_postfix": "",
     "delete_cmd_prefix": "del ",
     "library": "var_list.py",
     "varRefreshCmd": "print(var_dic_list())"
    },
    "r": {
     "delete_cmd_postfix": ") ",
     "delete_cmd_prefix": "rm(",
     "library": "var_list.r",
     "varRefreshCmd": "cat(var_dic_list()) "
    }
   },
   "types_to_exclude": [
    "module",
    "function",
    "builtin_function_or_method",
    "instance",
    "_Feature"
   ],
   "window_display": false
  }
 },
 "nbformat": 4,
 "nbformat_minor": 5
}
