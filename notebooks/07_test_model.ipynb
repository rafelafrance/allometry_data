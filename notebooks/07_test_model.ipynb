{
 "cells": [
  {
   "cell_type": "code",
   "execution_count": 1,
   "id": "falling-ontario",
   "metadata": {},
   "outputs": [],
   "source": [
    "import sys\n",
    "sys.path.append('..')"
   ]
  },
  {
   "cell_type": "code",
   "execution_count": 2,
   "id": "powered-leader",
   "metadata": {},
   "outputs": [],
   "source": [
    "import argparse\n",
    "import logging\n",
    "import textwrap\n",
    "from collections import defaultdict, namedtuple\n",
    "from datetime import date\n",
    "from os import makedirs\n",
    "from pathlib import Path\n",
    "from random import seed\n",
    "\n",
    "import numpy as np\n",
    "import torch\n",
    "import torch.optim as optim\n",
    "from torch import nn\n",
    "from torch.utils.data import DataLoader\n",
    "from torch.utils.tensorboard import SummaryWriter\n",
    "from torchvision import models\n",
    "from tqdm import tqdm\n",
    "\n",
    "from allometry.const import CHARS, DATA_DIR, CLASS_TO_CHAR\n",
    "from allometry.allometry_sheet import AllometrySheet\n",
    "from allometry.model_util import load_model_state, get_model\n",
    "from allometry.util import finished, started"
   ]
  },
  {
   "cell_type": "code",
   "execution_count": 3,
   "id": "psychological-frame",
   "metadata": {},
   "outputs": [],
   "source": [
    "MODEL_DIR = DATA_DIR / 'model'\n",
    "MODEL_STATE = 'best_resnext101_2021-04-06_a.pth'\n",
    "DEVICE = 'cuda:0'\n",
    "BATCH_SIZE = 32\n",
    "WORKERS = 4\n",
    "MODEL_ARCH = 'resnext101'\n",
    "\n",
    "SHEET = DATA_DIR / 'allometry_sheets'\n",
    "SHEET = SHEET / 'Biomass_Fish_Families_FamilyProgram'\n",
    "SHEET = SHEET / '00004.tif'\n",
    "\n",
    "ROTATE = 90"
   ]
  },
  {
   "cell_type": "code",
   "execution_count": 4,
   "id": "global-birthday",
   "metadata": {},
   "outputs": [],
   "source": [
    "BBox = namedtuple('BBox', 'left top right bottom')\n",
    "Char = namedtuple('Char', 'char bbox')"
   ]
  },
  {
   "cell_type": "code",
   "execution_count": 5,
   "id": "military-ownership",
   "metadata": {},
   "outputs": [],
   "source": [
    "def get_loader():\n",
    "    \"\"\"Get the data loader.\"\"\"\n",
    "    dataset = AllometrySheet(SHEET, rotate=ROTATE)\n",
    "    return DataLoader(dataset, batch_size=BATCH_SIZE, num_workers=WORKERS)"
   ]
  },
  {
   "cell_type": "code",
   "execution_count": 6,
   "id": "characteristic-antarctica",
   "metadata": {},
   "outputs": [],
   "source": [
    "def batches(model, device, loader, page):\n",
    "    \"\"\"Test the model.\"\"\"\n",
    "    model.eval()\n",
    "    with torch.no_grad():\n",
    "        for x, box in loader:\n",
    "            x = x.to(device)\n",
    "            pred = model(x)\n",
    "            save_predictions(x, pred, box, page)"
   ]
  },
  {
   "cell_type": "code",
   "execution_count": 7,
   "id": "scheduled-edmonton",
   "metadata": {},
   "outputs": [],
   "source": [
    "def save_predictions(x_s, preds, boxes, page):\n",
    "    \"\"\"Save predictions for analysis.\"\"\"\n",
    "    preds = preds.cpu().numpy().copy()\n",
    "    lefts = boxes.left.cpu().numpy().copy()\n",
    "    tops = boxes.top.cpu().numpy().copy()\n",
    "    rights = boxes.right.cpu().numpy().copy()\n",
    "    bottoms = boxes.bottom.cpu().numpy().copy()\n",
    "\n",
    "    for pred, left, top, right, bottom in zip(preds, lefts, tops, rights, bottoms):\n",
    "        char = CLASS_TO_CHAR[pred.argmax(0)]\n",
    "        bbox = BBox(left, top, right, bottom)\n",
    "        page[top].append(Char(char, bbox))"
   ]
  },
  {
   "cell_type": "code",
   "execution_count": 8,
   "id": "genetic-hierarchy",
   "metadata": {},
   "outputs": [],
   "source": [
    "def test():\n",
    "    \"\"\"Test the neural net.\"\"\"\n",
    "    model = get_model(MODEL_ARCH)\n",
    "    load_model_state(MODEL_DIR, MODEL_STATE, model)\n",
    "\n",
    "    device = torch.device(DEVICE)\n",
    "    model.to(DEVICE)\n",
    "\n",
    "    loader = get_loader()\n",
    "\n",
    "    page = defaultdict(list)\n",
    "    batches(model, device, loader, page)\n",
    "\n",
    "    return page"
   ]
  },
  {
   "cell_type": "code",
   "execution_count": 9,
   "id": "stuck-junction",
   "metadata": {},
   "outputs": [],
   "source": [
    "page = test()"
   ]
  },
  {
   "cell_type": "code",
   "execution_count": 10,
   "id": "pleased-filling",
   "metadata": {
    "scrolled": false
   },
   "outputs": [
    {
     "name": "stdout",
     "output_type": "stream",
     "text": [
      "-------------------------------------------=---------===\n",
      "5\tT\tA\tT\tI\tG\tY\tI\tC\tA\tL\tA\tN\tA\tL\tY\tG\t:\tG\tG\tY\t8\tT\tQ\tM\tQ\n",
      "I4:D8\tWGQNEOQAY.\tQE<ENDER\tI9.\tX979\n",
      "GENBRAL\tLINEAR\tMQQELG\tPRQCEQURE\n",
      "OEPENQ6NT\tVARIA3LE$\tOIQLQG\n",
      "QOGCRVATIQN\tQBSERVQQ\tPR<QICT6O\tR5G:QUAL\tLQWER\t9UN\tCL\tUPPCR\t95N\tCL\n",
      "VALUF\tVALQE\tINOIVIQUAL\tINOIV:QQAL\n",
      "48\t.Q.4I797OQ4\t-Q.2446O94F\t.Q.I7Q.47I7\t-Q.O95QGO9I\tQ.8QQIOQ97\n",
      "4Q\t.I.Q54Q393Q\t.Q.97Q9IQ86\t-Q.QFFI89Q4\t-I.QQCD9Q3Q\t.Q.5QF88I8.\n",
      "5Q\t.I.847IO357\t.X.1QQO9Q2O\t-Q.I378O73Q\t-I.U59939D4\t-Q.OO9OQ3Q3\n",
      "5I\t.I.O3C644QO\t.I.56OZIUQ1\t.Q.QO4Q8QQ7\t.Q.Q8QOI4Q7\t-I.IIDOID94\n",
      "U8\t.Q.5659558Q\t-Q.49QQN337\t-Q.QGJ9QIO3\t.Q.941936FA\t-Q.Q4QI7QQQ\n",
      "DJ\tQ.I84O30I5\tQ.43R49O37\t-Q.3Q7QOO8Q\t-Q.QA4IQDA9\tQ.O89IOBQ3\n",
      "D4\t-Q.$I345ROO\t-Q.:IRQ43IO\t-Q.QQQ5Q97C\t.Q.5O459OQO\tQ.336F$868\n",
      "55\t.Q.QOO84QI4\t-Q.OOQ3873O\t-Q.QIO9IOTO\t-I.IIOOO98I\t-Q.QI97ODUI\n",
      "5Q\tM.OQ8Q5999\t-Q.QQ34Q99Q\tQ.QQ1349Q5\t-I.OU3Q4B39\t-Q.IDW7F74O\n",
      "57\t-Q.OQ8Q5QQQ\t-Q.O5877BO9\tQ.QUQFI86Q\t-1.1Q83331D\t.Q.8Q3RI8Q4\n",
      "5O\t.Q.O3O47QIO\t-Q.OI4DOIQ7\t-Q.QR37I1Q9\t.$.QO427517\t.Q.IO4946Q7\n",
      "OQ\t.I.76395O9Q\t-8.Q4GOO795\tQ.3R4QQ4Q6\t.Q.O44OQ67O\t.I.OQ69QQI3\n",
      "OQ\t-Q.ON5QIOOQ\t.Q.O3GQ7G34\tQ.QO195T4Q\t-I.QOG55727\t.Q.IO739OQI\n",
      "QI\t-Q.5I54I547\t-Q.54498Q78\tQ.Q8Q5II.D\t.Q.994675Q3\t.Q.Q9DI7781\n",
      "OQ\t.I.49Q7974O\t.I.4C9QI5I4\t.Q.Q4I.O8D4\t.X.98QOOO4Q\t-2.Q$7I4DQ6\n",
      "63\t-Q.79533F49\t-Q.OQ8I47QO\tQ.QOOOQ9O7\t.X.RN$QD7DQ\t-Q.358OUQOB\n",
      "Q4\t-I.Q55QQ773\t.I.OQOOR95Q\t-Q.Q4Q77ORD\t-8.QQI7U42F\t.I.IO59Q4O3\n",
      "CQ\t-I.7544O7J3\t-I.O54O744I\t-Q.QQ96IQQ.\t.Q.4QO1O7DO\t-3.8Q1Q6:85\n",
      "QO\t-Q.Q5799I9U\t.C.23QIDI39\tQ.378I5944\t-Q.6OIIQOI4\tQ.8BQ8QN36\n",
      "O7\t-Q.7OQ5%IQO\t-Q.OIQ5D7O3\tQ.Q4IQQC76\t.I.8OQQUQFQ\t.Q.3C3QQ4Q.\n",
      "CO\t-Q.7OQ9OIQN\t-Q.7UQUQ38B\t-Q.QQI37OF3\t-I.RQ5Q7IOD\t.Q.3QQQ94OQ\n",
      "O9\t-Q.47OO4379\t-Q.OIC9OQ9O\tQ.I4Q3373I\t-I.QOQO9$IO\t.Q.3QF37QQ8\n",
      "FQ\t-Q.3464O4QI\t.Q.53I4QR45\tC.IO45IO44\t-Q.9O:I831B\t-Q.QO3Q8I7O\n",
      "7I\t-Q.89679463\t.Q.5Q93O4O9\tO.P38N9Q86\t.Q.QU928IIW\t-Q.QQQD4OOD\n",
      "FQ\t.I.8698:772\t.I.83QQQQ9I\t-Q.Q398IOOI\t-I.QOQ5I4IO\t-Q.7794Q7Q5\n",
      "7D\t-Q.779O9I9I\t-Q.O75Q9QDG\tO.Q9QQ9OO5\t.I.325U27Q4\t.Q.48O4U38Q\n",
      "74\t-I.Q885Q8QQ\t-Q.9I9OJQOQ\t-Q.6QB6714Q\t-I.3Q9487QQ\t.Q.4FQQ4CQQ\n",
      "7U\t-I.8IIO3IQJ\t-$.8IQ9Q44O\tQ.QQ4Q98OO\t.I.QQQ375.9\t.Q..CQ473QO\n",
      "7O\tMX.844185I4\t-I..FOQ4OO3\tQ.Q3I9QQOO\t-I.FQO7FFQQ\t.Q.O8DDX4OQ\n",
      "77\t-I.5II449RO\t-I.4I586QI9\t-Q.QQU5O9IQ\t.2.OO73OQQ9\t.Q.9Q433939\n",
      "7O\t-:.OO3O7IQO\t-I.77QO9O3D\t-Q.QOB973Q3\t-Q.88U8OIBO\t.1.32QQ1D3O\n",
      "7Q\t-R.Q3Q5F8Q1\t.2.3BNO7DIO\tQ.0OQ3QQIF\t.B.7O7I4QQU\t.I.OQ4GQ83I\n",
      "6Q\tQ.QOQ9Q6O6\t-Q.15O947OO\tQ.2I394375\t.Q.QIQ3I3B4\tQ.Q9R4374O\n",
      "OI\t.1.NOU43IIQ\t.I.49QQIO6I\t-Q.QQQ4I8Q9\t-I.95IIQQQF\t-I.Q4O93FD4\n",
      "O8\t.I.434$58IO\t-I.3IQ5N.QF\t-Q.I83D9DII\t-4.FOI4OD34\t.Q.QQ9Q4OOQ\n",
      "O3\t-I.78I8464Q\t-I.654O7441\t.Q.Q663719O\t-B.%QOIQ7MO\t.I.8QXQO$RD\n",
      "O4\t-I.O4T7II6O\t-I.77QOQO33\t-Q.QFOOI338\t-R.8852OIRO\t-1.33QD$DDO\n",
      "6O\t.I.FO7OI84Q\t.I.F7QOQ833\t-Q4CI6QIQQ6\t.Q.Q852OIQO\t.2.3IOQIQ3O\n",
      "OQ\t.\t.\t.Q.34Q3ZQO2\t.\t-Q.793F4QQ3\tQ.IQ7Q7QQQ\n",
      "OF\t.Q.494OQQQ8\t-Q.4Q2W4618\t-Q.Q33OQ39Q\t-Q.Q3IJ8QRO\t-Q.QII37I9Q\n",
      "6O\t-Q.QOC39O9O\t-Q.I6Q83O95\tQ.C79O3797\t-Q.6I1U9447\tQ.8QIIBQU7\n",
      "O9\t-Q.77IO5Q39\t-Q.I8AQ3OOQ\t.Q.Q4O9I7QQ\t.Q.UF4U8973\tQ.38OQDBI3\n",
      "QQ\t-Q.7C75I8ID\t-Q.OQQO8QOQ\tQ.Q3OOI4O7\t.I.A5D6IOBO\t.Q.3D6O3D3M\n",
      "QI\t.Q.O8QO939Q\t.Q.O23U71O3\tQ.I4A6776Q\t-2.QF3Q6QQ4\t.Q.O74Q7D3R\n",
      "Q2\tQ.QQQQQQQQ\t-Q.14DQF73O\tQ.I4DQF73O\t.Q.OQOOBOI3\tO.3Q6D733Q\n",
      "93\t.Q.OQ3D373Q\t.Q.6IQ9G267\tQ.047I8UO3\t-:.QOQUOB7C\t.Q.IO$348QO\n",
      "Q4\t-Q.O4IQ3F%I\t-Q.O4O7O599\tQ.QQFI4O4O\t.I.89OR99OQ\t.Q.39Q8F834\n",
      "95\t.1.Q5C6Q9QQ\t.1.Q73O4BO4\tQ.QQQ9328O\t.X.D8I4OUQ3\t.Q.OBIQIQFO\n",
      "9Q\t.I.QQ7QQQ42\t-Q.O7753O08\t-Q.:794QQ3O\t-A.387Q7QOQ\t.Q.4R7Q991O\n",
      "Q7\t-1.11492IQR\t-3.IQQOQ61O\t-Q.QQOQQO43\t.I.G59939D4\t.Q.ODQOO3Q3\n",
      "QO\t-I.OIQ5O737\t-I.49QQIOOI\t-Q.32Q5QO5Q\t-1.9OIIQQQ7\t-I.Q4QQ37N4\n",
      "Q9\t-Q.QQ886Q31\t-Q.3Q8680O7\tC.8IQOIIUG\t-Q.7U9443O4\tQ.I4IQO8Q9\n",
      "IQQ\t-0.QQO8693I\t-Q.3QOOOQO7\tQ.8IQOIIDQ\t.Q..U944JO4\tQ.I4IQOBQ9\n",
      "IQI\t-<.OQ7285O4\t-Q.I5J39DOO\tQ.I4QI7QAQ\t-Q.QQ47QOIF\tQ.Q9MQQ34Q\n",
      "2QA\t-Q.38I4O:QR\t-Q.4QO4I8I4\tQ.QOO93Q5Q\t.Q.ODOU64TI\tQ.Q4IF4QQ8\n",
      "IQ3\t-Q.38I4Q3G2\t.Q.QORQU775\tQ.I6QN7OI3\t.Q.9319Q9QN\t-Q.QJQI4DOQ\n",
      "IQ4\t.Q.49Q7974O\t.Q.5IQOO9QQ\tQ.QBQF7IDC\t-Q.9QQ3QOQO\t-Q.QQQF5I4I\n",
      "IQU\t.Q.Q639O9RQ\tMQ.58D7Q4O7\tQ.46IF75OQ\t-Q.9755593I\t.Q.Q7QQ7Q48\n",
      "IQ6\t.Q.7O8O7946\t-Q.O36Q7C34\t-Q.IDI9Q318\t-I.QOOD57B7\t-Q.IO739U4I\n",
      "IQ7\t.Q.O44O6735\t-Q.7.OQ7976\t-Q.QO67O7Q9\t-2.Q87QQQ3F\t.Q.3ROD9JIQ\n",
      "1QO\t-0.97O81QFQ\t-Q.O9IFOOO8\t-Q.QOFQA3OO\t.I.342D4I2O\t-Q.44.B3B4Q\n",
      "1Q9\t.Q.9JQ3Q2IQ\t.Q.OQRI47QG\t-Q.I37IUUIQ\t.I.85IQDFOQ\t-Q.DD.QDOO.\n",
      "IIQ\t.Q.9Q1399OJ\t.Q.OOII7599\t-Q.IIQ8B3O3\t-X.33Q73OQI\t-Q.431QZ33O\n",
      "1I1\t.I.82QI4799\t.I.8QRO9QOO\t.Q.QQQ457II\t.I.OF33.8DD\t-Q.7784QQ4Q\n",
      "II2\t.0.745O97Q7\t-Q.Q8QO3D7Q\t-Q.IIOO5996\t.I.Q7648QQD\t-Q.I7ZR3O3O\n",
      "II3\t-:.Q555I7J3\t-Q.O4QQQIOF\t-Q.8IQ5ID4O\t-I.894OIQOI\t-Q.3Q%49Q9.\n",
      "I14\t.0.5406Q75I\t.Q.7QDQ3QF3\tQ.I644R3Q2\t-I.I54D4IMQ\tMQ.8DQQI99Q\n",
      "I1O\tQ.QI5QA486\t.Q.15I94B9Q\tQ.IOC9O7IQ\t.Q.QQ3DOII4\tQ.4994OQ3D\n"
     ]
    }
   ],
   "source": [
    "for chars in page.values():\n",
    "    line = []\n",
    "    prev = None\n",
    "    for curr in chars:\n",
    "        if prev and curr.bbox.left - prev.bbox.right > 40:\n",
    "            line.append('\\t')\n",
    "        line.append(curr.char)\n",
    "        prev = curr\n",
    "    print(''.join(line))"
   ]
  },
  {
   "cell_type": "code",
   "execution_count": null,
   "id": "tropical-university",
   "metadata": {},
   "outputs": [],
   "source": []
  }
 ],
 "metadata": {
  "kernelspec": {
   "display_name": "Python 3",
   "language": "python",
   "name": "python3"
  },
  "language_info": {
   "codemirror_mode": {
    "name": "ipython",
    "version": 3
   },
   "file_extension": ".py",
   "mimetype": "text/x-python",
   "name": "python",
   "nbconvert_exporter": "python",
   "pygments_lexer": "ipython3",
   "version": "3.9.0+"
  },
  "varInspector": {
   "cols": {
    "lenName": 16,
    "lenType": 16,
    "lenVar": 40
   },
   "kernels_config": {
    "python": {
     "delete_cmd_postfix": "",
     "delete_cmd_prefix": "del ",
     "library": "var_list.py",
     "varRefreshCmd": "print(var_dic_list())"
    },
    "r": {
     "delete_cmd_postfix": ") ",
     "delete_cmd_prefix": "rm(",
     "library": "var_list.r",
     "varRefreshCmd": "cat(var_dic_list()) "
    }
   },
   "types_to_exclude": [
    "module",
    "function",
    "builtin_function_or_method",
    "instance",
    "_Feature"
   ],
   "window_display": false
  }
 },
 "nbformat": 4,
 "nbformat_minor": 5
}
