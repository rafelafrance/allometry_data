{
 "cells": [
  {
   "cell_type": "code",
   "execution_count": 1,
   "id": "falling-ontario",
   "metadata": {},
   "outputs": [],
   "source": [
    "import sys\n",
    "sys.path.append('..')"
   ]
  },
  {
   "cell_type": "code",
   "execution_count": 2,
   "id": "powered-leader",
   "metadata": {},
   "outputs": [],
   "source": [
    "import argparse\n",
    "import logging\n",
    "import textwrap\n",
    "from collections import defaultdict, namedtuple\n",
    "from datetime import date\n",
    "from os import makedirs\n",
    "from pathlib import Path\n",
    "from random import seed\n",
    "\n",
    "import numpy as np\n",
    "import torch\n",
    "import torch.optim as optim\n",
    "from torch import nn\n",
    "from torch.utils.data import DataLoader\n",
    "from torch.utils.tensorboard import SummaryWriter\n",
    "from torchvision import models\n",
    "from tqdm import tqdm\n",
    "\n",
    "from allometry.const import CHARS, DATA_DIR, CLASS_TO_CHAR\n",
    "from allometry.allometry_sheet import AllometrySheet\n",
    "from allometry.model_util import load_model_state, get_model\n",
    "from allometry.util import finished, started"
   ]
  },
  {
   "cell_type": "code",
   "execution_count": 3,
   "id": "psychological-frame",
   "metadata": {},
   "outputs": [],
   "source": [
    "MODEL_DIR = DATA_DIR / 'model'\n",
    "MODEL_STATE = 'best_resnet152_2021-04-06_c.pth'\n",
    "DEVICE = 'cuda:0'\n",
    "BATCH_SIZE = 32\n",
    "WORKERS = 4\n",
    "MODEL_ARCH = 'resnet152'\n",
    "\n",
    "SHEET = DATA_DIR / 'allometry_sheets'\n",
    "SHEET = SHEET / 'Biomass_Fish_Families_FamilyProgram'\n",
    "SHEET = SHEET / '00004.tif'\n",
    "\n",
    "ROTATE = 90"
   ]
  },
  {
   "cell_type": "code",
   "execution_count": 4,
   "id": "global-birthday",
   "metadata": {},
   "outputs": [],
   "source": [
    "BBox = namedtuple('BBox', 'left top right bottom')\n",
    "Char = namedtuple('Char', 'char bbox')"
   ]
  },
  {
   "cell_type": "code",
   "execution_count": 5,
   "id": "military-ownership",
   "metadata": {},
   "outputs": [],
   "source": [
    "def get_loader():\n",
    "    \"\"\"Get the data loader.\"\"\"\n",
    "    dataset = AllometrySheet(SHEET, rotate=ROTATE)\n",
    "    return DataLoader(dataset, batch_size=BATCH_SIZE, num_workers=WORKERS)"
   ]
  },
  {
   "cell_type": "code",
   "execution_count": 6,
   "id": "characteristic-antarctica",
   "metadata": {},
   "outputs": [],
   "source": [
    "def batches(model, device, loader, page):\n",
    "    \"\"\"Test the model.\"\"\"\n",
    "    model.eval()\n",
    "    with torch.no_grad():\n",
    "        for x, box in loader:\n",
    "            x = x.to(device)\n",
    "            pred = model(x)\n",
    "            save_predictions(x, pred, box, page)"
   ]
  },
  {
   "cell_type": "code",
   "execution_count": 7,
   "id": "scheduled-edmonton",
   "metadata": {},
   "outputs": [],
   "source": [
    "def save_predictions(x_s, preds, boxes, page):\n",
    "    \"\"\"Save predictions for analysis.\"\"\"\n",
    "    preds = preds.cpu().numpy().copy()\n",
    "    lefts = boxes.left.cpu().numpy().copy()\n",
    "    tops = boxes.top.cpu().numpy().copy()\n",
    "    rights = boxes.right.cpu().numpy().copy()\n",
    "    bottoms = boxes.bottom.cpu().numpy().copy()\n",
    "\n",
    "    for pred, left, top, right, bottom in zip(preds, lefts, tops, rights, bottoms):\n",
    "        char = CLASS_TO_CHAR[pred.argmax(0)]\n",
    "        bbox = BBox(left, top, right, bottom)\n",
    "        page[top].append(Char(char, bbox))"
   ]
  },
  {
   "cell_type": "code",
   "execution_count": 8,
   "id": "genetic-hierarchy",
   "metadata": {},
   "outputs": [],
   "source": [
    "def test():\n",
    "    \"\"\"Test the neural net.\"\"\"\n",
    "    model = get_model(MODEL_ARCH)\n",
    "    load_model_state(MODEL_DIR, MODEL_STATE, model)\n",
    "\n",
    "    device = torch.device(DEVICE)\n",
    "    model.to(DEVICE)\n",
    "\n",
    "    loader = get_loader()\n",
    "\n",
    "    page = defaultdict(list)\n",
    "    batches(model, device, loader, page)\n",
    "\n",
    "    return page"
   ]
  },
  {
   "cell_type": "code",
   "execution_count": 9,
   "id": "stuck-junction",
   "metadata": {},
   "outputs": [],
   "source": [
    "page = test()"
   ]
  },
  {
   "cell_type": "code",
   "execution_count": 10,
   "id": "pleased-filling",
   "metadata": {
    "scrolled": false
   },
   "outputs": [
    {
     "name": "stdout",
     "output_type": "stream",
     "text": [
      "--------------------------------------------------------\n",
      "S\tT\tA\tT\tI\tS\tT\tI\tC\tA\tL\tA\tN\tA\tL\tY\tS\tI\tS\tS\tY\tS\tT\tE\tM\t5\n",
      "14:52\tWEDNESDAY.\tDECEMBER\tI9.\tI979\n",
      "GENENAL\tLINEAR\tMODELS\tPROCEDURE\n",
      "DEPENDENT\tVARIA9LE:\tBIOLOG\n",
      "OBSERVATION\tOBSERVED\tPR5DICTED\tR5SIDUAL\tLOWER\t95%\tCL\tUPPER\t95%\tCL\n",
      "VALUF\tVALUE\tINDIVIDUAL\tINDIVIOUAL\n",
      "48\t-O.4I793664\t-O.24469947\t-O.173247I7\t-O.6955669I\tO.2O6$6997\n",
      "49\t-1.O54O393O\t-O.9769IO26\t-O.077129O4\t-I.4265993O\t-O.52722I22\n",
      "50\t-I.247I8357\t-I.1O969618\t-O.I3726739\t-I.55993934\t-O.659853O3\n",
      "51\t-I.632644O8\t-I.5662I5O1\t-O.O64429O7\t-2.O2O6I4O7\t-I.1I56I594\n",
      "52\t-O.5559552O\t-O.492O5337\t-O.0639OI83\t-O.94I93674\t-O.042I7OOO\n",
      "53\t0.12483015\t0.43249837\t-0.3O766622\t-O.O24I6529\tO.689I62O3\n",
      "54\t-O.11345288\t-O.1I2943I8\t-O.OOO5097O\t-O.56459698\tO.J367I262\n",
      "55\t-O.68624614\t-O.66932736\t-0.0I89I678\t-I.1186692I\t-O.2I97655I\n",
      "56\t-.6O2O5999\t-O.6O34O994\tO.OOI34995\t-I.O53O4239\t-O.I5377748\n",
      "57\t-O.6O2O5999\t-O.65277259\tO.05O7I26O\t-1.IO2333I5\t-O.2O32I2O4\n",
      "58\t-O.638272I6\t-0.6I4561O7\t-O.O2371109\t-1.O6417517\t-O.I6494697\n",
      "59\t-I.76I9539O\t-2.O9685795\tO.3249O4O6\t-2.5446O678\t-I.6289O913\n",
      "6O\t-O.555O1869\t-0.63697634\tO.08195745\t-I.O6655727\t-O.I87395$I\n",
      "61\t-O.5I54I547\t-0.54492672\tO.O295II25\t-O.99467563\t-O.O95I7781\n",
      "62\t-I.Q9O79746\t-I.469OI5I4\t-O.02I78234\t-I.92O8664O\t-I.OI7I*388\n",
      "63\t-0.795337$9\t-O.6O2I47O6\tO.OO66O957\t-I.2516373O\t-O.35265682\n",
      "64\t-I.O556O773\t-I.6O66295O\t-O.O467782J\t-2.O6I75417\t-I.I559O483\n",
      "65\t-I.754467J3\t-I.5546744I\t-O.O9961292\t-2.1O616756\t-1.2O156125\n",
      "66\t-O.05799195\t-0.23OI5139\t0.17215944\t-O.681IO614\tO.22O8O5J6\n",
      "67\t-O.76955I08\t-0.8IO5578J\t0.041OO676\t-I.26OO5O7O\t-O.361O6497\n",
      "66\t-O.75696I95\t-O.75556322\t-O.0OI37873\t-I.9O5O7I63\t-O.3O6O9462\n",
      "69\t-O.47664J79\t-O.6I696O9O\tO.I4OJJ7I1\t-I.O6659II6\t-O.16737O62\n",
      "7O\t-0.346464OI\t-O.53I4O245\tO*18451844\t-O.98II8312\t-O.O6162I76\n",
      "71\t-O.29679463\t-O.5O938489\tO.21259O26\t-O.95922$13\t-O.O5954865\n",
      "72\t-I.26921772\t-1.2300O09I\t-O.O39216SI\t-I.68O5I4I6\t-O.77946765\n",
      "73\t-O.77969I91\t-0.O759SO56\tO.09609665\t-I.32552784\t-O.42645329\n",
      "74\t-I.4225082O\t-O.9196366O\t-O.5O26714O\t-I.3694276O\t-O.47O246O0\n",
      "75\t-I.2II8JI63\t-I.2I592448\tO.OO4O9266\t-I.66637529\t-O.76547366\n",
      "76\t-%.244125I4\t-I.27604563\t0.O3I92O58\t-I.726777O5\t-O.6253146O\n",
      "77\t-1.5II44928\t-I.4I586OI9\t-O.O95569IO\t-1.86736O99\t-O.964J3939\n",
      "76\t-1.65387I96\t-I.77O89833\t-0.O8297363\t-2.22528I28\t-L.31651536\n",
      "79\t-2.23657201\t-2*325872I8\tO.O693OOI7\t-2.767I42O5\t-I.6646O23I\n",
      "8O\tO.O5499586\t-O.15894768\t0.21394375\t-O.6IO3I324\tO.29241746\n",
      "8I\t-1.56543I1O\t-1.499OI881\t-O.0664I229\t-I.95I1OOO7\t-I.O4693754\n",
      "82\t-I.434I52I6\t-I.3IO557O7\t-O.I2J595II\t-1.76I46534\t-O.6596466O\n",
      "8J\t-I.72I2464O\t-1.65487441\t-O.O6637198\t-2.1O8I8756\t-I.2OI56I25\n",
      "84\t-I.84771166\t-1.77Q89633\t-O.O768I332\t-2.22528128\t-I.3165I538\n",
      "85\t-1*7878124O\t-1.77O89833\t-O.C16914O6\t-2.2252B12B\t-1.31651538\n",
      "86\t*\t.\t-O.3433Z982\t.\t-O.79374963\tO.1O7O7OOO\n",
      "87\t-0.49465O02\t-O*461J4612\t-O.O335O39O\t-O.9IIJ2O28\t-O.OI137I96\n",
      "86\t-O.O8O39896\t-O.I6O23695\t0.C7983797\t-O.6II59447\tO.29II2O57\n",
      "89\t-O.77I65639\t-0.12293880\t-O.6489I76O\t-O.57452973\tO.326652I3\n",
      "9O\t-O.7675I2I3\t-O.8O63268O\tO.O368I467\t-1.25561626\t-O.35663535\n",
      "9I\t-O.66O6939Q\t-O.62357I63\tO.14267769\t-%.273O6994\t-O.374O7332\n",
      "92\tO.OO0OOOOO\t-O.14507736\tO.I45O7736\t-O.59652813\tO.3O637336\n",
      "93\t-C.56393735\t-O.6IO96267\t0*047I2551\t-I.O6O58276\t-O.I6I34296\n",
      "94\t-O.64I63751\t-0.84678599\tO.OO7I4648\t-I.29629964\t-O.39927234\n",
      "95\t-I.05C6O999\t-1.O7I54264\tO.02O93285\t-I.52I46591\t-O.62IOI976\n",
      "96\t-I.O57O0O41\t-0.6775JBO2\t-0.I7946236\t-I.327O76G6\t-O.42799916\n",
      "97\t-1.11492I62\t-1.1O98961B\t-O.0O5O2543\t-I.55993934\t-O.659653O3\n",
      "9B\t-1.61958737\t-1*499O1B81\t-O.32O56656\t-I.9511OOO7\t-I.O4693754\n",
      "99\t-O.O982693I\t-O.3O888O87\tO.2IO61I56\t-O.75944364\tO.I4I662OS\n",
      "I00\t-0.0982693I\t-0.3O868O87\t0.2IO6II56\t-O.75944384\tO.I41662O9\n",
      "I01\t-0.O0722564\t-O.15339565\tO.14617O22\t-O.6O4795I7\tO.298OO346\n",
      "102\t-O.32148162\t-O.4O6412I4\tO.O8693O52\t-O.6585647I\tO.O4I74O42\n",
      "103\t-O.32I49162\t-0.%82O5775\tO.16O576I3\t-O.93196965\t-O.O32I45S6\n",
      "I04\t-0.Q9O79748\t-O.5I6569OO\tO.O2577I52\t-O.96O35658\t-O.O6675I41\n",
      "I05\t-O.O639892O\t-O.52576487\t0.46I77566\t-O.9755593I\t-O.O7597O42\n",
      "I06\t-O.76867946\t-O.63697634\t-0.I519O312\t-1.O6655727\t-O.I8739541\n",
      "1O7\t-O.85496735\t-O.776O7976\t-O.06676759\t-1.22756637\t-O.328593I6\n",
      "1O6\t-0.9768107O\t-O.69178662\t-O.06702368\t-I.34134II8\t-O*44223246\n",
      "109\t-0.939302I6\t-O.8O2147O6\t-O.I37I55IO\t-I.25I63730\t-O.J5265662\n",
      "IIO\t-0.9913998J\t-O.88II7599\t-O.IIO22383\t-$.33O71861\t-O.43153336\n",
      "I11\t-I.229I4799\t-I.22269O88\t-O.OO6257II\t-I.67337235\t-O.7724O94O\n",
      "112\t-0.74569367\t-C*6268337O\t-O.I1865996\t-1.O76429O3\t-O.I7723836\n",
      "1I3\t-I.O555I733\t-O.S45OO187\t-O.21O5I546\t-I.2945I26I\t-O.39549O92\n",
      "114\t-O.54069751\t-O.7O5OJO73\t0.16442322\t-I.I545415O\t-O.2555I996\n",
      "115\t0.O15O2426\t-O.I5I9429O\tO.I6696716\t-O.6O335II4\tO.29946535\n"
     ]
    }
   ],
   "source": [
    "for chars in page.values():\n",
    "    line = []\n",
    "    prev = None\n",
    "    for curr in chars:\n",
    "        if prev and curr.bbox.left - prev.bbox.right > 40:\n",
    "            line.append('\\t')\n",
    "        line.append(curr.char)\n",
    "        prev = curr\n",
    "    print(''.join(line))"
   ]
  },
  {
   "cell_type": "code",
   "execution_count": null,
   "id": "tropical-university",
   "metadata": {},
   "outputs": [],
   "source": []
  }
 ],
 "metadata": {
  "kernelspec": {
   "display_name": "Python 3",
   "language": "python",
   "name": "python3"
  },
  "language_info": {
   "codemirror_mode": {
    "name": "ipython",
    "version": 3
   },
   "file_extension": ".py",
   "mimetype": "text/x-python",
   "name": "python",
   "nbconvert_exporter": "python",
   "pygments_lexer": "ipython3",
   "version": "3.9.0+"
  },
  "varInspector": {
   "cols": {
    "lenName": 16,
    "lenType": 16,
    "lenVar": 40
   },
   "kernels_config": {
    "python": {
     "delete_cmd_postfix": "",
     "delete_cmd_prefix": "del ",
     "library": "var_list.py",
     "varRefreshCmd": "print(var_dic_list())"
    },
    "r": {
     "delete_cmd_postfix": ") ",
     "delete_cmd_prefix": "rm(",
     "library": "var_list.r",
     "varRefreshCmd": "cat(var_dic_list()) "
    }
   },
   "types_to_exclude": [
    "module",
    "function",
    "builtin_function_or_method",
    "instance",
    "_Feature"
   ],
   "window_display": false
  }
 },
 "nbformat": 4,
 "nbformat_minor": 5
}
