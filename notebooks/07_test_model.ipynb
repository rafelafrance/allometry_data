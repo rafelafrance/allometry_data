{
 "cells": [
  {
   "cell_type": "code",
   "execution_count": null,
   "id": "orange-national",
   "metadata": {},
   "outputs": [],
   "source": [
    "import sys\n",
    "\n",
    "sys.path.append('..')"
   ]
  },
  {
   "cell_type": "code",
   "execution_count": 1,
   "id": "falling-ontario",
   "metadata": {},
   "outputs": [],
   "source": [
    "from collections import defaultdict, namedtuple\n",
    "\n",
    "import torch\n",
    "\n",
    "from allometry.util import finished, started\n",
    "from allometry.model_util import load_model_state, get_model\n",
    "from allometry.allometry_sheet import AllometrySheet\n",
    "from allometry.const import DATA_DIR, BBox\n",
    "from allometry.characters import IDX_TO_CHAR\n",
    "from torch.utils.data import DataLoader"
   ]
  },
  {
   "cell_type": "code",
   "execution_count": 2,
   "id": "psychological-frame",
   "metadata": {},
   "outputs": [],
   "source": [
    "MODEL_DIR = DATA_DIR / 'model'\n",
    "MODEL_STATE = 'best_resnext101_2021-04-08_context_c.pth'\n",
    "DEVICE = 'cuda:0'\n",
    "BATCH_SIZE = 20\n",
    "MODEL_ARCH = 'resnext101'\n",
    "WORKERS = 4\n",
    "\n",
    "SHEET = DATA_DIR / 'allometry_sheets'\n",
    "SHEET = SHEET / 'Biomass_Fish_Families_FamilyProgram'\n",
    "SHEET = SHEET / '00004.tif'\n",
    "\n",
    "Char = namedtuple('Char', 'char bbox')\n",
    "\n",
    "ROTATE = 90"
   ]
  },
  {
   "cell_type": "code",
   "execution_count": 3,
   "id": "military-ownership",
   "metadata": {},
   "outputs": [],
   "source": [
    "def get_loader():\n",
    "    \"\"\"Get the data loader.\"\"\"\n",
    "    dataset = AllometrySheet(SHEET, rotate=ROTATE)\n",
    "    return DataLoader(dataset, batch_size=BATCH_SIZE, num_workers=WORKERS)"
   ]
  },
  {
   "cell_type": "code",
   "execution_count": 4,
   "id": "characteristic-antarctica",
   "metadata": {},
   "outputs": [],
   "source": [
    "def batches(model, device, loader, page):\n",
    "    \"\"\"Test the model.\"\"\"\n",
    "    model.eval()\n",
    "    with torch.no_grad():\n",
    "        for x, box in loader:\n",
    "            x = x.to(device)\n",
    "            pred = model(x)\n",
    "            save_predictions(x, pred, box, page)"
   ]
  },
  {
   "cell_type": "code",
   "execution_count": 5,
   "id": "scheduled-edmonton",
   "metadata": {},
   "outputs": [],
   "source": [
    "def save_predictions(x_s, preds, boxes, page):\n",
    "    \"\"\"Save predictions for analysis.\"\"\"\n",
    "    preds = preds.cpu().numpy().copy()\n",
    "    lefts = boxes.left.cpu().numpy().copy()\n",
    "    tops = boxes.top.cpu().numpy().copy()\n",
    "    rights = boxes.right.cpu().numpy().copy()\n",
    "    bottoms = boxes.bottom.cpu().numpy().copy()\n",
    "\n",
    "    for pred, left, top, right, bottom in zip(preds, lefts, tops, rights, bottoms):\n",
    "        char = IDX_TO_CHAR[pred.argmax(0)]\n",
    "        bbox = BBox(left, top, right, bottom)\n",
    "        page[top].append(Char(char, bbox))"
   ]
  },
  {
   "cell_type": "code",
   "execution_count": 6,
   "id": "genetic-hierarchy",
   "metadata": {},
   "outputs": [],
   "source": [
    "def test():\n",
    "    \"\"\"Test the neural net.\"\"\"\n",
    "    model = get_model(MODEL_ARCH)\n",
    "    load_model_state(MODEL_DIR, MODEL_STATE, model)\n",
    "\n",
    "    device = torch.device(DEVICE)\n",
    "    model.to(DEVICE)\n",
    "\n",
    "    loader = get_loader()\n",
    "\n",
    "    page = defaultdict(list)\n",
    "    batches(model, device, loader, page)\n",
    "\n",
    "    return page"
   ]
  },
  {
   "cell_type": "code",
   "execution_count": 7,
   "id": "stuck-junction",
   "metadata": {
    "scrolled": true
   },
   "outputs": [],
   "source": [
    "sheet = test()"
   ]
  },
  {
   "cell_type": "code",
   "execution_count": 8,
   "id": "pleased-filling",
   "metadata": {
    "scrolled": false
   },
   "outputs": [
    {
     "name": "stdout",
     "output_type": "stream",
     "text": [
      "--------\t-\t---\t--\t----------\t-\t--------------\t-----------=-\n",
      "S\tT\tA\tT\tI\tS\tT\tI\tC\tA\tL\tA\tN\tA\tL\tY\tS\tI\tS\tS\tY\tS\tT\tE\tM\t5\n",
      "14:52\tWEDNESDAY*\tDECEMBER\t19.\t1979\n",
      "GENERAL\tLINEAR\tMODELS\tPROCEDURE\n",
      "DEPEN5ENT\tVARIA3LE:\tBIOLOG\n",
      "O8SERVATION\tOBSERVED\tPREDICTED\tRESIDUAL\tLOWER\t95%\tCL\tUPPER\t95%\tCL\n",
      "VALUF\tVALUE\tINDIVIDUAL\tINDIVIDUAL\n",
      "48\t-0.41793664\t-0.24468947\t-0.17324717\t-0.69556891\t0.20618997\n",
      "49\t-1.05403930\t-0.97691026\t-0.07712904\t-1.42659930\t-0.52722122\n",
      "50\t-1.24718357\t-1.10989618\t-0.13728739\t-1.55993934\t-0.65985333\n",
      "51\t-1.63264408\t-1:56821501\t-0.06442907\t-2.02081407\t-1.11561594\n",
      "52\t-0.55595520\t-0.49205337\t-0.06390183\t-0.94193674\t-0.04217000\n",
      "53\t0.12483015\t0.43249837\t-0.30766822\t-0.02416529\t0.88916203\n",
      "54\t-0.11345288\t-0.11294318\t-0.00050970\t-0.56459898\t0.33871262\n",
      "55\t-0.68824614\t-0.66932736\t-0.01891878\t-1.11886921\t-0.21978551\n",
      "56\t-6.60205999\t-0.60340994\t0.00134995\t-1.05304239\t-0.15377748\n",
      "57\t-0.60205999\t-0.65277259\t0.05071260\t-1.10233315\t-0.20321204\n",
      "58\t-0.63827216\t-0.61456107\t-0.02371109\t-1.06417517\t-0.16494697\n",
      "59\t-1.76195390\t-2.08685795\t0.32490406\t-2.54480678\t-1.62890913\n",
      "60\t-0.55501889\t-0.63697634\t0.08195745\t-1.08655727\t-0.18739541\n",
      "61\t-0.51541547\t-0.54492672\t0.02951125\t-0.99467563\t-0.09517781\n",
      "62\t-1.49079748\t-1.46901514\t-0.02178234\t-1.92088640\t-1.01714388\n",
      "63\t-0.79533749\t-0.80214706\t0.00680957\t-1.25163730\t-0.35265682\n",
      "64\t-1.65560773\t-1.60882950\t-0.04677823\t-2.06175417\t-1.15590483\n",
      "65\t-1.75448733\t-1.65487441\t-0.09961292\t-2.10818758\t-1.20156125\n",
      "66\t-0.05799195\t-0.23015139\t0.17215944\t-0.68110814\t0.22080536\n",
      "67\t-0.76955108\t-0.8I055783\t0.04100676\t-1.26005070\t-0.36106497\n",
      "68\t-0.75696195\t-0.75558322\t-0.00137873\t-1.25507163\t-0.30609482\n",
      "69\t-0.47664379\t-0.61698090\t0.140337I1\t-1.06659118\t-0.16737062\n",
      "70\t-0.34688401\t-0.53140245\t0.18451844\t-0.98118312\t-0.08162178\n",
      "71\t-0.29679463\t-0.50938489\t0.21259026\t-0.95922113\t-0.05954865\n",
      "72\t-1.26921772\t-1.23000091\t-0.33921681\t-1.68051418\t-0.77948765\n",
      "73\t-0.77989191\t-0.67599056\t0.09609865\t-1.32552784\t-0.42645329\n",
      "74\t-1.42250820\t-0.91983680\t-0.50267140\t-1.36942760\t-0.47024600\n",
      "75\t-1.21183163\t-1.21592448\t0.00409286\t-1.66637529\t-0.76547368\n",
      "76\t-1.24412514\t-1.27604583\t0.03192068\t-1.72677705\t-0.82531460\n",
      "77\t-1.51144928\t-1.41586019\t-0.09558910\t-1.86738099\t-0.96433939\n",
      "78\t-1.85387196\t-1.77089833\t-0.08297363\t-2.22528128\t-1.31651538\n",
      "79\t-2.23657201\t-2.32587218\t0.08930017\t-2.78714205\t-1.86460231\n",
      "80\t0.05499586\t-0.15894788\t0.21394375\t-0.61031324\t0.29241748\n",
      "81\t-1.56543110\t-1.49901881\t-0.06641229\t-1.95110007\t-1.04693754\n",
      "82\t-1.434:5218\t-1.31555707\t-0.12359511\t-1.76146534\t-0.85964880\n",
      "83\t-1.72124640\t-1.65487441\t-0.06637198\t-2.10818758\t-1.20156125\n",
      "84\t-1.84771166\t-1.77089833\t-0.07681332\t-2.22528128\t-1.3165:538\n",
      "85\t-1.78781240\t-1.77089833\t-0.01691406\t-2.22528128\t-1.31651538\n",
      "86\t$\t.\t-0.34333982\t*\t-0.79374963\t0.10707000\n",
      "87\t-0.49485002\t-0.46134612\t-0.03350390\t-0.91132028\t-0.01137196\n",
      "88\t-0.08339898\t-0.16023695\t0.07983797\t-0.61159447\t0.29112057\n",
      "89\t-0.77185639\t-0.12293880\t-0.64891760\t-0.57452973\t0.32865213\n",
      "90\t-0.76751213\t-0.80632689\t0.03881467\t-1.25581826\t-0.35683535\n",
      "91\t-0.68989394\t-0.82357163\t0.14267769\t-1.27306994\t-0.37407332\n",
      "92\t0.00000000\t-0.14507738\t0.14507738\t-0.59652813\t0.30637336\n",
      "93\t-C.56383735\t-0.61096287\t0.04712551\t-1.06058276\t-0.16134298\n",
      "94\t-0.84163751\t-0.84878599\t0.00714848\t-1.29829964\t-0.39927234\n",
      "95\t-1:05660999\t-1.07154284\t0.02093285\t-1.52146591\t-0.62161978\n",
      "96\t-1.05700041\t-0.87753802\t-0.17946238\t-1.32707686\t-0.42799918\n",
      "97\t-1.11492162\t-1.10989618\t-0.00502543\t-1.55993934\t-0.65985303\n",
      "98\t-1.81958737\t-1.49901881\t-0.32056856\t-1.95110007\t-1.04693754\n",
      "99\t-0.09826931\t-0.30888087\t0.21061156\t-0.75944384\t0.14168209\n",
      "100\t-0.09826931\t-0.30888087\t0.21061156\t-0.75944384\t0.14168209\n",
      "101\t-0.00722564\t-0.15339585\t0.14617022\t-0.60479517\t0.29800346\n",
      "102\t-0.32148162\t-0.40841214\t0.08693052\t-0.85856471\t0.04174042\n",
      "103\t-0.32148162\t-0.48255775\t0.16057613\t-0.93196965\t-0.03214586\n",
      "104\t-0.49079748\t-0.51656900\t0.02577152\t-0.96638658\t-0.06675141\n",
      "105\t-0.06998920\t-0.52576487\t0.46177566\t-0.97555931\t-0.07597042\n",
      "106\t-0.78887946\t-0.63697634\t-0.15190312\t-1.08655727\t-0.18739541\n",
      "107\t-0.86486735\t-0.77807976\t-0.08678759\t-1.22756637\t-0.32859316\n",
      "108\t-0.97881070\t-0.89178682\t-0.08702388\t-1.34134118\t-0.44223246\n",
      "109\t-0.93930216\t-0.80214706\t-0.13715510\t-1.25163730\t-0.35265682\n",
      "110\t-0.99139983\t-0.88117599\t-0.11022383\t-1.33071861\t-0.43163338\n",
      "111\t-1.22914799\t-1.22289088\t-0.00625711\t-1.67337235\t-0.77240940\n",
      "112\t-0.74569367\t-0.62683370\t-0.11885996\t-1.07642903\t-0.17723838\n",
      "113\t-1.0555I733\t-0.84500187\t-0.21051546\t-1.29451281\t-0.39549092\n",
      "114\t-0.54060751\t-0.70503073\t0.16442322\t-1.15454150\t-0.25551996\n",
      "115\t0.01502426\t-0.15194290\t0.16696716\t-0.60335114\t0.29946535\n"
     ]
    }
   ],
   "source": [
    "for chars in sheet.values():\n",
    "    line = []\n",
    "    prev = None\n",
    "    for curr in chars:\n",
    "        if prev and curr.bbox.left - prev.bbox.right > 40:\n",
    "            line.append('\\t')\n",
    "        line.append(curr.char)\n",
    "        prev = curr\n",
    "    print(''.join(line))"
   ]
  },
  {
   "cell_type": "code",
   "execution_count": null,
   "id": "tropical-university",
   "metadata": {},
   "outputs": [],
   "source": []
  }
 ],
 "metadata": {
  "kernelspec": {
   "display_name": "Python 3",
   "language": "python",
   "name": "python3"
  },
  "language_info": {
   "codemirror_mode": {
    "name": "ipython",
    "version": 3
   },
   "file_extension": ".py",
   "mimetype": "text/x-python",
   "name": "python",
   "nbconvert_exporter": "python",
   "pygments_lexer": "ipython3",
   "version": "3.9.0+"
  },
  "varInspector": {
   "cols": {
    "lenName": 16,
    "lenType": 16,
    "lenVar": 40
   },
   "kernels_config": {
    "python": {
     "delete_cmd_postfix": "",
     "delete_cmd_prefix": "del ",
     "library": "var_list.py",
     "varRefreshCmd": "print(var_dic_list())"
    },
    "r": {
     "delete_cmd_postfix": ") ",
     "delete_cmd_prefix": "rm(",
     "library": "var_list.r",
     "varRefreshCmd": "cat(var_dic_list()) "
    }
   },
   "types_to_exclude": [
    "module",
    "function",
    "builtin_function_or_method",
    "instance",
    "_Feature"
   ],
   "window_display": false
  }
 },
 "nbformat": 4,
 "nbformat_minor": 5
}
