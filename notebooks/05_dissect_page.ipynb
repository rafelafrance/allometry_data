{
 "cells": [
  {
   "cell_type": "code",
   "execution_count": 1,
   "id": "noted-joining",
   "metadata": {},
   "outputs": [],
   "source": [
    "import sys\n",
    "sys.path.append('..')"
   ]
  },
  {
   "cell_type": "code",
   "execution_count": 2,
   "id": "alpha-person",
   "metadata": {},
   "outputs": [],
   "source": [
    "import math\n",
    "import re\n",
    "from collections import namedtuple\n",
    "from pathlib import Path\n",
    "\n",
    "import numpy as np\n",
    "from PIL import Image, ImageDraw, ImageOps\n",
    "\n",
    "from allometry.const import DATA_DIR\n",
    "\n",
    "# import skimage\n",
    "# from skimage import io, filters, feature\n",
    "# from skimage import transform as xform\n",
    "# from skimage import morphology as morph\n",
    "# from skimage import segmentation as seg"
   ]
  },
  {
   "cell_type": "code",
   "execution_count": 3,
   "id": "specialized-beverage",
   "metadata": {},
   "outputs": [],
   "source": [
    "SHEET = DATA_DIR / 'allometry_sheets'\n",
    "SHEET = SHEET / 'Biomass_Fish_Families_FamilyProgram'\n",
    "# SHEET = SHEET / 'Biomass_Mollusks'\n",
    "SHEET = SHEET / '00004.tif'"
   ]
  },
  {
   "cell_type": "code",
   "execution_count": 4,
   "id": "transparent-capability",
   "metadata": {},
   "outputs": [],
   "source": [
    "MIN_PIXELS = 20\n",
    "PADDING = 1\n",
    "THETA = 90.0\n",
    "PIXEL_THRESHOLD = 230\n",
    "SCALE = 0.5"
   ]
  },
  {
   "cell_type": "code",
   "execution_count": 5,
   "id": "informed-council",
   "metadata": {},
   "outputs": [],
   "source": [
    "Score = namedtuple('Score', 'score where')\n",
    "Where = namedtuple('Where', 'row type')"
   ]
  },
  {
   "cell_type": "markdown",
   "id": "oriented-newark",
   "metadata": {},
   "source": [
    "### Get the image"
   ]
  },
  {
   "cell_type": "code",
   "execution_count": 6,
   "id": "interpreted-wilson",
   "metadata": {},
   "outputs": [],
   "source": [
    "image = Image.open(SHEET).convert('L')\n",
    "image = image.rotate(THETA, expand=True, fillcolor='white')\n",
    "# image = ImageOps.scale(image, SCALE)\n",
    "# display(image)"
   ]
  },
  {
   "cell_type": "markdown",
   "id": "composite-strand",
   "metadata": {},
   "source": [
    "### Binarize the image"
   ]
  },
  {
   "cell_type": "code",
   "execution_count": 7,
   "id": "alleged-celebration",
   "metadata": {},
   "outputs": [],
   "source": [
    "binary = image.point(lambda x: 255 if x < PIXEL_THRESHOLD else 0)\n",
    "# display(binary)"
   ]
  },
  {
   "cell_type": "markdown",
   "id": "pending-boring",
   "metadata": {},
   "source": [
    "### Profile projection"
   ]
  },
  {
   "cell_type": "code",
   "execution_count": 8,
   "id": "secret-virgin",
   "metadata": {},
   "outputs": [],
   "source": [
    "def profile_projection(binary, threshold=20, axis=1):\n",
    "    \"\"\"Characters in the image via a profile projection.\"\"\"\n",
    "    data = np.array(binary).copy() / 255\n",
    "\n",
    "    proj = data.sum(axis=axis)\n",
    "    proj = proj > threshold\n",
    "    proj = proj.astype(int)\n",
    "\n",
    "    prev = np.insert(proj[:-1], 0, 0)\n",
    "    curr = np.insert(proj[1:], 0, 0)\n",
    "    where = np.where(curr != prev)[0]\n",
    "    where = where.tolist()\n",
    "\n",
    "    splits = np.array_split(proj, where)\n",
    "    score = sum(len(s) for s in splits if s[0] == 0)\n",
    "\n",
    "    where = where if where[0] == 0 else ([0] + where)\n",
    "    where = [Where(w, s[0]) for w, s in zip(where, splits)]\n",
    "\n",
    "    return Score(score, where)"
   ]
  },
  {
   "cell_type": "code",
   "execution_count": 9,
   "id": "removed-documentation",
   "metadata": {},
   "outputs": [],
   "source": [
    "Box = namedtuple('Box', 'left right')\n",
    "\n",
    "\n",
    "def merge_boxes(lefts, rights, inside=4, outside=40):\n",
    "    boxes = [Box(lefts[0], rights[0])]\n",
    "\n",
    "    for next_left, next_right in zip(lefts[1:], rights[1:]):\n",
    "        left, right = boxes[-1].left, boxes[-1].right\n",
    "\n",
    "        if (next_left - right) <= inside and (next_right - left) <= outside:\n",
    "            boxes.pop()\n",
    "            boxes.append(Box(left, next_right))\n",
    "        else:\n",
    "            boxes.append(Box(next_left, next_right))\n",
    "\n",
    "    return boxes"
   ]
  },
  {
   "cell_type": "markdown",
   "id": "disturbed-settlement",
   "metadata": {},
   "source": [
    "### Find rows"
   ]
  },
  {
   "cell_type": "code",
   "execution_count": 10,
   "id": "accompanied-logan",
   "metadata": {},
   "outputs": [],
   "source": [
    "score = profile_projection(binary, threshold=20)"
   ]
  },
  {
   "cell_type": "code",
   "execution_count": 11,
   "id": "separate-reunion",
   "metadata": {},
   "outputs": [],
   "source": [
    "top_lines = [w.row - PADDING for w in score.where if w.type == 1]\n",
    "bottom_lines = [w.row + PADDING for w in score.where if w.type == 0][1:]"
   ]
  },
  {
   "cell_type": "markdown",
   "id": "nasty-republican",
   "metadata": {},
   "source": [
    "### Find characters in rows"
   ]
  },
  {
   "cell_type": "code",
   "execution_count": 12,
   "id": "prescription-sheet",
   "metadata": {},
   "outputs": [],
   "source": [
    "width, height = image.size\n",
    "\n",
    "marked = binary.convert('RGB')\n",
    "draw = ImageDraw.Draw(marked)"
   ]
  },
  {
   "cell_type": "code",
   "execution_count": 14,
   "id": "distinguished-belle",
   "metadata": {},
   "outputs": [],
   "source": [
    "for top, bottom in zip(top_lines, bottom_lines):\n",
    "    # if bottom - top < MIN_PIXELS:\n",
    "    #     continue\n",
    "\n",
    "    row = binary.crop((0, top, width, bottom))\n",
    "    score = profile_projection(row, axis=0, threshold=0)\n",
    "\n",
    "    row_width, row_height = row.size\n",
    "\n",
    "    # draw.rectangle((1, top, row_width - 1, bottom), outline=(255, 0, 0))\n",
    "\n",
    "    left_lines = [w.row - PADDING for w in score.where if w.type == 1]\n",
    "    right_lines = [w.row + PADDING for w in score.where if w.type == 0][1:]\n",
    "\n",
    "    boxes = merge_boxes(left_lines, right_lines)\n",
    "    \n",
    "    for box in boxes:\n",
    "        if box.right - box.left >= 15:\n",
    "            draw.rectangle((box.left, top, box.right, bottom), outline=(0, 255, 255))"
   ]
  },
  {
   "cell_type": "code",
   "execution_count": 15,
   "id": "accepting-aerospace",
   "metadata": {},
   "outputs": [],
   "source": [
    "path = DATA_DIR / 'marked.jpg'\n",
    "marked.save(path, 'JPEG')"
   ]
  },
  {
   "cell_type": "markdown",
   "id": "interested-documentation",
   "metadata": {},
   "source": [
    "### Experiments to see if we can improve the image quality"
   ]
  },
  {
   "cell_type": "code",
   "execution_count": null,
   "id": "understanding-democracy",
   "metadata": {},
   "outputs": [],
   "source": [
    "# canny = np.asarray(binary)\n",
    "\n",
    "# canny = feature.canny(canny, sigma=3, low_threshold=0.5, high_threshold=0.75)\n",
    "# canny = skimage.img_as_ubyte(canny)\n",
    "\n",
    "# canny = Image.fromarray(canny)\n",
    "\n",
    "# path = DATA_DIR / 'canny.jpg'\n",
    "# canny.save(path, 'JPEG')\n",
    "\n",
    "# display(canny)"
   ]
  },
  {
   "cell_type": "code",
   "execution_count": null,
   "id": "opposite-karaoke",
   "metadata": {},
   "outputs": [],
   "source": [
    "# selem = morph.disk(3)\n",
    "\n",
    "# closed = np.asarray(binary)\n",
    "\n",
    "# closed = morph.binary_closing(closed, selem)\n",
    "# closed = skimage.img_as_ubyte(closed)\n",
    "\n",
    "# closed = Image.fromarray(closed)\n",
    "\n",
    "# path = DATA_DIR / 'closed.jpg'\n",
    "# closed.save(path, 'JPEG')\n",
    "\n",
    "# display(closed)"
   ]
  },
  {
   "cell_type": "code",
   "execution_count": null,
   "id": "animal-custody",
   "metadata": {},
   "outputs": [],
   "source": [
    "# skel = np.asarray(binary) / 255\n",
    "\n",
    "# skel = morph.skeletonize(skel, method='lee')\n",
    "# skel = skimage.img_as_ubyte(skel)\n",
    "\n",
    "# skel = Image.fromarray(skel)\n",
    "\n",
    "# path = DATA_DIR / 'skel.jpg'\n",
    "# skel.save(path, 'JPEG')\n",
    "\n",
    "# display(skel)"
   ]
  },
  {
   "cell_type": "code",
   "execution_count": null,
   "id": "arabic-briefing",
   "metadata": {},
   "outputs": [],
   "source": [
    "# thin = np.asarray(binary)\n",
    "\n",
    "# thin = morph.thin(thin)\n",
    "# thin = skimage.img_as_ubyte(thin)\n",
    "\n",
    "# thin = Image.fromarray(thin)\n",
    "\n",
    "# path = DATA_DIR / 'thin.jpg'\n",
    "# thin.save(path, 'JPEG')\n",
    "\n",
    "# display(thin)"
   ]
  },
  {
   "cell_type": "markdown",
   "id": "natural-march",
   "metadata": {},
   "source": [
    "### Deskew image"
   ]
  },
  {
   "cell_type": "code",
   "execution_count": null,
   "id": "solar-delivery",
   "metadata": {},
   "outputs": [],
   "source": [
    "# NOTE: Pillow's rotate is only by whole numbers. Maybe an affine?\n",
    "\n",
    "# for angle in np.arange(0.0, 2.1, 0.1):\n",
    "#     rotated = binary.rotate(angle, fillcolor='black', expand=True)\n",
    "#     best = profile_projection(rotated, angle, best)\n",
    "\n",
    "# for angle in np.arange(178.0, 180.0, 0.1):\n",
    "#     rotated = binary.rotate(angle, fillcolor='black', expand=True)\n",
    "#     best = profile_projection(rotated, angle, best)"
   ]
  },
  {
   "cell_type": "code",
   "execution_count": null,
   "id": "iraqi-walnut",
   "metadata": {},
   "outputs": [],
   "source": []
  }
 ],
 "metadata": {
  "kernelspec": {
   "display_name": "Python 3",
   "language": "python",
   "name": "python3"
  },
  "language_info": {
   "codemirror_mode": {
    "name": "ipython",
    "version": 3
   },
   "file_extension": ".py",
   "mimetype": "text/x-python",
   "name": "python",
   "nbconvert_exporter": "python",
   "pygments_lexer": "ipython3",
   "version": "3.9.0+"
  },
  "varInspector": {
   "cols": {
    "lenName": 16,
    "lenType": 16,
    "lenVar": 40
   },
   "kernels_config": {
    "python": {
     "delete_cmd_postfix": "",
     "delete_cmd_prefix": "del ",
     "library": "var_list.py",
     "varRefreshCmd": "print(var_dic_list())"
    },
    "r": {
     "delete_cmd_postfix": ") ",
     "delete_cmd_prefix": "rm(",
     "library": "var_list.r",
     "varRefreshCmd": "cat(var_dic_list()) "
    }
   },
   "types_to_exclude": [
    "module",
    "function",
    "builtin_function_or_method",
    "instance",
    "_Feature"
   ],
   "window_display": false
  }
 },
 "nbformat": 4,
 "nbformat_minor": 5
}
