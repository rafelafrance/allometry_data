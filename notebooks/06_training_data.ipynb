{
 "cells": [
  {
   "cell_type": "code",
   "execution_count": 1,
   "id": "intended-guide",
   "metadata": {},
   "outputs": [],
   "source": [
    "import sys\n",
    "sys.path.append('..')"
   ]
  },
  {
   "cell_type": "code",
   "execution_count": 2,
   "id": "functional-alpha",
   "metadata": {},
   "outputs": [],
   "source": [
    "import string\n",
    "from pathlib import Path\n",
    "from random import seed, randint, choices, choice\n",
    "\n",
    "import numpy as np\n",
    "from PIL import Image, ImageDraw, ImageFilter, ImageFont, ImageOps\n",
    "from tqdm import tqdm\n",
    "\n",
    "from allometry.const import DATA_DIR, FONTS, IMAGE_SIZE"
   ]
  },
  {
   "cell_type": "code",
   "execution_count": 3,
   "id": "honest-portland",
   "metadata": {},
   "outputs": [
    {
     "data": {
      "text/plain": [
       "52"
      ]
     },
     "execution_count": 3,
     "metadata": {},
     "output_type": "execute_result"
    }
   ],
   "source": [
    "CHARS = \"\"\"0123456789ABCDEFGHIJKLMNOPQRSTUVWXYZ$%*()-+=<>?,./;:\"\"\"\n",
    "len(CHARS)"
   ]
  },
  {
   "cell_type": "code",
   "execution_count": 4,
   "id": "married-exclusion",
   "metadata": {},
   "outputs": [],
   "source": [
    "def custom_filter(image):\n",
    "    \"\"\"Degrade image in realistic way.\"\"\"\n",
    "    image = image.filter(ImageFilter.Kernel(\n",
    "        size=(3, 3), kernel=(1, 0, 1, 0, 0, 0, 1, 0, 1)))\n",
    "    return image"
   ]
  },
  {
   "cell_type": "code",
   "execution_count": 5,
   "id": "rolled-source",
   "metadata": {},
   "outputs": [],
   "source": [
    "def filter_image(image, image_filter):\n",
    "    \"\"\"Use filters to extend the effect of the added snow.\"\"\"\n",
    "    if image_filter == 'max':\n",
    "        image = image.filter(ImageFilter.MaxFilter())\n",
    "    elif image_filter == 'min':\n",
    "        image = image.filter(ImageFilter.MinFilter())\n",
    "    elif image_filter == 'median':\n",
    "        image = image.filter(ImageFilter.MedianFilter())\n",
    "    elif image_filter == 'custom-max':\n",
    "        image = custom_filter(image)\n",
    "        image = image.filter(ImageFilter.MaxFilter())\n",
    "    elif image_filter == 'custom-min':\n",
    "        image = custom_filter(image)\n",
    "        image = image.filter(ImageFilter.MinFilter())\n",
    "    elif image_filter == 'custom-median':\n",
    "        image = custom_filter(image)\n",
    "        image = image.filter(ImageFilter.MedianFilter())\n",
    "\n",
    "    return image"
   ]
  },
  {
   "cell_type": "code",
   "execution_count": 6,
   "id": "connected-client",
   "metadata": {},
   "outputs": [],
   "source": [
    "def add_snow(image, fract=0.1):\n",
    "    data = np.array(image).copy()\n",
    "\n",
    "    shape = data.shape\n",
    "    data = data.flatten()\n",
    "    how_many = int(data.size * fract)\n",
    "    mask = np.random.choice(data.size, how_many)\n",
    "    data[mask] = 0\n",
    "    data = data.reshape(shape)\n",
    "\n",
    "    image = Image.fromarray(data)\n",
    "    return image"
   ]
  },
  {
   "cell_type": "code",
   "execution_count": 30,
   "id": "patient-pizza",
   "metadata": {
    "scrolled": false
   },
   "outputs": [
    {
     "name": "stdout",
     "output_type": "stream",
     "text": [
      "1979_dot_matrix\n"
     ]
    },
    {
     "data": {
      "image/png": "[encoded data removed]",
      "text/plain": [
       "<PIL.Image.Image image mode=L size=32x48 at 0x7FB279F62940>"
      ]
     },
     "metadata": {},
     "output_type": "display_data"
    },
    {
     "name": "stdout",
     "output_type": "stream",
     "text": [
      "B612Mono-Bold\n"
     ]
    },
    {
     "data": {
      "image/png": "[encoded data removed]",
      "text/plain": [
       "<PIL.Image.Image image mode=L size=32x48 at 0x7FB27A124280>"
      ]
     },
     "metadata": {},
     "output_type": "display_data"
    },
    {
     "name": "stdout",
     "output_type": "stream",
     "text": [
      "B612Mono-Regular\n"
     ]
    },
    {
     "data": {
      "image/png": "[encoded data removed]",
      "text/plain": [
       "<PIL.Image.Image image mode=L size=32x48 at 0x7FB27AA12490>"
      ]
     },
     "metadata": {},
     "output_type": "display_data"
    },
    {
     "name": "stdout",
     "output_type": "stream",
     "text": [
      "CourierPrime-Bold\n"
     ]
    },
    {
     "data": {
      "image/png": "[encoded data removed]",
      "text/plain": [
       "<PIL.Image.Image image mode=L size=32x48 at 0x7FB27A124280>"
      ]
     },
     "metadata": {},
     "output_type": "display_data"
    },
    {
     "name": "stdout",
     "output_type": "stream",
     "text": [
      "CourierPrime-BoldItalic\n"
     ]
    },
    {
     "data": {
      "image/png": "[encoded data removed]",
      "text/plain": [
       "<PIL.Image.Image image mode=L size=32x48 at 0x7FB27AA12490>"
      ]
     },
     "metadata": {},
     "output_type": "display_data"
    },
    {
     "name": "stdout",
     "output_type": "stream",
     "text": [
      "CourierPrime-Italic\n"
     ]
    },
    {
     "data": {
      "image/png": "[encoded data removed]",
      "text/plain": [
       "<PIL.Image.Image image mode=L size=32x48 at 0x7FB279F62130>"
      ]
     },
     "metadata": {},
     "output_type": "display_data"
    },
    {
     "name": "stdout",
     "output_type": "stream",
     "text": [
      "CourierPrime-Regular\n"
     ]
    },
    {
     "data": {
      "image/png": "[encoded data removed]",
      "text/plain": [
       "<PIL.Image.Image image mode=L size=32x48 at 0x7FB279F620A0>"
      ]
     },
     "metadata": {},
     "output_type": "display_data"
    },
    {
     "name": "stdout",
     "output_type": "stream",
     "text": [
      "CutiveMono-Regular\n"
     ]
    },
    {
     "data": {
      "image/png": "[encoded data removed]",
      "text/plain": [
       "<PIL.Image.Image image mode=L size=32x48 at 0x7FB27A1C3BE0>"
      ]
     },
     "metadata": {},
     "output_type": "display_data"
    },
    {
     "name": "stdout",
     "output_type": "stream",
     "text": [
      "DOTMATRI\n"
     ]
    },
    {
     "data": {
      "image/png": "[encoded data removed]",
      "text/plain": [
       "<PIL.Image.Image image mode=L size=32x48 at 0x7FB27A2AC460>"
      ]
     },
     "metadata": {},
     "output_type": "display_data"
    },
    {
     "name": "stdout",
     "output_type": "stream",
     "text": [
      "RobotoMono-Italic-VariableFont_wght\n"
     ]
    },
    {
     "data": {
      "image/png": "[encoded data removed]",
      "text/plain": [
       "<PIL.Image.Image image mode=L size=32x48 at 0x7FB27A1C3BE0>"
      ]
     },
     "metadata": {},
     "output_type": "display_data"
    },
    {
     "name": "stdout",
     "output_type": "stream",
     "text": [
      "RobotoMono-VariableFont_wght\n"
     ]
    },
    {
     "data": {
      "image/png": "[encoded data removed]",
      "text/plain": [
       "<PIL.Image.Image image mode=L size=32x48 at 0x7FB27A2AC460>"
      ]
     },
     "metadata": {},
     "output_type": "display_data"
    },
    {
     "name": "stdout",
     "output_type": "stream",
     "text": [
      "SyneMono-Regular\n"
     ]
    },
    {
     "data": {
      "image/png": "[encoded data removed]",
      "text/plain": [
       "<PIL.Image.Image image mode=L size=32x48 at 0x7FB279F62BB0>"
      ]
     },
     "metadata": {},
     "output_type": "display_data"
    },
    {
     "name": "stdout",
     "output_type": "stream",
     "text": [
      "VT323-Regular\n"
     ]
    },
    {
     "data": {
      "image/png": "[encoded data removed]",
      "text/plain": [
       "<PIL.Image.Image image mode=L size=32x48 at 0x7FB279F62E50>"
      ]
     },
     "metadata": {},
     "output_type": "display_data"
    },
    {
     "name": "stdout",
     "output_type": "stream",
     "text": [
      "XanhMono-Regular\n"
     ]
    },
    {
     "data": {
      "image/png": "[encoded data removed]",
      "text/plain": [
       "<PIL.Image.Image image mode=L size=32x48 at 0x7FB279F62760>"
      ]
     },
     "metadata": {},
     "output_type": "display_data"
    },
    {
     "name": "stdout",
     "output_type": "stream",
     "text": [
      "DottyRegular-vZOy\n"
     ]
    },
    {
     "data": {
      "image/png": "[encoded data removed]",
      "text/plain": [
       "<PIL.Image.Image image mode=L size=32x48 at 0x7FB279F626A0>"
      ]
     },
     "metadata": {},
     "output_type": "display_data"
    },
    {
     "name": "stdout",
     "output_type": "stream",
     "text": [
      "EHSMB\n"
     ]
    },
    {
     "data": {
      "image/png": "[encoded data removed]",
      "text/plain": [
       "<PIL.Image.Image image mode=L size=32x48 at 0x7FB27AA12490>"
      ]
     },
     "metadata": {},
     "output_type": "display_data"
    },
    {
     "name": "stdout",
     "output_type": "stream",
     "text": [
      "ELEKTRA_\n"
     ]
    },
    {
     "data": {
      "image/png": "[encoded data removed]",
      "text/plain": [
       "<PIL.Image.Image image mode=L size=32x48 at 0x7FB279F629D0>"
      ]
     },
     "metadata": {},
     "output_type": "display_data"
    },
    {
     "name": "stdout",
     "output_type": "stream",
     "text": [
      "fake-receipt\n"
     ]
    },
    {
     "data": {
      "image/png": "[encoded data removed]",
      "text/plain": [
       "<PIL.Image.Image image mode=L size=32x48 at 0x7FB279F62BE0>"
      ]
     },
     "metadata": {},
     "output_type": "display_data"
    },
    {
     "name": "stdout",
     "output_type": "stream",
     "text": [
      "hydrogen\n"
     ]
    },
    {
     "data": {
      "image/png": "[encoded data removed]",
      "text/plain": [
       "<PIL.Image.Image image mode=L size=32x48 at 0x7FB279F62760>"
      ]
     },
     "metadata": {},
     "output_type": "display_data"
    },
    {
     "name": "stdout",
     "output_type": "stream",
     "text": [
      "Merchant Copy Doublesize\n"
     ]
    },
    {
     "data": {
      "image/png": "[encoded data removed]",
      "text/plain": [
       "<PIL.Image.Image image mode=L size=32x48 at 0x7FB279F62F40>"
      ]
     },
     "metadata": {},
     "output_type": "display_data"
    },
    {
     "name": "stdout",
     "output_type": "stream",
     "text": [
      "Merchant Copy Wide\n"
     ]
    },
    {
     "data": {
      "image/png": "[encoded data removed]",
      "text/plain": [
       "<PIL.Image.Image image mode=L size=32x48 at 0x7FB279F625B0>"
      ]
     },
     "metadata": {},
     "output_type": "display_data"
    },
    {
     "name": "stdout",
     "output_type": "stream",
     "text": [
      "Merchant Copy\n"
     ]
    },
    {
     "data": {
      "image/png": "[encoded data removed]",
      "text/plain": [
       "<PIL.Image.Image image mode=L size=32x48 at 0x7FB279F626A0>"
      ]
     },
     "metadata": {},
     "output_type": "display_data"
    },
    {
     "name": "stdout",
     "output_type": "stream",
     "text": [
      "OCRB_Medium\n"
     ]
    },
    {
     "data": {
      "image/png": "[encoded data removed]",
      "text/plain": [
       "<PIL.Image.Image image mode=L size=32x48 at 0x7FB27A1C3BE0>"
      ]
     },
     "metadata": {},
     "output_type": "display_data"
    },
    {
     "name": "stdout",
     "output_type": "stream",
     "text": [
      "OCRB_Regular\n"
     ]
    },
    {
     "data": {
      "image/png": "[encoded data removed]",
      "text/plain": [
       "<PIL.Image.Image image mode=L size=32x48 at 0x7FB279F62940>"
      ]
     },
     "metadata": {},
     "output_type": "display_data"
    },
    {
     "name": "stdout",
     "output_type": "stream",
     "text": [
      "OcrB2\n"
     ]
    },
    {
     "data": {
      "image/png": "[encoded data removed]",
      "text/plain": [
       "<PIL.Image.Image image mode=L size=32x48 at 0x7FB27AA12490>"
      ]
     },
     "metadata": {},
     "output_type": "display_data"
    },
    {
     "name": "stdout",
     "output_type": "stream",
     "text": [
      "Ordre de Départ\n"
     ]
    },
    {
     "data": {
      "image/png": "[encoded data removed]",
      "text/plain": [
       "<PIL.Image.Image image mode=L size=32x48 at 0x7FB27A124280>"
      ]
     },
     "metadata": {},
     "output_type": "display_data"
    },
    {
     "name": "stdout",
     "output_type": "stream",
     "text": [
      "scoreboard\n"
     ]
    },
    {
     "data": {
      "image/png": "[encoded data removed]",
      "text/plain": [
       "<PIL.Image.Image image mode=L size=32x48 at 0x7FB279F62D00>"
      ]
     },
     "metadata": {},
     "output_type": "display_data"
    }
   ],
   "source": [
    "char = 'W'\n",
    "\n",
    "\n",
    "FONT_PARAMS = {\n",
    "    '1979_dot_matrix': {'high': 40},\n",
    "    'B612Mono-Bold': {'high': 48, 'filter': 'custom-median'},\n",
    "    'B612Mono-Regular': {'high': 48},\n",
    "    'CourierPrime-Bold': {'high': 48, 'filter': 'custom-median'},\n",
    "    'CourierPrime-BoldItalic': {'high': 48, 'filter': 'custom-median'},\n",
    "    'CourierPrime-Italic': {'high': 48},\n",
    "    'CourierPrime-Regular': {'high': 48},\n",
    "    'CutiveMono-Regular': {'high': 52},\n",
    "    'DOTMATRI': {'high': 54},\n",
    "    'DOTMBold': {'high': 48},\n",
    "    'DottyRegular-vZOy': {'high': 72},\n",
    "    'EHSMB': {'high': 48},\n",
    "    'ELEKTRA_': {'high': 54},\n",
    "    'Merchant Copy Doublesize': {'high': 44, 'filter': 'custom-median'},\n",
    "    'Merchant Copy Wide': {'high': 48},\n",
    "    'Merchant Copy': {'high': 72},\n",
    "    'Minecart_LCD': {'high': 48},\n",
    "    'OCRB_Medium': {'high': 48, 'filter': 'custom-median'},\n",
    "    'OCRB_Regular': {'high': 48, 'filter': 'custom-median'},\n",
    "    'OcrB2': {'high': 48, 'filter': 'custom-median'},\n",
    "    'Ordre de Départ': {'high': 48},\n",
    "    'RobotoMono-Italic-VariableFont_wght': {'high': 48, 'tiny': -4},\n",
    "    'RobotoMono-VariableFont_wght': {'high': 48, 'tiny': -4},\n",
    "    'SyneMono-Regular': {'high': 48},\n",
    "    'VT323-Regular': {'high': 54},\n",
    "    'XanhMono-Regular': {'high': 48},\n",
    "    'fake-receipt': {'high': 48},\n",
    "    'hydrogen': {'high': 54},\n",
    "    'scoreboard': {'high': 48},\n",
    "}\n",
    "\n",
    "\n",
    "TINY_PUNCT = '.-,'\n",
    "OTHER_PUNCT = \"\"\"$%*()<=>?+/;:^\"\"\"\n",
    "CHARS = list(string.digits + string.ascii_uppercase + TINY_PUNCT + OTHER_PUNCT)\n",
    "\n",
    "WEIGHTS = [10] * len(string.digits)\n",
    "WEIGHTS += [5] * len(string.ascii_uppercase)\n",
    "WEIGHTS += [10] * len(TINY_PUNCT)\n",
    "WEIGHTS += [1] * len(OTHER_PUNCT)\n",
    "\n",
    "\n",
    "for font_path in FONTS:\n",
    "    print(font_path.stem)\n",
    "\n",
    "    params = FONT_PARAMS.get(font_path.stem, {})\n",
    "\n",
    "    size_high = params.get('high', 40)\n",
    "    size_low = size_high - 4\n",
    "    font_size = randint(size_low, size_high)\n",
    "    snow = params.get('snow', 0.2)\n",
    "    filter_ = params.get('filter', 'median')\n",
    "    tiny = params.get('tiny', 0)\n",
    "\n",
    "    font = ImageFont.truetype(str(font_path), size=font_size)\n",
    "    size = font.getsize_multiline(char)\n",
    "\n",
    "    left, top = 0, 0\n",
    "    if char in TINY_PUNCT:\n",
    "        left, top = tiny, tiny\n",
    "    else:\n",
    "        if size[0] < IMAGE_SIZE[0] - 1:\n",
    "            left = randint(1, (IMAGE_SIZE[0] - size[0] - 1))\n",
    "        if size[1] < IMAGE_SIZE[1] - 1:\n",
    "            top = randint(1, (IMAGE_SIZE[1] - size[1] - 1))\n",
    "\n",
    "    image = Image.new('L', IMAGE_SIZE, color='black')\n",
    "\n",
    "    draw = ImageDraw.Draw(image)\n",
    "    draw.text((left, top), char, font=font, fill='white')\n",
    "\n",
    "    if snow:\n",
    "        image = add_snow(image, snow)\n",
    "\n",
    "    if filter_:\n",
    "        image = filter_image(image, filter_)\n",
    "\n",
    "    image = image.point(lambda x: 255 if x > 128 else 0)\n",
    "\n",
    "    display(image)"
   ]
  },
  {
   "cell_type": "code",
   "execution_count": null,
   "id": "polished-seattle",
   "metadata": {},
   "outputs": [],
   "source": []
  },
  {
   "cell_type": "code",
   "execution_count": null,
   "id": "verbal-advisory",
   "metadata": {},
   "outputs": [],
   "source": []
  },
  {
   "cell_type": "code",
   "execution_count": null,
   "id": "clear-speaking",
   "metadata": {},
   "outputs": [],
   "source": []
  }
 ],
 "metadata": {
  "kernelspec": {
   "display_name": "Python 3",
   "language": "python",
   "name": "python3"
  },
  "language_info": {
   "codemirror_mode": {
    "name": "ipython",
    "version": 3
   },
   "file_extension": ".py",
   "mimetype": "text/x-python",
   "name": "python",
   "nbconvert_exporter": "python",
   "pygments_lexer": "ipython3",
   "version": "3.9.0+"
  },
  "varInspector": {
   "cols": {
    "lenName": 16,
    "lenType": 16,
    "lenVar": 40
   },
   "kernels_config": {
    "python": {
     "delete_cmd_postfix": "",
     "delete_cmd_prefix": "del ",
     "library": "var_list.py",
     "varRefreshCmd": "print(var_dic_list())"
    },
    "r": {
     "delete_cmd_postfix": ") ",
     "delete_cmd_prefix": "rm(",
     "library": "var_list.r",
     "varRefreshCmd": "cat(var_dic_list()) "
    }
   },
   "types_to_exclude": [
    "module",
    "function",
    "builtin_function_or_method",
    "instance",
    "_Feature"
   ],
   "window_display": false
  }
 },
 "nbformat": 4,
 "nbformat_minor": 5
}
