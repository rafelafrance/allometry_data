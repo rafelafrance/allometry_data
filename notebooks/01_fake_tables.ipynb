{
 "cells": [
  {
   "cell_type": "markdown",
   "id": "alternate-stanford",
   "metadata": {},
   "source": [
    "# Test Creating Fake Allometry Data"
   ]
  },
  {
   "cell_type": "code",
   "execution_count": 1,
   "id": "toxic-toronto",
   "metadata": {},
   "outputs": [],
   "source": [
    "import string\n",
    "from collections import defaultdict, deque\n",
    "from datetime import datetime, timedelta\n",
    "from random import choice, randint, random, randrange, seed\n",
    "from pathlib import Path\n",
    "\n",
    "import pandas as pd\n",
    "import matplotlib.pyplot as plt\n",
    "import numpy as np\n",
    "import skimage as ski\n",
    "from PIL import Image, ImageDraw, ImageFilter, ImageFont\n",
    "from pytesseract import image_to_string"
   ]
  },
  {
   "cell_type": "code",
   "execution_count": 2,
   "id": "complimentary-helen",
   "metadata": {},
   "outputs": [],
   "source": [
    "DATA_DIR = Path('..') / 'data'\n",
    "ITIS_DIR = DATA_DIR / 'itis'\n",
    "CLEAN_DIR = DATA_DIR / 'clean'\n",
    "DIRTY_DIR = DATA_DIR / 'dirty'"
   ]
  },
  {
   "cell_type": "code",
   "execution_count": 3,
   "id": "three-album",
   "metadata": {},
   "outputs": [],
   "source": [
    "SEED = 981\n",
    "seed(SEED)"
   ]
  },
  {
   "cell_type": "markdown",
   "id": "declared-certificate",
   "metadata": {},
   "source": [
    "## Columns for the fake data"
   ]
  },
  {
   "cell_type": "markdown",
   "id": "tired-glance",
   "metadata": {},
   "source": [
    "Get some genus and species names to use as fake IDs"
   ]
  },
  {
   "cell_type": "code",
   "execution_count": 4,
   "id": "rubber-afghanistan",
   "metadata": {},
   "outputs": [],
   "source": [
    "with open(ITIS_DIR / 'species.txt') as in_file:\n",
    "    species = [ln.strip().upper() for ln in in_file.readlines()]\n",
    "\n",
    "with open(ITIS_DIR / 'genera.txt') as in_file:\n",
    "    genera = [ln.strip().upper() + ' SP' for ln in in_file.readlines()]"
   ]
  },
  {
   "cell_type": "code",
   "execution_count": 5,
   "id": "least-jonathan",
   "metadata": {},
   "outputs": [],
   "source": [
    "def fake_id(i, width=20):\n",
    "    id_ = choice(species) if random() < 0.8 else choice(genera)\n",
    "    return id_[:width].ljust(width)"
   ]
  },
  {
   "cell_type": "markdown",
   "id": "confident-cream",
   "metadata": {},
   "source": [
    "The UF ID is just a string of letters and digits between 5 and 6 characters long."
   ]
  },
  {
   "cell_type": "code",
   "execution_count": 6,
   "id": "confused-intake",
   "metadata": {},
   "outputs": [],
   "source": [
    "uf_chars = string.ascii_uppercase + string.digits\n",
    "\n",
    "\n",
    "def fake_uf(i, width=6):\n",
    "    length = randint(5, width)\n",
    "    uf = [choice(uf_chars) for i in range(length + 1)]\n",
    "    uf = ''.join(uf)\n",
    "    return uf[:width].ljust(width)"
   ]
  },
  {
   "cell_type": "markdown",
   "id": "stable-offering",
   "metadata": {},
   "source": [
    "The numbers are all similar with NA being represented as a lone decimal point. 1 in 10 numbers will be NA. The numbers are returned as fixed length stings.\n",
    "\n",
    "after = The number of digits after the decimal point.\n",
    "\n",
    "neg = Does the number allow negative values?"
   ]
  },
  {
   "cell_type": "code",
   "execution_count": 7,
   "id": "seventh-increase",
   "metadata": {},
   "outputs": [],
   "source": [
    "high = 9.999999\n",
    "sub = high / 2.0\n",
    "before_neg = 3  # sign + before digits + point\n",
    "before_pos = 2  # before digits + point\n",
    "\n",
    "\n",
    "def fake_float(i, after=4, neg=False):\n",
    "    num = random() * high\n",
    "    num = num if not neg else (num - sub)\n",
    "\n",
    "    if neg:\n",
    "        formatter = f'{{: {before_neg + after}.{after}f}}'\n",
    "        na = f'  .{\" \" * after}'\n",
    "    else:\n",
    "        formatter = f'{{:{before_pos + after}.{after}f}}'\n",
    "        na = f' .{\" \" * after}'\n",
    "\n",
    "    formatted = formatter.format(num)\n",
    "    if random() < 0.1:\n",
    "        formatted = na\n",
    "\n",
    "    return formatted"
   ]
  },
  {
   "cell_type": "markdown",
   "id": "inside-designer",
   "metadata": {},
   "source": [
    "Generate a fake table.\n",
    "\n",
    "**Note that there will be other table formats.**"
   ]
  },
  {
   "cell_type": "code",
   "execution_count": 8,
   "id": "legal-smith",
   "metadata": {},
   "outputs": [],
   "source": [
    "columns = [\n",
    "    {\n",
    "        'name': 'OBS',\n",
    "        'width': 3,\n",
    "        'just': 'left',\n",
    "        'func': lambda i: str(i).rjust(3)\n",
    "    },\n",
    "    {\n",
    "        'name': 'ID',\n",
    "        'width': 20,\n",
    "        'just': 'center',\n",
    "        'func': fake_id\n",
    "    },\n",
    "    {\n",
    "        'name': 'UF',\n",
    "        'width': 6,\n",
    "        'just': 'left',\n",
    "        'func': fake_uf\n",
    "    },\n",
    "    {\n",
    "        'name': 'TFW',\n",
    "        'width': 6,\n",
    "        'just': 'right',\n",
    "        'func': fake_float,\n",
    "        'args': {\n",
    "            'after': 4,\n",
    "            'neg': False\n",
    "        }\n",
    "    },\n",
    "    {\n",
    "        'name': 'SW',\n",
    "        'width': 6,\n",
    "        'just': 'left',\n",
    "        'func': fake_float,\n",
    "        'args': {\n",
    "            'after': 4,\n",
    "            'neg': False\n",
    "        }\n",
    "    },\n",
    "    {\n",
    "        'name': 'WDV',\n",
    "        'width': 6,\n",
    "        'just': 'left',\n",
    "        'func': fake_float,\n",
    "        'args': {\n",
    "            'after': 4,\n",
    "            'neg': False\n",
    "        }\n",
    "    },\n",
    "    {\n",
    "        'name': 'TBW',\n",
    "        'width': 8,\n",
    "        'just': 'left',\n",
    "        'func': fake_float,\n",
    "        'args': {\n",
    "            'after': 6,\n",
    "            'neg': False\n",
    "        }\n",
    "    },\n",
    "    {\n",
    "        'name': 'USW',\n",
    "        'width': 6,\n",
    "        'just': 'left',\n",
    "        'func': fake_float,\n",
    "        'args': {\n",
    "            'after': 4,\n",
    "            'neg': False\n",
    "        }\n",
    "    },\n",
    "    {\n",
    "        'name': 'PFW',\n",
    "        'width': 4,\n",
    "        'just': 'left',\n",
    "        'func': fake_float,\n",
    "        'args': {\n",
    "            'after': 2,\n",
    "            'neg': False\n",
    "        }\n",
    "    },\n",
    "    {\n",
    "        'name': 'OCW',\n",
    "        'width': 4,\n",
    "        'just': 'left',\n",
    "        'func': fake_float,\n",
    "        'args': {\n",
    "            'after': 2,\n",
    "            'neg': False\n",
    "        }\n",
    "    },\n",
    "    {\n",
    "        'name': 'AGW',\n",
    "        'width': 4,\n",
    "        'just': 'left',\n",
    "        'func': fake_float,\n",
    "        'args': {\n",
    "            'after': 2,\n",
    "            'neg': False\n",
    "        }\n",
    "    },\n",
    "    {\n",
    "        'name': 'ASTLOG',\n",
    "        'width': 8,\n",
    "        'just': 'right',\n",
    "        'func': fake_float,\n",
    "        'args': {\n",
    "            'after': 5,\n",
    "            'neg': True\n",
    "        }\n",
    "    },\n",
    "    {\n",
    "        'name': 'BIOLOG',\n",
    "        'width': 7,\n",
    "        'just': 'right',\n",
    "        'func': fake_float,\n",
    "        'args': {\n",
    "            'after': 4,\n",
    "            'neg': True\n",
    "        }\n",
    "    },\n",
    "]"
   ]
  },
  {
   "cell_type": "code",
   "execution_count": 9,
   "id": "sunset-commander",
   "metadata": {},
   "outputs": [],
   "source": [
    "min_rows = 50\n",
    "max_rows = 76\n",
    "\n",
    "\n",
    "def fake_data():\n",
    "    count = randint(min_rows, max_rows) + 1\n",
    "    rows = [{c['name']: c['func'](i, **c.get('args', {}))\n",
    "             for c in columns} for i in range(1, count)]\n",
    "    return rows"
   ]
  },
  {
   "cell_type": "code",
   "execution_count": 10,
   "id": "operating-twelve",
   "metadata": {},
   "outputs": [],
   "source": [
    "rows = fake_data()"
   ]
  },
  {
   "cell_type": "markdown",
   "id": "random-better",
   "metadata": {},
   "source": [
    "## Generate fake page text"
   ]
  },
  {
   "cell_type": "code",
   "execution_count": 11,
   "id": "minus-lodging",
   "metadata": {},
   "outputs": [],
   "source": [
    "spaces = ' ' * 6"
   ]
  },
  {
   "cell_type": "markdown",
   "id": "jewish-inside",
   "metadata": {},
   "source": [
    "Add the rows first so we can easily calculate the page width in characters."
   ]
  },
  {
   "cell_type": "code",
   "execution_count": 12,
   "id": "voluntary-stake",
   "metadata": {},
   "outputs": [],
   "source": [
    "lines = []\n",
    "for row in rows:\n",
    "    lines.append((spaces.join(v for v in row.values())))\n",
    "\n",
    "line_len = len(lines[0])"
   ]
  },
  {
   "cell_type": "markdown",
   "id": "collect-canvas",
   "metadata": {},
   "source": [
    "Generate fake page header."
   ]
  },
  {
   "cell_type": "code",
   "execution_count": 13,
   "id": "subjective-collaboration",
   "metadata": {},
   "outputs": [],
   "source": [
    "header = ' '.join(list('STATISTICAL ANANYSIS SYSTEM'))\n",
    "header = header.center(line_len)\n",
    "header += '  ' + str(randint(1, 3))\n",
    "page_header = header"
   ]
  },
  {
   "cell_type": "markdown",
   "id": "amber-lotus",
   "metadata": {},
   "source": [
    "Generate a fake date line"
   ]
  },
  {
   "cell_type": "code",
   "execution_count": 14,
   "id": "decent-treaty",
   "metadata": {},
   "outputs": [],
   "source": [
    "date = datetime(randint(1970, 1990), 1, 1)\n",
    "date += timedelta(days=randint(0, 365))\n",
    "date += timedelta(seconds=randint(0, 24 * 60 * 60))\n",
    "date = date.strftime('%H:%M %A, %B %m, %Y')\n",
    "date_line = date.rjust(line_len + 3) + '\\n'"
   ]
  },
  {
   "cell_type": "markdown",
   "id": "simplified-course",
   "metadata": {},
   "source": [
    "Generate fake column headers."
   ]
  },
  {
   "cell_type": "code",
   "execution_count": 15,
   "id": "governmental-christopher",
   "metadata": {},
   "outputs": [],
   "source": [
    "headers = []\n",
    "for col in columns:\n",
    "    name = col['name']\n",
    "    width = col['width']\n",
    "\n",
    "    if col['just'] == 'center':\n",
    "        header = name.center(width)\n",
    "    elif col['just'] == 'right':\n",
    "        header = name.rjust(width)\n",
    "    else:\n",
    "        header = name.ljust(width)\n",
    "\n",
    "    headers.append(header[:width])\n",
    "\n",
    "column_headers = spaces.join(h for h in headers) + '\\n'"
   ]
  },
  {
   "cell_type": "code",
   "execution_count": 16,
   "id": "pressing-ending",
   "metadata": {},
   "outputs": [],
   "source": [
    "page = [page_header, date_line, column_headers] + lines\n",
    "page = '\\n'.join(page) + '\\n'"
   ]
  },
  {
   "cell_type": "markdown",
   "id": "revolutionary-hawaii",
   "metadata": {},
   "source": [
    "## Generate clean fake page image"
   ]
  },
  {
   "cell_type": "code",
   "execution_count": 17,
   "id": "modified-developer",
   "metadata": {},
   "outputs": [],
   "source": [
    "width = 4500\n",
    "height = 3400\n",
    "\n",
    "font = ImageFont.truetype('/home/rafe/.local/share/fonts/OCRB Regular.ttf', 36)\n",
    "\n",
    "image = Image.new(mode='L', size=(width, height), color='white')\n",
    "\n",
    "draw = ImageDraw.Draw(image)\n",
    "\n",
    "draw.text((50, 50), page, font=font, fill='black')\n",
    "\n",
    "image.save(CLEAN_DIR / 'test.jpg', 'JPEG')\n",
    "\n",
    "# display(image)"
   ]
  },
  {
   "cell_type": "markdown",
   "id": "exposed-effects",
   "metadata": {},
   "source": [
    "## Sully the image"
   ]
  },
  {
   "cell_type": "markdown",
   "id": "exotic-phenomenon",
   "metadata": {},
   "source": [
    "A function to change random values in a numpy array."
   ]
  },
  {
   "cell_type": "code",
   "execution_count": 18,
   "id": "traditional-flashing",
   "metadata": {},
   "outputs": [],
   "source": [
    "def add_snow(image, fract=0.1, low=128, high=255):\n",
    "    shape = image.shape\n",
    "    image = image.flatten()\n",
    "    how_many = int(image.size * fract)\n",
    "    mask = np.random.choice(image.size, how_many)\n",
    "    image[mask] = np.random.randint(low, high)\n",
    "    image = image.reshape(shape)\n",
    "    return image"
   ]
  },
  {
   "cell_type": "code",
   "execution_count": 19,
   "id": "excited-adolescent",
   "metadata": {},
   "outputs": [],
   "source": [
    "# kernel = np.array([\n",
    "#     [-1, -1, -1],\n",
    "#     [-1,  8, -1],\n",
    "#     [-1, -1, -1],\n",
    "# ])\n",
    "# dirty = image.filter(ImageFilter.Kernel(size=(3, 3), kernel=kernel.flatten(), scale=0.1))\n",
    "\n",
    "dirty = np.array(image)\n",
    "dirty = add_snow(dirty, fract=0.05)\n",
    "dirty = Image.fromarray(dirty)\n",
    "\n",
    "dirty = dirty.filter(ImageFilter.UnsharpMask())\n",
    "dirty = dirty.filter(ImageFilter.MaxFilter())\n",
    "\n",
    "dirty = dirty.convert('RGB')\n",
    "\n",
    "dirty.save(DIRTY_DIR / 'test.jpg', 'JPEG')\n",
    "\n",
    "# display(dirty)"
   ]
  },
  {
   "cell_type": "code",
   "execution_count": null,
   "id": "broken-pulse",
   "metadata": {},
   "outputs": [],
   "source": []
  }
 ],
 "metadata": {
  "kernelspec": {
   "display_name": "Python 3",
   "language": "python",
   "name": "python3"
  },
  "language_info": {
   "codemirror_mode": {
    "name": "ipython",
    "version": 3
   },
   "file_extension": ".py",
   "mimetype": "text/x-python",
   "name": "python",
   "nbconvert_exporter": "python",
   "pygments_lexer": "ipython3",
   "version": "3.8.6"
  },
  "varInspector": {
   "cols": {
    "lenName": 16,
    "lenType": 16,
    "lenVar": 40
   },
   "kernels_config": {
    "python": {
     "delete_cmd_postfix": "",
     "delete_cmd_prefix": "del ",
     "library": "var_list.py",
     "varRefreshCmd": "print(var_dic_list())"
    },
    "r": {
     "delete_cmd_postfix": ") ",
     "delete_cmd_prefix": "rm(",
     "library": "var_list.r",
     "varRefreshCmd": "cat(var_dic_list()) "
    }
   },
   "types_to_exclude": [
    "module",
    "function",
    "builtin_function_or_method",
    "instance",
    "_Feature"
   ],
   "window_display": false
  }
 },
 "nbformat": 4,
 "nbformat_minor": 5
}
