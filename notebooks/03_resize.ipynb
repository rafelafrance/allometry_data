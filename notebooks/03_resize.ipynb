{
 "cells": [
  {
   "cell_type": "code",
   "execution_count": 4,
   "id": "inner-relation",
   "metadata": {},
   "outputs": [],
   "source": [
    "from os.path import join\n",
    "from pathlib import Path\n",
    "from PIL import Image"
   ]
  },
  {
   "cell_type": "code",
   "execution_count": 6,
   "id": "wound-mounting",
   "metadata": {},
   "outputs": [],
   "source": [
    "DATA_DIR = Path('..') / 'data'\n",
    "SHEET = DATA_DIR / 'allometry_sheets'\n",
    "SHEET = SHEET / 'Biomass_Fish_Families_FamilyProgram'\n",
    "SHEET = SHEET / '00001.tif'\n",
    "OUT = str(DATA)"
   ]
  },
  {
   "cell_type": "code",
   "execution_count": 7,
   "id": "obvious-financing",
   "metadata": {},
   "outputs": [],
   "source": [
    "image = Image.open(SHEET)"
   ]
  },
  {
   "cell_type": "code",
   "execution_count": 8,
   "id": "entire-curve",
   "metadata": {},
   "outputs": [],
   "source": [
    "width, height = image.size\n",
    "width, height = width // 2, height // 2\n",
    "image0 = image.resize((width, height))\n",
    "image1 = image.resize((width, height), Image.BILINEAR)\n",
    "image2 = image.resize((width, height), Image.HAMMING)\n",
    "image3 = image.resize((width, height), Image.BICUBIC)\n",
    "image4 = image.resize((width, height), Image.LANCZOS)"
   ]
  },
  {
   "cell_type": "code",
   "execution_count": null,
   "id": "superb-wrestling",
   "metadata": {},
   "outputs": [],
   "source": [
    "# display(image0)\n",
    "# image0.save(join(OUT, 'image0.jpg'), 'JPEG')"
   ]
  },
  {
   "cell_type": "code",
   "execution_count": null,
   "id": "passive-parallel",
   "metadata": {},
   "outputs": [],
   "source": [
    "# display(image1)\n",
    "# image1.save(join(OUT, 'image1.jpg'), 'JPEG')"
   ]
  },
  {
   "cell_type": "code",
   "execution_count": null,
   "id": "engaged-sheet",
   "metadata": {},
   "outputs": [],
   "source": [
    "# display(image2)\n",
    "# image2.save(join(OUT, 'image2.jpg'), 'JPEG')"
   ]
  },
  {
   "cell_type": "code",
   "execution_count": null,
   "id": "lovely-transmission",
   "metadata": {},
   "outputs": [],
   "source": [
    "# display(image3)\n",
    "# image3.save(join(OUT, 'image3.jpg'), 'JPEG')"
   ]
  },
  {
   "cell_type": "code",
   "execution_count": null,
   "id": "dimensional-hampton",
   "metadata": {},
   "outputs": [],
   "source": [
    "# display(image4)\n",
    "# image4.save(join(OUT, 'image4.jpg'), 'JPEG')"
   ]
  },
  {
   "cell_type": "code",
   "execution_count": null,
   "id": "elegant-dominant",
   "metadata": {},
   "outputs": [],
   "source": []
  }
 ],
 "metadata": {
  "kernelspec": {
   "display_name": "Python 3",
   "language": "python",
   "name": "python3"
  },
  "language_info": {
   "codemirror_mode": {
    "name": "ipython",
    "version": 3
   },
   "file_extension": ".py",
   "mimetype": "text/x-python",
   "name": "python",
   "nbconvert_exporter": "python",
   "pygments_lexer": "ipython3",
   "version": "3.9.0+"
  },
  "varInspector": {
   "cols": {
    "lenName": 16,
    "lenType": 16,
    "lenVar": 40
   },
   "kernels_config": {
    "python": {
     "delete_cmd_postfix": "",
     "delete_cmd_prefix": "del ",
     "library": "var_list.py",
     "varRefreshCmd": "print(var_dic_list())"
    },
    "r": {
     "delete_cmd_postfix": ") ",
     "delete_cmd_prefix": "rm(",
     "library": "var_list.r",
     "varRefreshCmd": "cat(var_dic_list()) "
    }
   },
   "types_to_exclude": [
    "module",
    "function",
    "builtin_function_or_method",
    "instance",
    "_Feature"
   ],
   "window_display": false
  }
 },
 "nbformat": 4,
 "nbformat_minor": 5
}
