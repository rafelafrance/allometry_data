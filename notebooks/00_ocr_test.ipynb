{
 "cells": [
  {
   "cell_type": "markdown",
   "metadata": {},
   "source": [
    "# Test OCR\n",
    "\n",
    "This is not really expected to produce usable output."
   ]
  },
  {
   "cell_type": "code",
   "execution_count": 1,
   "metadata": {},
   "outputs": [],
   "source": [
    "from pathlib import Path\n",
    "\n",
    "import cv2\n",
    "import matplotlib.pyplot as plt\n",
    "import numpy as np\n",
    "from pytesseract import image_to_string\n",
    "from ipywidgets import interact"
   ]
  },
  {
   "cell_type": "code",
   "execution_count": 2,
   "metadata": {},
   "outputs": [],
   "source": [
    "DATA_DIR = Path('..') / 'data'\n",
    "SHEET_FEED = DATA_DIR / 'old' / 'Sheetfeed'\n",
    "\n",
    "IMAGE = str(SHEET_FEED / 'test0019.tif')"
   ]
  },
  {
   "cell_type": "code",
   "execution_count": 3,
   "metadata": {},
   "outputs": [],
   "source": [
    "INCHES = 32\n",
    "\n",
    "\n",
    "def show_image(image):\n",
    "\n",
    "    fig, ax = plt.subplots(1, 1)\n",
    "\n",
    "    ax.imshow(image, cmap='gray')\n",
    "    ax.axis('off')\n",
    "\n",
    "    fig.set_size_inches(INCHES, INCHES)\n",
    "    plt.show()"
   ]
  },
  {
   "cell_type": "code",
   "execution_count": 4,
   "metadata": {},
   "outputs": [
    {
     "name": "stdout",
     "output_type": "stream",
     "text": [
      "(3321, 4467)\n"
     ]
    }
   ],
   "source": [
    "gray = cv2.imread(IMAGE, cv2.IMREAD_GRAYSCALE)\n",
    "gray = cv2.rotate(gray, cv2.ROTATE_90_CLOCKWISE)\n",
    "\n",
    "print(gray.shape)\n",
    "# show_image(gray)"
   ]
  },
  {
   "cell_type": "code",
   "execution_count": 5,
   "metadata": {},
   "outputs": [],
   "source": [
    "ocr = image_to_string(gray, lang='eng', config='allometry.config')\n",
    "# print(ocr)"
   ]
  },
  {
   "cell_type": "code",
   "execution_count": 6,
   "metadata": {},
   "outputs": [],
   "source": [
    "kernel = np.ones((4, 4), np.uint8)\n",
    "\n",
    "binary = None\n",
    "\n",
    "\n",
    "def binarize(threshold):\n",
    "    global binary\n",
    "    print(threshold)\n",
    "\n",
    "#     binary = cv2.threshold(gray, 0, threshold, cv2.THRESH_BINARY)[1]\n",
    "#     binary = cv2.threshold(\n",
    "#         gray, 0, threshold,\n",
    "#         cv2.THRESH_OTSU)[1]\n",
    "\n",
    "    binary = cv2.adaptiveThreshold(\n",
    "        gray, 255, cv2.ADAPTIVE_THRESH_GAUSSIAN_C, cv2.THRESH_BINARY, 21, 2)\n",
    "\n",
    "    show_image(binary)\n",
    "\n",
    "\n",
    "# interact(binarize, threshold=(0, 255))"
   ]
  },
  {
   "cell_type": "code",
   "execution_count": 7,
   "metadata": {},
   "outputs": [],
   "source": [
    "# ocr = image_to_string(binary, lang='eng', config='allometry.config')\n",
    "# print(ocr)"
   ]
  },
  {
   "cell_type": "code",
   "execution_count": 8,
   "metadata": {},
   "outputs": [],
   "source": [
    "# canny = cv2.Canny(binary, 60, 300)  \n",
    "# canny = cv2.bitwise_not(canny)\n",
    "# show_image(canny)"
   ]
  },
  {
   "cell_type": "code",
   "execution_count": 9,
   "metadata": {},
   "outputs": [],
   "source": [
    "# ocr = image_to_string(canny, lang='eng', config='allometry.config')\n",
    "# print(ocr)"
   ]
  },
  {
   "cell_type": "code",
   "execution_count": null,
   "metadata": {},
   "outputs": [],
   "source": []
  }
 ],
 "metadata": {
  "kernelspec": {
   "display_name": "Python 3",
   "language": "python",
   "name": "python3"
  },
  "language_info": {
   "codemirror_mode": {
    "name": "ipython",
    "version": 3
   },
   "file_extension": ".py",
   "mimetype": "text/x-python",
   "name": "python",
   "nbconvert_exporter": "python",
   "pygments_lexer": "ipython3",
   "version": "3.9.0+"
  },
  "toc": {
   "base_numbering": 1,
   "nav_menu": {},
   "number_sections": true,
   "sideBar": true,
   "skip_h1_title": false,
   "title_cell": "Table of Contents",
   "title_sidebar": "Contents",
   "toc_cell": false,
   "toc_position": {},
   "toc_section_display": true,
   "toc_window_display": false
  },
  "varInspector": {
   "cols": {
    "lenName": 16,
    "lenType": 16,
    "lenVar": 40
   },
   "kernels_config": {
    "python": {
     "delete_cmd_postfix": "",
     "delete_cmd_prefix": "del ",
     "library": "var_list.py",
     "varRefreshCmd": "print(var_dic_list())"
    },
    "r": {
     "delete_cmd_postfix": ") ",
     "delete_cmd_prefix": "rm(",
     "library": "var_list.r",
     "varRefreshCmd": "cat(var_dic_list()) "
    }
   },
   "types_to_exclude": [
    "module",
    "function",
    "builtin_function_or_method",
    "instance",
    "_Feature"
   ],
   "window_display": false
  }
 },
 "nbformat": 4,
 "nbformat_minor": 4
}
