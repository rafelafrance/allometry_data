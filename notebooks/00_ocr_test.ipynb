{
 "cells": [
  {
   "cell_type": "markdown",
   "metadata": {},
   "source": [
    "# Test OCR\n",
    "\n",
    "This is not really expected to produce usable output."
   ]
  },
  {
   "cell_type": "code",
   "execution_count": 1,
   "metadata": {},
   "outputs": [],
   "source": [
    "from pathlib import Path\n",
    "\n",
    "import cv2\n",
    "import matplotlib.pyplot as plt\n",
    "import numpy as np\n",
    "from pytesseract import image_to_string\n",
    "from ipywidgets import interact"
   ]
  },
  {
   "cell_type": "code",
   "execution_count": 2,
   "metadata": {},
   "outputs": [],
   "source": [
    "DATA_DIR = Path('..') / 'data'\n",
    "SHEET_FEED = DATA_DIR / 'old' / 'Sheetfeed'\n",
    "\n",
    "IMAGE = str(SHEET_FEED / 'test0019.tif')"
   ]
  },
  {
   "cell_type": "code",
   "execution_count": 3,
   "metadata": {},
   "outputs": [],
   "source": [
    "INCHES = 32\n",
    "\n",
    "\n",
    "def show_image(image):\n",
    "\n",
    "    fig, ax = plt.subplots(1, 1)\n",
    "\n",
    "    ax.imshow(image, cmap='gray')\n",
    "    ax.axis('off')\n",
    "\n",
    "    fig.set_size_inches(INCHES, INCHES)\n",
    "    plt.show()"
   ]
  },
  {
   "cell_type": "code",
   "execution_count": 4,
   "metadata": {},
   "outputs": [
    {
     "name": "stdout",
     "output_type": "stream",
     "text": [
      "(3321, 4467)\n"
     ]
    }
   ],
   "source": [
    "gray = cv2.imread(IMAGE, cv2.IMREAD_GRAYSCALE)\n",
    "gray = cv2.rotate(gray, cv2.ROTATE_90_CLOCKWISE)\n",
    "\n",
    "print(gray.shape)\n",
    "# show_image(gray)"
   ]
  },
  {
   "cell_type": "code",
   "execution_count": 5,
   "metadata": {},
   "outputs": [
    {
     "name": "stdout",
     "output_type": "stream",
     "text": [
      "STA TFS TTtTCAL ANALY S Tt 5S SY S TEM 1\n",
      "\n",
      "12221 WFONESDAY., DECEMBER 195 1979\n",
      "OBS ID UF TFWw SW wOV TRW USW DFW o9CcWw AGW ASTLOG BIOLaG,\n",
      "\n",
      "(VY!\n",
      "\n",
      "1 DIDELPHIS MARSUST AL YF1I524 206590 0035750 Ce 2800 02182000 126139 Be 37 16282 . ° x o.azaa¥\n",
      "\n",
      "2 DIDFLOHIS MARSUPTAL UFIS79 309150 007250 622609 0e227CO00 227030 7273 162389 13036 1212581 065927\n",
      "3 DIDELPHIS MARSUPT AL UF1967 202320 923680 Ce 3826 2171000 1246190 6092 e © * Oe 3769\n",
      "4 DIDTLPHTS sP PRANGE 323509 ° ° Ge i930C9 e ° ° ° ° 025250\n",
      "5 DIDELPHIS MARSUPTAL PRANGE 209400 ° ° Ce185069 ° ° e ° ° 024633\n",
      "6 DIDELPHIS VIRGINIAN LSIL47 1.5300 Ge2sctc Ce 2690 Ge2075C09 0290698 . ° ° . 001987\n",
      "7 DIDELPHIS VIRGINIAN LSU136 220860 G6e3100 Cel 7090 02112900 124940 ° ° e . 023193\n",
      "8 INSECTI VORA PRANGE GelI 62 * e 6 e000306 ° ° ° ° e —222007\n",
      "9 SYLVTLAGUS FLOPIDAN CUMBAA 122400 021256 922700 Oe 061990 027849 ° ° ° ° 020934\n",
      "10 SYLVILASGUS FLORITAN UF1634 021590 920190 600290 Ce593000 901139 4e12 ° ° . —“O407721\n",
      "11 SYLVILAGJS FLORIDAN UF2166 161950 009745 9e184C 02585069 909530 Se 32 e ° * Oe 9774\n",
      "12 SYLVILAGUS PALUSTETI UF1561 028200 Qe1160 922019 02027000 024979 50235 ° e ° -020862\n",
      "i3 SYLVILAGUS PALUSTRI UF 1605 027909 Oe1950 Oe21Ct C eG3906% 024379 6298 ° ° e —-021024\n",
      "14 SYLVILAGUS FLORIDAN LSU186 12740) 9e1530 Oe 4560 02082009 120520 ° . ° . 02 2405\n",
      "15 SYLVILGAUS AQUATITU LSU250 127806 Oe16CCT 024579 C20720C0 120900 ° ° ° ° 9e?504\n",
      "16 SYLVILAGUYUS AQUATICY LS'I177 12.9109 021900 025490 0 e1¢C9000 120600 ° * ° ° 0e28190\n",
      "17 SYLVIAGUS SP PRANGE 200210 ° e 2181000 ° . ° ° ° 0. 3056\n",
      "18 ERETHIZON SP DRANGE 720000 . ° 02294060 ° ° . ° ° 028451\n",
      "19 MYOCASTER COYPUS UF1492 403369 Oe 7680 029200 Ce244C000 922909 1031 ° e ° 02 6845\n",
      "20 MYOCASTER COYPUS YFI402 1.9200 022650 Ge 5400 029096000 1.20199 9210 ° ° ° 062833\n",
      "21 PEROMYSCUS SP PRANGE 020295 ° ° 02001300 ° e ° ° ° —125302\n",
      "22 PEROMYSCUS SP UF1502 920274 C.20950 ° 020040090 0.20129 1.79 3028 . ° -1.25622\n",
      "23 MICROTUS SP PRANGE 020421 ° ° Ge 001800 ° ° ° ° ° -1.3757\n",
      "24 MICROTUS OCHROGAST UF 1562 Oe 0468 Ge9080 020059 Ge0C17606 029317 1.79 3043 ° ° —1e 2298\n",
      "25 MICROTUS OCHROGAST UF1542 9.9300 9.2001 0200159 02002099 020?759 1266 5263 ° . —-125229\n",
      "26 SIGMODON HISPIDUS UF1i492 020300 OeC150 9201706 G 2001000 020470 2032 7259 ° ° —1e9969\n",
      "2 GLAUCOMYS VOLANS JFLSOT7T Gel 300 620050 0e 0090 02994000 929120 1.35 2 . ° —-1.25229\n",
      "28 EUTAMIAS Ss? PRANGE C.0488 . e O02 002200 ° . ° e ° -1.23116\n",
      "29 CITELLUS SP PRANGE 001140 ° ° 00965200 . ° ° ° « —02 9431\n",
      "36 SCTURIIS SP PRANGS 028450 ° * 02041700 ° ° ° ° . -020731\n",
      "31 SC TURUS CARPOLEINENS CUMBAA 005550 021000 Ce 0850 02021000 0. 3490 ° ° ° * —022557\n",
      "32 SCIURUS CAROLINENS UFISO1 Je 2750 020590 0260300 92915009 921809 4033 * ° . -~025607\n",
      "33 SCTURUS CAROLINENS UFL61° 03659 CeO07O0O CeO 390 Oe 200000 Oe 2459 5ei2 ° ° ° —-024377\n",
      "34 SCIURUS CAROLINE NS YF19I5e 023990 9.25560 Oe C456 OeC18966 90?809 4084 120615 5269 00274819 —-02 3999\n",
      "36 THOMOMYS SP PRANGE Ge1i59 ° . C20C76090 . . ° ° ° —-O04« 9393\n",
      "36 CASTAR $? PRANG> 121469 ° e Oe 022700 e ° ° ° ° 020592\n",
      "37 CAVIA PORCFLLUS YF1508 029550 0 26099 TeGOSO 9eG460C00 226295 . ° e ° —121871\n",
      "38 MUR IDAS PRANGE 320260 * ° 020010646 e . ° ° . —-1.26990\n",
      "39 MUR IDAS PRANG™ 022050 ° ° 02012900 ° ° ° ° ° —-0 26882\n",
      "46 MYOCASTOR COYPUS LSU306 426000 9e855C 124290 Oe276C09 220400 ° ° ° ° 0-2 6628\n",
      "41 ST GMODON HISPTDUS Lsuisi 0e9526 Oe0080 20149 Oe 002000 Ge 0360 . ° ° e —122076\n",
      "42 SCTURUS CAROLINENS LSU239 023639 020540 Oe0h69 C 20183400 022240 ° ° ° ° —024401\n",
      "43 SCIURUS CAROLINENS L35JU143 Ce 3729 020600 004759 0e01970900 922459 ° ° ° ° —024295\n",
      "44 SCTUSPUS CAROLINENS LS'J240 024349 Ce. 0683C 0e0740 020210006 022700 ° . ° ° -023625\n",
      "45 SCTURUS NIGFEE& LSU94 026560 9eC210 020850 Ge0319000 Oe51 89 ° e ° ° -0213831\n",
      "46 SCIURUS NIGER LSU257 0240999 Ge 0699 CeO8B20 02016490 922399 . ° ° ° —-O0-4. 3833\n",
      "47 RATTUS NORVEG LSU244 023909 020676 020676 020152006 022419 ° ° « ° —0 04979\n",
      "48 CASTOR CANA LSU79 1504999 2049606 4.7609 028090006 72 3400 ° ° ° ° 121875\n",
      "49 PROCYON LOTOR UF1534 206300 ° ° 02200000 ° 11.272 ° ° ° 00«4281\n",
      "56 PROCYON LOTOR UFi538 322609 ° ° ° ° 12439 ° e ° 025132\n",
      "51 PROCYON LOTOR UF1538 3e 350% * ° ° ° 192990 e . ° 0.4857\n",
      "52 PROCYON LOTOR UF1533 2034559 . . e ° 12220 * ° ° 024533\n",
      "53 PROCYON LOTOR UF1559 322250 0 e5 2506 023400 21282309 223300 12.90 25020 ° ° 0e5218\n",
      "54 PROCYON LOTOR UFL 54690 423160 Oe 7420 . 02223000 207999 12469 ° ° ° 026827\n",
      "55 PROCYON LOTOR UF1562 12906 022900 ° 02062006 120400 9250 . ° ° 901430\n",
      "56 PROCYON LOTOR UF1563 204609 024800 022650 Ce197000 126090 11636 ° ° e 023909\n",
      "S57 PROCYON LOTOR YFLS74 4.26C0 0.9050 021700 C2 234060 209410 12048 25250 ° ° Ce 6294\n",
      "58 PROCYSN LOTOR UF1587 3245359 926200 Ce 4CCO Se226000 223900 12238 e s ° 0e5605\n",
      "59 PROCYON LOTOR YFL609 426700 228600 12.0300 02220000 205109 126<2l ° ° ° Oe 6693\n",
      "60 PROCYON LOTOR PRANGE 4e2109 ° ° 0e233000 ° ° ° e ° 926243\n",
      "61 POTOS SP PRANGE 2025009 « ° Ce2128900 ° ° ° ° ° 02 3522\n",
      "62 PROCYON LOTOR LSJ154 126520 0230006 Oe 3139 92980460 029709 ° ° ° ° 0e2180\n",
      "63 PROCYON LOTOS LSU690 3e2000 004360 025140 02175000 220269 ° ° e ° 025051\n",
      "64 PROCYON LOTOR LSJIJ152 307719 926570 Oe 7140 02193590 222099 ° * . ° 0265765\n",
      "65 LUTRA CANADENE TS UF2157 9268300 1-9R0C 128609 ° . 11.75 32053 ° ° 029859\n",
      "6566 MUSTFELUS FRENATA UF 13556 923820 0 eS74HC 020579 ° e 4016 ° ° . —-02e4179\n",
      "67 MUSTELUS SP PRANGE %e3500 . ° C 2017300 ° . ° ° ° —-02« 4559\n",
      "68 SPILOGALE SP PRANGF Ge1490 ° ° 02010000 ° ° ° ° ° —0 28268\n",
      "69 MEPHITIS MEPHITIS LSIJ1L70 1.2260 Cel RCO %e 1400 6294425090 022195 ° . ° ° 020086\n",
      "70 MEPHITIS MEPHITIS LSJU297 207300 004399 902375 02081100 129209 ° ° ° ° 024440\n",
      "7i MUSTFLA VISION LSU142 026590 C 02210 Oe1430 02050200 02245) ° ° ° e —021811\n",
      "72 LYNX RUFUS UF1333 302309 ° 028400 02295000 ° 13261 ° . ° 027202\n",
      "73 LYNX RUFUS YF2109 5e 8200 92200 Oe 7809 02697000 Je 8030 13053 29079 ° ° 07649\n",
      "\f",
      "\n"
     ]
    }
   ],
   "source": [
    "ocr = image_to_string(gray, lang='eng', config='allometry.config')\n",
    "print(ocr)"
   ]
  },
  {
   "cell_type": "code",
   "execution_count": 6,
   "metadata": {},
   "outputs": [],
   "source": [
    "kernel = np.ones((4, 4), np.uint8)\n",
    "\n",
    "binary = None\n",
    "\n",
    "\n",
    "def binarize(threshold):\n",
    "    global binary\n",
    "    print(threshold)\n",
    "\n",
    "#     binary = cv2.threshold(gray, 0, threshold, cv2.THRESH_BINARY)[1]\n",
    "#     binary = cv2.threshold(\n",
    "#         gray, 0, threshold,\n",
    "#         cv2.THRESH_OTSU)[1]\n",
    "\n",
    "    binary = cv2.adaptiveThreshold(\n",
    "        gray, 255, cv2.ADAPTIVE_THRESH_GAUSSIAN_C, cv2.THRESH_BINARY, 21, 2)\n",
    "\n",
    "    show_image(binary)\n",
    "\n",
    "\n",
    "# interact(binarize, threshold=(0, 255))"
   ]
  },
  {
   "cell_type": "code",
   "execution_count": 7,
   "metadata": {},
   "outputs": [
    {
     "ename": "TypeError",
     "evalue": "Unsupported image object",
     "output_type": "error",
     "traceback": [
      "\u001b[0;31m---------------------------------------------------------------------------\u001b[0m",
      "\u001b[0;31mTypeError\u001b[0m                                 Traceback (most recent call last)",
      "\u001b[0;32m<ipython-input-7-a3105f3f50c5>\u001b[0m in \u001b[0;36m<module>\u001b[0;34m\u001b[0m\n\u001b[0;32m----> 1\u001b[0;31m \u001b[0mocr\u001b[0m \u001b[0;34m=\u001b[0m \u001b[0mimage_to_string\u001b[0m\u001b[0;34m(\u001b[0m\u001b[0mbinary\u001b[0m\u001b[0;34m,\u001b[0m \u001b[0mlang\u001b[0m\u001b[0;34m=\u001b[0m\u001b[0;34m'eng'\u001b[0m\u001b[0;34m,\u001b[0m \u001b[0mconfig\u001b[0m\u001b[0;34m=\u001b[0m\u001b[0;34m'allometry.config'\u001b[0m\u001b[0;34m)\u001b[0m\u001b[0;34m\u001b[0m\u001b[0;34m\u001b[0m\u001b[0m\n\u001b[0m\u001b[1;32m      2\u001b[0m \u001b[0mprint\u001b[0m\u001b[0;34m(\u001b[0m\u001b[0mocr\u001b[0m\u001b[0;34m)\u001b[0m\u001b[0;34m\u001b[0m\u001b[0;34m\u001b[0m\u001b[0m\n",
      "\u001b[0;32m~/work/other/allometry_data/venv/lib/python3.9/site-packages/pytesseract/pytesseract.py\u001b[0m in \u001b[0;36mimage_to_string\u001b[0;34m(image, lang, config, nice, output_type, timeout)\u001b[0m\n\u001b[1;32m    407\u001b[0m     \u001b[0margs\u001b[0m \u001b[0;34m=\u001b[0m \u001b[0;34m[\u001b[0m\u001b[0mimage\u001b[0m\u001b[0;34m,\u001b[0m \u001b[0;34m'txt'\u001b[0m\u001b[0;34m,\u001b[0m \u001b[0mlang\u001b[0m\u001b[0;34m,\u001b[0m \u001b[0mconfig\u001b[0m\u001b[0;34m,\u001b[0m \u001b[0mnice\u001b[0m\u001b[0;34m,\u001b[0m \u001b[0mtimeout\u001b[0m\u001b[0;34m]\u001b[0m\u001b[0;34m\u001b[0m\u001b[0;34m\u001b[0m\u001b[0m\n\u001b[1;32m    408\u001b[0m \u001b[0;34m\u001b[0m\u001b[0m\n\u001b[0;32m--> 409\u001b[0;31m     return {\n\u001b[0m\u001b[1;32m    410\u001b[0m         \u001b[0mOutput\u001b[0m\u001b[0;34m.\u001b[0m\u001b[0mBYTES\u001b[0m\u001b[0;34m:\u001b[0m \u001b[0;32mlambda\u001b[0m\u001b[0;34m:\u001b[0m \u001b[0mrun_and_get_output\u001b[0m\u001b[0;34m(\u001b[0m\u001b[0;34m*\u001b[0m\u001b[0;34m(\u001b[0m\u001b[0margs\u001b[0m \u001b[0;34m+\u001b[0m \u001b[0;34m[\u001b[0m\u001b[0;32mTrue\u001b[0m\u001b[0;34m]\u001b[0m\u001b[0;34m)\u001b[0m\u001b[0;34m)\u001b[0m\u001b[0;34m,\u001b[0m\u001b[0;34m\u001b[0m\u001b[0;34m\u001b[0m\u001b[0m\n\u001b[1;32m    411\u001b[0m         \u001b[0mOutput\u001b[0m\u001b[0;34m.\u001b[0m\u001b[0mDICT\u001b[0m\u001b[0;34m:\u001b[0m \u001b[0;32mlambda\u001b[0m\u001b[0;34m:\u001b[0m \u001b[0;34m{\u001b[0m\u001b[0;34m'text'\u001b[0m\u001b[0;34m:\u001b[0m \u001b[0mrun_and_get_output\u001b[0m\u001b[0;34m(\u001b[0m\u001b[0;34m*\u001b[0m\u001b[0margs\u001b[0m\u001b[0;34m)\u001b[0m\u001b[0;34m}\u001b[0m\u001b[0;34m,\u001b[0m\u001b[0;34m\u001b[0m\u001b[0;34m\u001b[0m\u001b[0m\n",
      "\u001b[0;32m~/work/other/allometry_data/venv/lib/python3.9/site-packages/pytesseract/pytesseract.py\u001b[0m in \u001b[0;36m<lambda>\u001b[0;34m()\u001b[0m\n\u001b[1;32m    410\u001b[0m         \u001b[0mOutput\u001b[0m\u001b[0;34m.\u001b[0m\u001b[0mBYTES\u001b[0m\u001b[0;34m:\u001b[0m \u001b[0;32mlambda\u001b[0m\u001b[0;34m:\u001b[0m \u001b[0mrun_and_get_output\u001b[0m\u001b[0;34m(\u001b[0m\u001b[0;34m*\u001b[0m\u001b[0;34m(\u001b[0m\u001b[0margs\u001b[0m \u001b[0;34m+\u001b[0m \u001b[0;34m[\u001b[0m\u001b[0;32mTrue\u001b[0m\u001b[0;34m]\u001b[0m\u001b[0;34m)\u001b[0m\u001b[0;34m)\u001b[0m\u001b[0;34m,\u001b[0m\u001b[0;34m\u001b[0m\u001b[0;34m\u001b[0m\u001b[0m\n\u001b[1;32m    411\u001b[0m         \u001b[0mOutput\u001b[0m\u001b[0;34m.\u001b[0m\u001b[0mDICT\u001b[0m\u001b[0;34m:\u001b[0m \u001b[0;32mlambda\u001b[0m\u001b[0;34m:\u001b[0m \u001b[0;34m{\u001b[0m\u001b[0;34m'text'\u001b[0m\u001b[0;34m:\u001b[0m \u001b[0mrun_and_get_output\u001b[0m\u001b[0;34m(\u001b[0m\u001b[0;34m*\u001b[0m\u001b[0margs\u001b[0m\u001b[0;34m)\u001b[0m\u001b[0;34m}\u001b[0m\u001b[0;34m,\u001b[0m\u001b[0;34m\u001b[0m\u001b[0;34m\u001b[0m\u001b[0m\n\u001b[0;32m--> 412\u001b[0;31m         \u001b[0mOutput\u001b[0m\u001b[0;34m.\u001b[0m\u001b[0mSTRING\u001b[0m\u001b[0;34m:\u001b[0m \u001b[0;32mlambda\u001b[0m\u001b[0;34m:\u001b[0m \u001b[0mrun_and_get_output\u001b[0m\u001b[0;34m(\u001b[0m\u001b[0;34m*\u001b[0m\u001b[0margs\u001b[0m\u001b[0;34m)\u001b[0m\u001b[0;34m,\u001b[0m\u001b[0;34m\u001b[0m\u001b[0;34m\u001b[0m\u001b[0m\n\u001b[0m\u001b[1;32m    413\u001b[0m     }[output_type]()\n\u001b[1;32m    414\u001b[0m \u001b[0;34m\u001b[0m\u001b[0m\n",
      "\u001b[0;32m~/work/other/allometry_data/venv/lib/python3.9/site-packages/pytesseract/pytesseract.py\u001b[0m in \u001b[0;36mrun_and_get_output\u001b[0;34m(image, extension, lang, config, nice, timeout, return_bytes)\u001b[0m\n\u001b[1;32m    274\u001b[0m ):\n\u001b[1;32m    275\u001b[0m \u001b[0;34m\u001b[0m\u001b[0m\n\u001b[0;32m--> 276\u001b[0;31m     \u001b[0;32mwith\u001b[0m \u001b[0msave\u001b[0m\u001b[0;34m(\u001b[0m\u001b[0mimage\u001b[0m\u001b[0;34m)\u001b[0m \u001b[0;32mas\u001b[0m \u001b[0;34m(\u001b[0m\u001b[0mtemp_name\u001b[0m\u001b[0;34m,\u001b[0m \u001b[0minput_filename\u001b[0m\u001b[0;34m)\u001b[0m\u001b[0;34m:\u001b[0m\u001b[0;34m\u001b[0m\u001b[0;34m\u001b[0m\u001b[0m\n\u001b[0m\u001b[1;32m    277\u001b[0m         kwargs = {\n\u001b[1;32m    278\u001b[0m             \u001b[0;34m'input_filename'\u001b[0m\u001b[0;34m:\u001b[0m \u001b[0minput_filename\u001b[0m\u001b[0;34m,\u001b[0m\u001b[0;34m\u001b[0m\u001b[0;34m\u001b[0m\u001b[0m\n",
      "\u001b[0;32m/usr/lib/python3.9/contextlib.py\u001b[0m in \u001b[0;36m__enter__\u001b[0;34m(self)\u001b[0m\n\u001b[1;32m    115\u001b[0m         \u001b[0;32mdel\u001b[0m \u001b[0mself\u001b[0m\u001b[0;34m.\u001b[0m\u001b[0margs\u001b[0m\u001b[0;34m,\u001b[0m \u001b[0mself\u001b[0m\u001b[0;34m.\u001b[0m\u001b[0mkwds\u001b[0m\u001b[0;34m,\u001b[0m \u001b[0mself\u001b[0m\u001b[0;34m.\u001b[0m\u001b[0mfunc\u001b[0m\u001b[0;34m\u001b[0m\u001b[0;34m\u001b[0m\u001b[0m\n\u001b[1;32m    116\u001b[0m         \u001b[0;32mtry\u001b[0m\u001b[0;34m:\u001b[0m\u001b[0;34m\u001b[0m\u001b[0;34m\u001b[0m\u001b[0m\n\u001b[0;32m--> 117\u001b[0;31m             \u001b[0;32mreturn\u001b[0m \u001b[0mnext\u001b[0m\u001b[0;34m(\u001b[0m\u001b[0mself\u001b[0m\u001b[0;34m.\u001b[0m\u001b[0mgen\u001b[0m\u001b[0;34m)\u001b[0m\u001b[0;34m\u001b[0m\u001b[0;34m\u001b[0m\u001b[0m\n\u001b[0m\u001b[1;32m    118\u001b[0m         \u001b[0;32mexcept\u001b[0m \u001b[0mStopIteration\u001b[0m\u001b[0;34m:\u001b[0m\u001b[0;34m\u001b[0m\u001b[0;34m\u001b[0m\u001b[0m\n\u001b[1;32m    119\u001b[0m             \u001b[0;32mraise\u001b[0m \u001b[0mRuntimeError\u001b[0m\u001b[0;34m(\u001b[0m\u001b[0;34m\"generator didn't yield\"\u001b[0m\u001b[0;34m)\u001b[0m \u001b[0;32mfrom\u001b[0m \u001b[0;32mNone\u001b[0m\u001b[0;34m\u001b[0m\u001b[0;34m\u001b[0m\u001b[0m\n",
      "\u001b[0;32m~/work/other/allometry_data/venv/lib/python3.9/site-packages/pytesseract/pytesseract.py\u001b[0m in \u001b[0;36msave\u001b[0;34m(image)\u001b[0m\n\u001b[1;32m    197\u001b[0m                 \u001b[0;32myield\u001b[0m \u001b[0mf\u001b[0m\u001b[0;34m.\u001b[0m\u001b[0mname\u001b[0m\u001b[0;34m,\u001b[0m \u001b[0mrealpath\u001b[0m\u001b[0;34m(\u001b[0m\u001b[0mnormpath\u001b[0m\u001b[0;34m(\u001b[0m\u001b[0mnormcase\u001b[0m\u001b[0;34m(\u001b[0m\u001b[0mimage\u001b[0m\u001b[0;34m)\u001b[0m\u001b[0;34m)\u001b[0m\u001b[0;34m)\u001b[0m\u001b[0;34m\u001b[0m\u001b[0;34m\u001b[0m\u001b[0m\n\u001b[1;32m    198\u001b[0m                 \u001b[0;32mreturn\u001b[0m\u001b[0;34m\u001b[0m\u001b[0;34m\u001b[0m\u001b[0m\n\u001b[0;32m--> 199\u001b[0;31m             \u001b[0mimage\u001b[0m\u001b[0;34m,\u001b[0m \u001b[0mextension\u001b[0m \u001b[0;34m=\u001b[0m \u001b[0mprepare\u001b[0m\u001b[0;34m(\u001b[0m\u001b[0mimage\u001b[0m\u001b[0;34m)\u001b[0m\u001b[0;34m\u001b[0m\u001b[0;34m\u001b[0m\u001b[0m\n\u001b[0m\u001b[1;32m    200\u001b[0m             \u001b[0minput_file_name\u001b[0m \u001b[0;34m=\u001b[0m \u001b[0mf\u001b[0m\u001b[0;34m.\u001b[0m\u001b[0mname\u001b[0m \u001b[0;34m+\u001b[0m \u001b[0mextsep\u001b[0m \u001b[0;34m+\u001b[0m \u001b[0mextension\u001b[0m\u001b[0;34m\u001b[0m\u001b[0;34m\u001b[0m\u001b[0m\n\u001b[1;32m    201\u001b[0m             \u001b[0mimage\u001b[0m\u001b[0;34m.\u001b[0m\u001b[0msave\u001b[0m\u001b[0;34m(\u001b[0m\u001b[0minput_file_name\u001b[0m\u001b[0;34m,\u001b[0m \u001b[0mformat\u001b[0m\u001b[0;34m=\u001b[0m\u001b[0mimage\u001b[0m\u001b[0;34m.\u001b[0m\u001b[0mformat\u001b[0m\u001b[0;34m)\u001b[0m\u001b[0;34m\u001b[0m\u001b[0;34m\u001b[0m\u001b[0m\n",
      "\u001b[0;32m~/work/other/allometry_data/venv/lib/python3.9/site-packages/pytesseract/pytesseract.py\u001b[0m in \u001b[0;36mprepare\u001b[0;34m(image)\u001b[0m\n\u001b[1;32m    174\u001b[0m \u001b[0;34m\u001b[0m\u001b[0m\n\u001b[1;32m    175\u001b[0m     \u001b[0;32mif\u001b[0m \u001b[0;32mnot\u001b[0m \u001b[0misinstance\u001b[0m\u001b[0;34m(\u001b[0m\u001b[0mimage\u001b[0m\u001b[0;34m,\u001b[0m \u001b[0mImage\u001b[0m\u001b[0;34m.\u001b[0m\u001b[0mImage\u001b[0m\u001b[0;34m)\u001b[0m\u001b[0;34m:\u001b[0m\u001b[0;34m\u001b[0m\u001b[0;34m\u001b[0m\u001b[0m\n\u001b[0;32m--> 176\u001b[0;31m         \u001b[0;32mraise\u001b[0m \u001b[0mTypeError\u001b[0m\u001b[0;34m(\u001b[0m\u001b[0;34m'Unsupported image object'\u001b[0m\u001b[0;34m)\u001b[0m\u001b[0;34m\u001b[0m\u001b[0;34m\u001b[0m\u001b[0m\n\u001b[0m\u001b[1;32m    177\u001b[0m \u001b[0;34m\u001b[0m\u001b[0m\n\u001b[1;32m    178\u001b[0m     \u001b[0mextension\u001b[0m \u001b[0;34m=\u001b[0m \u001b[0;34m'PNG'\u001b[0m \u001b[0;32mif\u001b[0m \u001b[0;32mnot\u001b[0m \u001b[0mimage\u001b[0m\u001b[0;34m.\u001b[0m\u001b[0mformat\u001b[0m \u001b[0;32melse\u001b[0m \u001b[0mimage\u001b[0m\u001b[0;34m.\u001b[0m\u001b[0mformat\u001b[0m\u001b[0;34m\u001b[0m\u001b[0;34m\u001b[0m\u001b[0m\n",
      "\u001b[0;31mTypeError\u001b[0m: Unsupported image object"
     ]
    }
   ],
   "source": [
    "ocr = image_to_string(binary, lang='eng', config='allometry.config')\n",
    "print(ocr)"
   ]
  },
  {
   "cell_type": "code",
   "execution_count": null,
   "metadata": {},
   "outputs": [],
   "source": [
    "canny = cv2.Canny(binary, 60, 300)  \n",
    "canny = cv2.bitwise_not(canny)\n",
    "# show_image(canny)"
   ]
  },
  {
   "cell_type": "code",
   "execution_count": null,
   "metadata": {},
   "outputs": [],
   "source": [
    "ocr = image_to_string(canny, lang='eng', config='allometry.config')\n",
    "print(ocr)"
   ]
  },
  {
   "cell_type": "code",
   "execution_count": null,
   "metadata": {},
   "outputs": [],
   "source": []
  }
 ],
 "metadata": {
  "kernelspec": {
   "display_name": "Python 3",
   "language": "python",
   "name": "python3"
  },
  "language_info": {
   "codemirror_mode": {
    "name": "ipython",
    "version": 3
   },
   "file_extension": ".py",
   "mimetype": "text/x-python",
   "name": "python",
   "nbconvert_exporter": "python",
   "pygments_lexer": "ipython3",
   "version": "3.9.0+"
  },
  "toc": {
   "base_numbering": 1,
   "nav_menu": {},
   "number_sections": true,
   "sideBar": true,
   "skip_h1_title": false,
   "title_cell": "Table of Contents",
   "title_sidebar": "Contents",
   "toc_cell": false,
   "toc_position": {},
   "toc_section_display": true,
   "toc_window_display": false
  },
  "varInspector": {
   "cols": {
    "lenName": 16,
    "lenType": 16,
    "lenVar": 40
   },
   "kernels_config": {
    "python": {
     "delete_cmd_postfix": "",
     "delete_cmd_prefix": "del ",
     "library": "var_list.py",
     "varRefreshCmd": "print(var_dic_list())"
    },
    "r": {
     "delete_cmd_postfix": ") ",
     "delete_cmd_prefix": "rm(",
     "library": "var_list.r",
     "varRefreshCmd": "cat(var_dic_list()) "
    }
   },
   "types_to_exclude": [
    "module",
    "function",
    "builtin_function_or_method",
    "instance",
    "_Feature"
   ],
   "window_display": false
  }
 },
 "nbformat": 4,
 "nbformat_minor": 4
}
