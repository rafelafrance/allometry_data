{
 "cells": [
  {
   "cell_type": "code",
   "execution_count": 1,
   "id": "absolute-flash",
   "metadata": {},
   "outputs": [],
   "source": [
    "import sys\n",
    "sys.path.append('..')\n",
    "\n",
    "from pathlib import Path\n",
    "import math\n",
    "\n",
    "import pytesseract\n",
    "from PIL import Image, ImageDraw, ImageFilter, ImageFont, ImageOps\n",
    "import tifffile\n",
    "import matplotlib.pyplot as plt\n",
    "from skimage import io\n",
    "\n",
    "from allometry.const import DATA_DIR"
   ]
  },
  {
   "cell_type": "code",
   "execution_count": 2,
   "id": "animated-squad",
   "metadata": {},
   "outputs": [],
   "source": [
    "SHEETS_DIR = DATA_DIR / 'allometry_sheets'"
   ]
  },
  {
   "cell_type": "code",
   "execution_count": 3,
   "id": "disciplinary-march",
   "metadata": {},
   "outputs": [],
   "source": [
    "dirs = sorted(SHEETS_DIR.glob('*'))"
   ]
  },
  {
   "cell_type": "code",
   "execution_count": 4,
   "id": "characteristic-removal",
   "metadata": {},
   "outputs": [],
   "source": [
    "paths = sorted(dirs[1].glob('*.tif'))"
   ]
  },
  {
   "cell_type": "code",
   "execution_count": 5,
   "id": "banner-trade",
   "metadata": {
    "scrolled": false
   },
   "outputs": [],
   "source": [
    "image = Image.open(paths[3])\n",
    "image = image.rotate(90, fillcolor='white')\n",
    "# image"
   ]
  },
  {
   "cell_type": "code",
   "execution_count": 6,
   "id": "liked-royal",
   "metadata": {},
   "outputs": [
    {
     "data": {
      "text/plain": [
       "(4424, 5960)"
      ]
     },
     "execution_count": 6,
     "metadata": {},
     "output_type": "execute_result"
    }
   ],
   "source": [
    "image.size"
   ]
  },
  {
   "cell_type": "code",
   "execution_count": 7,
   "id": "alive-tumor",
   "metadata": {},
   "outputs": [
    {
     "data": {
      "text/plain": [
       "(4608, 6144)"
      ]
     },
     "execution_count": 7,
     "metadata": {},
     "output_type": "execute_result"
    }
   ],
   "source": [
    "x, y = image.size\n",
    "x_pad = math.ceil(x / 512) * 512\n",
    "y_pad = math.ceil(y / 512) * 512\n",
    "cleaned = Image.new('L', (x_pad, y_pad), color='white')\n",
    "padded = Image.new('L', (x_pad, y_pad), color='white')\n",
    "padded.paste(image, image.getbbox())\n",
    "padded.size"
   ]
  },
  {
   "cell_type": "code",
   "execution_count": 8,
   "id": "placed-dallas",
   "metadata": {
    "scrolled": false
   },
   "outputs": [
    {
     "name": "stdout",
     "output_type": "stream",
     "text": [
      "0 0\n",
      "0 512\n",
      "0 1024\n",
      "0 1536\n",
      "0 2048\n",
      "0 2560\n",
      "0 3072\n",
      "0 3584\n",
      "0 4096\n",
      "0 4608\n",
      "0 5120\n",
      "0 5632\n",
      "512 0\n",
      "512 512\n",
      "512 1024\n",
      "512 1536\n",
      "512 2048\n",
      "512 2560\n",
      "512 3072\n",
      "512 3584\n",
      "512 4096\n",
      "512 4608\n",
      "512 5120\n",
      "512 5632\n",
      "1024 0\n",
      "1024 512\n",
      "1024 1024\n",
      "1024 1536\n",
      "1024 2048\n",
      "1024 2560\n",
      "1024 3072\n",
      "1024 3584\n",
      "1024 4096\n",
      "1024 4608\n",
      "1024 5120\n",
      "1024 5632\n",
      "1536 0\n",
      "1536 512\n",
      "1536 1024\n",
      "1536 1536\n",
      "1536 2048\n",
      "1536 2560\n",
      "1536 3072\n",
      "1536 3584\n",
      "1536 4096\n",
      "1536 4608\n",
      "1536 5120\n",
      "1536 5632\n",
      "2048 0\n",
      "2048 512\n",
      "2048 1024\n",
      "2048 1536\n",
      "2048 2048\n",
      "2048 2560\n",
      "2048 3072\n",
      "2048 3584\n",
      "2048 4096\n",
      "2048 4608\n",
      "2048 5120\n",
      "2048 5632\n",
      "2560 0\n",
      "2560 512\n",
      "2560 1024\n",
      "2560 1536\n",
      "2560 2048\n",
      "2560 2560\n",
      "2560 3072\n",
      "2560 3584\n",
      "2560 4096\n",
      "2560 4608\n",
      "2560 5120\n",
      "2560 5632\n",
      "3072 0\n",
      "3072 512\n",
      "3072 1024\n",
      "3072 1536\n",
      "3072 2048\n",
      "3072 2560\n",
      "3072 3072\n",
      "3072 3584\n",
      "3072 4096\n",
      "3072 4608\n",
      "3072 5120\n",
      "3072 5632\n",
      "3584 0\n",
      "3584 512\n",
      "3584 1024\n",
      "3584 1536\n",
      "3584 2048\n",
      "3584 2560\n",
      "3584 3072\n",
      "3584 3584\n",
      "3584 4096\n",
      "3584 4608\n",
      "3584 5120\n",
      "3584 5632\n",
      "4096 0\n",
      "4096 512\n",
      "4096 1024\n",
      "4096 1536\n",
      "4096 2048\n",
      "4096 2560\n",
      "4096 3072\n",
      "4096 3584\n",
      "4096 4096\n",
      "4096 4608\n",
      "4096 5120\n",
      "4096 5632\n"
     ]
    }
   ],
   "source": [
    "for x in range(0, padded.size[0], 512):\n",
    "    for y in range(0, padded.size[1], 512):\n",
    "        print(x, y)\n",
    "        box = (x, y, x + 512, y + 512)\n",
    "        part = padded.crop(box)\n",
    "        # send to model\n",
    "        cleaned.paste(part, box)"
   ]
  },
  {
   "cell_type": "code",
   "execution_count": null,
   "id": "statistical-instrumentation",
   "metadata": {},
   "outputs": [],
   "source": []
  }
 ],
 "metadata": {
  "kernelspec": {
   "display_name": "Python 3",
   "language": "python",
   "name": "python3"
  },
  "language_info": {
   "codemirror_mode": {
    "name": "ipython",
    "version": 3
   },
   "file_extension": ".py",
   "mimetype": "text/x-python",
   "name": "python",
   "nbconvert_exporter": "python",
   "pygments_lexer": "ipython3",
   "version": "3.9.0+"
  },
  "varInspector": {
   "cols": {
    "lenName": 16,
    "lenType": 16,
    "lenVar": 40
   },
   "kernels_config": {
    "python": {
     "delete_cmd_postfix": "",
     "delete_cmd_prefix": "del ",
     "library": "var_list.py",
     "varRefreshCmd": "print(var_dic_list())"
    },
    "r": {
     "delete_cmd_postfix": ") ",
     "delete_cmd_prefix": "rm(",
     "library": "var_list.r",
     "varRefreshCmd": "cat(var_dic_list()) "
    }
   },
   "types_to_exclude": [
    "module",
    "function",
    "builtin_function_or_method",
    "instance",
    "_Feature"
   ],
   "window_display": false
  }
 },
 "nbformat": 4,
 "nbformat_minor": 5
}